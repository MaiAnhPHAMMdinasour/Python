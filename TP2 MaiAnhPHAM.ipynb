{
 "cells": [
  {
   "cell_type": "markdown",
   "id": "d15ba98b",
   "metadata": {},
   "source": [
    "### Exercice 1: Liste"
   ]
  },
  {
   "cell_type": "markdown",
   "id": "c72eae20",
   "metadata": {},
   "source": [
    "*Produisez la liste des valeurs de 4x+2y+z où x, y, z varient chacun entre 0 et 1. Afficher sa longeur"
   ]
  },
  {
   "cell_type": "code",
   "execution_count": 1,
   "id": "70f55ba7",
   "metadata": {},
   "outputs": [
    {
     "data": {
      "text/plain": [
       "[4.4, 3.1, 4.2]"
      ]
     },
     "execution_count": 1,
     "metadata": {},
     "output_type": "execute_result"
    }
   ],
   "source": [
    "x= [0.5,0.7,1]\n",
    "y= [0.3,0.5,0.9]\n",
    "z= [0.5,0.7,0.8]\n",
    "\n",
    "resultat=[]\n",
    "for i,j,k in (x,y,z): \n",
    "    resultat.append(4*i +2*j +k)\n",
    "resultat"
   ]
  },
  {
   "cell_type": "markdown",
   "id": "8ec0500e",
   "metadata": {},
   "source": [
    "### Exercice 2: Boucles"
   ]
  },
  {
   "cell_type": "markdown",
   "id": "3da175c5",
   "metadata": {},
   "source": [
    "*Verifiez pour de grandes valeurs de n dans les formules des sommes de séries suivantes"
   ]
  },
  {
   "cell_type": "code",
   "execution_count": 2,
   "id": "700dc839",
   "metadata": {},
   "outputs": [],
   "source": [
    "def sum_i(n):\n",
    "    resultat=0\n",
    "    for i in range(1,n+1):\n",
    "        resultat +=i\n",
    "    return resultat"
   ]
  },
  {
   "cell_type": "code",
   "execution_count": 3,
   "id": "49b739e0",
   "metadata": {},
   "outputs": [
    {
     "data": {
      "text/plain": [
       "23048655"
      ]
     },
     "execution_count": 3,
     "metadata": {},
     "output_type": "execute_result"
    }
   ],
   "source": [
    "sum_i(6789)"
   ]
  },
  {
   "cell_type": "code",
   "execution_count": 4,
   "id": "0339725b",
   "metadata": {},
   "outputs": [],
   "source": [
    "def sum_j(n):\n",
    "    resultat=0\n",
    "    for j in range(1,n+1):\n",
    "        resultat +=j*j\n",
    "    return resultat"
   ]
  },
  {
   "cell_type": "code",
   "execution_count": 6,
   "id": "ff638b39",
   "metadata": {},
   "outputs": [
    {
     "data": {
      "text/plain": [
       "26901858961"
      ]
     },
     "execution_count": 6,
     "metadata": {},
     "output_type": "execute_result"
    }
   ],
   "source": [
    "sum_j(4321)"
   ]
  },
  {
   "cell_type": "markdown",
   "id": "8b1e964e",
   "metadata": {},
   "source": [
    "### Exercice 3: Fonctions"
   ]
  },
  {
   "cell_type": "markdown",
   "id": "2ce832cc",
   "metadata": {},
   "source": [
    "*Proposez une fonction maj() qui vérifie qu'une liste de caractères ne contient que des lettres majuscules en utilisant la fonction ord\n",
    "majuscules: ASCII est compris entre 65 et 90"
   ]
  },
  {
   "cell_type": "code",
   "execution_count": 2,
   "id": "20308951",
   "metadata": {},
   "outputs": [],
   "source": [
    "def maj(liste):\n",
    "    res=[]\n",
    "    for e in liste:\n",
    "        if ord(e)>=65 and ord(e)<=90:\n",
    "            res.append(True)\n",
    "        else:\n",
    "            res.append(False)\n",
    "            \n",
    "        return all(res)"
   ]
  },
  {
   "cell_type": "markdown",
   "id": "c5381980",
   "metadata": {},
   "source": [
    "Tester la fonction avec les listes"
   ]
  },
  {
   "cell_type": "code",
   "execution_count": 4,
   "id": "de0b65f1",
   "metadata": {},
   "outputs": [
    {
     "name": "stdout",
     "output_type": "stream",
     "text": [
      "True\n",
      "True\n"
     ]
    }
   ],
   "source": [
    "List1 = [\"Y\",\"e\",\"s\"]\n",
    "List2 = [\"N\",\"O\",\"N\"]\n",
    "print(maj(List1))\n",
    "print(maj(List2))"
   ]
  }
 ],
 "metadata": {
  "kernelspec": {
   "display_name": "tp2",
   "language": "python",
   "name": "tp2"
  },
  "language_info": {
   "codemirror_mode": {
    "name": "ipython",
    "version": 3
   },
   "file_extension": ".py",
   "mimetype": "text/x-python",
   "name": "python",
   "nbconvert_exporter": "python",
   "pygments_lexer": "ipython3",
   "version": "3.9.11"
  }
 },
 "nbformat": 4,
 "nbformat_minor": 5
}
