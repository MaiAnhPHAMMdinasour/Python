{
 "cells": [
  {
   "cell_type": "code",
   "execution_count": 2,
   "id": "a6704c5f",
   "metadata": {},
   "outputs": [],
   "source": [
    "import numpy as np"
   ]
  },
  {
   "cell_type": "markdown",
   "id": "d06b2def",
   "metadata": {},
   "source": [
    "# OPERATE ON NUMPY ARRAYS"
   ]
  },
  {
   "cell_type": "markdown",
   "id": "e385075c",
   "metadata": {},
   "source": [
    "## Create a NumPy array from a Python list"
   ]
  },
  {
   "cell_type": "code",
   "execution_count": 2,
   "id": "91bd0745",
   "metadata": {},
   "outputs": [
    {
     "data": {
      "text/plain": [
       "array([1, 4, 2, 5, 3])"
      ]
     },
     "execution_count": 2,
     "metadata": {},
     "output_type": "execute_result"
    }
   ],
   "source": [
    "np.array([1, 4, 2, 5, 3])"
   ]
  },
  {
   "cell_type": "code",
   "execution_count": 3,
   "id": "90661e19",
   "metadata": {},
   "outputs": [
    {
     "data": {
      "text/plain": [
       "array([3.14, 4.  , 2.  , 3.  ])"
      ]
     },
     "execution_count": 3,
     "metadata": {},
     "output_type": "execute_result"
    }
   ],
   "source": [
    "np.array([3.14, 4, 2, 3])"
   ]
  },
  {
   "cell_type": "markdown",
   "id": "0ff72f2d",
   "metadata": {},
   "source": [
    "## Create a NumPy array manually"
   ]
  },
  {
   "cell_type": "code",
   "execution_count": 4,
   "id": "3a1db84b",
   "metadata": {},
   "outputs": [
    {
     "data": {
      "text/plain": [
       "array([1., 2., 3., 4.], dtype=float32)"
      ]
     },
     "execution_count": 4,
     "metadata": {},
     "output_type": "execute_result"
    }
   ],
   "source": [
    "np.array([1, 2, 3, 4], dtype='float32')"
   ]
  },
  {
   "cell_type": "markdown",
   "id": "b13d97e7",
   "metadata": {},
   "source": [
    "array filled with 0, of one or two dimension "
   ]
  },
  {
   "cell_type": "code",
   "execution_count": 5,
   "id": "52d69433",
   "metadata": {},
   "outputs": [
    {
     "data": {
      "text/plain": [
       "array([0., 0., 0.])"
      ]
     },
     "execution_count": 5,
     "metadata": {},
     "output_type": "execute_result"
    }
   ],
   "source": [
    "np.zeros(3)"
   ]
  },
  {
   "cell_type": "code",
   "execution_count": 21,
   "id": "4cf76476",
   "metadata": {},
   "outputs": [
    {
     "data": {
      "text/plain": [
       "array([[0., 0., 0.],\n",
       "       [0., 0., 0.]])"
      ]
     },
     "execution_count": 21,
     "metadata": {},
     "output_type": "execute_result"
    }
   ],
   "source": [
    "np.zeros((2,3))"
   ]
  },
  {
   "cell_type": "markdown",
   "id": "845c2bb2",
   "metadata": {},
   "source": [
    "An array of size 4x5 filled with 1 (float), use np.ones \n",
    "or with any number, use np.full"
   ]
  },
  {
   "cell_type": "code",
   "execution_count": 6,
   "id": "896d5569",
   "metadata": {},
   "outputs": [
    {
     "data": {
      "text/plain": [
       "array([[1., 1., 1., 1., 1.],\n",
       "       [1., 1., 1., 1., 1.],\n",
       "       [1., 1., 1., 1., 1.],\n",
       "       [1., 1., 1., 1., 1.]])"
      ]
     },
     "execution_count": 6,
     "metadata": {},
     "output_type": "execute_result"
    }
   ],
   "source": [
    "np.ones((4, 5))"
   ]
  },
  {
   "cell_type": "code",
   "execution_count": 7,
   "id": "25a3abbd",
   "metadata": {},
   "outputs": [
    {
     "data": {
      "text/plain": [
       "array([[3.14, 3.14, 3.14, 3.14],\n",
       "       [3.14, 3.14, 3.14, 3.14],\n",
       "       [3.14, 3.14, 3.14, 3.14],\n",
       "       [3.14, 3.14, 3.14, 3.14],\n",
       "       [3.14, 3.14, 3.14, 3.14]])"
      ]
     },
     "execution_count": 7,
     "metadata": {},
     "output_type": "execute_result"
    }
   ],
   "source": [
    "np.full((5, 4), 3.14)"
   ]
  },
  {
   "cell_type": "markdown",
   "id": "b580e1df",
   "metadata": {},
   "source": [
    "example with x as an array of size 10x20 filled with 4"
   ]
  },
  {
   "cell_type": "code",
   "execution_count": 9,
   "id": "d13b6431",
   "metadata": {},
   "outputs": [],
   "source": [
    "x = np.full((10, 20), 4)"
   ]
  },
  {
   "cell_type": "code",
   "execution_count": 20,
   "id": "0a7f7b74",
   "metadata": {},
   "outputs": [
    {
     "data": {
      "text/plain": [
       "array([[4, 4, 4, 4, 4, 4, 4, 4, 4, 4, 4, 4, 4, 4, 4, 4, 4, 4, 4, 4],\n",
       "       [4, 4, 4, 4, 4, 4, 4, 4, 4, 4, 4, 4, 4, 4, 4, 4, 4, 4, 4, 4],\n",
       "       [4, 4, 4, 4, 4, 4, 4, 4, 4, 4, 4, 4, 4, 4, 4, 4, 4, 4, 4, 4],\n",
       "       [4, 4, 4, 4, 4, 4, 4, 4, 4, 4, 4, 4, 4, 4, 4, 4, 4, 4, 4, 4],\n",
       "       [4, 4, 4, 4, 4, 4, 4, 4, 4, 4, 4, 4, 4, 4, 4, 4, 4, 4, 4, 4],\n",
       "       [4, 4, 4, 4, 4, 4, 4, 4, 4, 4, 4, 4, 4, 4, 4, 4, 4, 4, 4, 4],\n",
       "       [4, 4, 4, 4, 4, 4, 4, 4, 4, 4, 4, 4, 4, 4, 4, 4, 4, 4, 4, 4],\n",
       "       [4, 4, 4, 4, 4, 4, 4, 4, 4, 4, 4, 4, 4, 4, 4, 4, 4, 4, 4, 4],\n",
       "       [4, 4, 4, 4, 4, 4, 4, 4, 4, 4, 4, 4, 4, 4, 4, 4, 4, 4, 4, 4],\n",
       "       [4, 4, 4, 4, 4, 4, 4, 4, 4, 4, 4, 4, 4, 4, 4, 4, 4, 4, 4, 4]])"
      ]
     },
     "execution_count": 20,
     "metadata": {},
     "output_type": "execute_result"
    }
   ],
   "source": [
    "x"
   ]
  },
  {
   "cell_type": "markdown",
   "id": "a8dcd549",
   "metadata": {},
   "source": [
    "To know how many dimensions an array has, use .ndim"
   ]
  },
  {
   "cell_type": "code",
   "execution_count": 11,
   "id": "586f6363",
   "metadata": {},
   "outputs": [
    {
     "data": {
      "text/plain": [
       "2"
      ]
     },
     "execution_count": 11,
     "metadata": {},
     "output_type": "execute_result"
    }
   ],
   "source": [
    "x.ndim"
   ]
  },
  {
   "cell_type": "markdown",
   "id": "4e219e10",
   "metadata": {},
   "source": [
    "To confirm the dimension of a shape, use .shape"
   ]
  },
  {
   "cell_type": "code",
   "execution_count": 12,
   "id": "43f886cc",
   "metadata": {},
   "outputs": [
    {
     "data": {
      "text/plain": [
       "(10, 20)"
      ]
     },
     "execution_count": 12,
     "metadata": {},
     "output_type": "execute_result"
    }
   ],
   "source": [
    "x.shape"
   ]
  },
  {
   "cell_type": "markdown",
   "id": "9d2da2df",
   "metadata": {},
   "source": [
    "To look at the size, use .size"
   ]
  },
  {
   "cell_type": "code",
   "execution_count": 14,
   "id": "2e7b2153",
   "metadata": {},
   "outputs": [
    {
     "data": {
      "text/plain": [
       "200"
      ]
     },
     "execution_count": 14,
     "metadata": {},
     "output_type": "execute_result"
    }
   ],
   "source": [
    "x.size"
   ]
  },
  {
   "cell_type": "markdown",
   "id": "49192eaa",
   "metadata": {},
   "source": [
    "To see the data type, use .type"
   ]
  },
  {
   "cell_type": "code",
   "execution_count": 15,
   "id": "6cf0644f",
   "metadata": {},
   "outputs": [
    {
     "data": {
      "text/plain": [
       "dtype('int64')"
      ]
     },
     "execution_count": 15,
     "metadata": {},
     "output_type": "execute_result"
    }
   ],
   "source": [
    "x.dtype"
   ]
  },
  {
   "cell_type": "markdown",
   "id": "87abe751",
   "metadata": {},
   "source": [
    "An array containing a linear sequence starting at 0 and going up to 20, with steps of 2"
   ]
  },
  {
   "cell_type": "code",
   "execution_count": 16,
   "id": "dec68ebd",
   "metadata": {},
   "outputs": [
    {
     "data": {
      "text/plain": [
       "array([ 0,  2,  4,  6,  8, 10, 12, 14, 16, 18])"
      ]
     },
     "execution_count": 16,
     "metadata": {},
     "output_type": "execute_result"
    }
   ],
   "source": [
    "np.arange(0, 20, 2)"
   ]
  },
  {
   "cell_type": "markdown",
   "id": "17208373",
   "metadata": {},
   "source": [
    "An array of 5 numbers, linearly spaced between 0 and 1"
   ]
  },
  {
   "cell_type": "code",
   "execution_count": 17,
   "id": "9adcebce",
   "metadata": {},
   "outputs": [
    {
     "data": {
      "text/plain": [
       "array([0.  , 0.25, 0.5 , 0.75, 1.  ])"
      ]
     },
     "execution_count": 17,
     "metadata": {},
     "output_type": "execute_result"
    }
   ],
   "source": [
    "np.linspace(0, 1, 5)"
   ]
  },
  {
   "cell_type": "code",
   "execution_count": 18,
   "id": "878ae80d",
   "metadata": {},
   "outputs": [
    {
     "data": {
      "text/plain": [
       "array([[0.90545813, 0.31951278, 0.31236127],\n",
       "       [0.90645435, 0.45197111, 0.98995064],\n",
       "       [0.6695948 , 0.52472934, 0.63202742]])"
      ]
     },
     "execution_count": 18,
     "metadata": {},
     "output_type": "execute_result"
    }
   ],
   "source": [
    "np.random.random((3, 3))"
   ]
  },
  {
   "cell_type": "code",
   "execution_count": 19,
   "id": "bd71e4e8",
   "metadata": {},
   "outputs": [
    {
     "data": {
      "text/plain": [
       "array([[1., 0., 0.],\n",
       "       [0., 1., 0.],\n",
       "       [0., 0., 1.]])"
      ]
     },
     "execution_count": 19,
     "metadata": {},
     "output_type": "execute_result"
    }
   ],
   "source": [
    "np.eye(3)"
   ]
  },
  {
   "cell_type": "code",
   "execution_count": 22,
   "id": "fea6c305",
   "metadata": {},
   "outputs": [],
   "source": [
    "np.random.seed(0)"
   ]
  },
  {
   "cell_type": "code",
   "execution_count": 23,
   "id": "10e6d9d1",
   "metadata": {},
   "outputs": [],
   "source": [
    "x1 = np.random.randint(10, size=6)"
   ]
  },
  {
   "cell_type": "markdown",
   "id": "ddb653e5",
   "metadata": {},
   "source": [
    "## Useful properties of NumPy arrays"
   ]
  },
  {
   "cell_type": "code",
   "execution_count": 24,
   "id": "081146ac",
   "metadata": {},
   "outputs": [
    {
     "name": "stdout",
     "output_type": "stream",
     "text": [
      "Number of dimensions:  1\n"
     ]
    }
   ],
   "source": [
    "print(\"Number of dimensions: \", x1.ndim)"
   ]
  },
  {
   "cell_type": "code",
   "execution_count": 25,
   "id": "c324fb50",
   "metadata": {},
   "outputs": [
    {
     "name": "stdout",
     "output_type": "stream",
     "text": [
      "Shape:  (6,)\n"
     ]
    }
   ],
   "source": [
    "print(\"Shape: \", x1.shape)"
   ]
  },
  {
   "cell_type": "code",
   "execution_count": 26,
   "id": "bd46e035",
   "metadata": {},
   "outputs": [
    {
     "name": "stdout",
     "output_type": "stream",
     "text": [
      "Size:  6\n"
     ]
    }
   ],
   "source": [
    "print(\"Size: \", x1.size)"
   ]
  },
  {
   "cell_type": "code",
   "execution_count": 27,
   "id": "6a805376",
   "metadata": {},
   "outputs": [
    {
     "name": "stdout",
     "output_type": "stream",
     "text": [
      "Type:  int64\n"
     ]
    }
   ],
   "source": [
    "print(\"Type: \", x1.dtype)"
   ]
  },
  {
   "cell_type": "markdown",
   "id": "7429c008",
   "metadata": {},
   "source": [
    "## Indexing and Slicing"
   ]
  },
  {
   "cell_type": "markdown",
   "id": "0b253e13",
   "metadata": {},
   "source": [
    "print the array x1, the first element and the last element"
   ]
  },
  {
   "cell_type": "code",
   "execution_count": 28,
   "id": "89aac746",
   "metadata": {
    "scrolled": true
   },
   "outputs": [
    {
     "name": "stdout",
     "output_type": "stream",
     "text": [
      "[5 0 3 3 7 9]\n"
     ]
    }
   ],
   "source": [
    "print(x1)"
   ]
  },
  {
   "cell_type": "markdown",
   "id": "cc9c57b5",
   "metadata": {},
   "source": [
    "### Indexing: access specific elements of an array"
   ]
  },
  {
   "cell_type": "code",
   "execution_count": 29,
   "id": "55667241",
   "metadata": {},
   "outputs": [
    {
     "name": "stdout",
     "output_type": "stream",
     "text": [
      "5\n"
     ]
    }
   ],
   "source": [
    "print(x1[0])"
   ]
  },
  {
   "cell_type": "code",
   "execution_count": 30,
   "id": "79da0278",
   "metadata": {},
   "outputs": [
    {
     "name": "stdout",
     "output_type": "stream",
     "text": [
      "9\n"
     ]
    }
   ],
   "source": [
    "print(x1[-1])"
   ]
  },
  {
   "cell_type": "markdown",
   "id": "28e391eb",
   "metadata": {},
   "source": [
    "modify values"
   ]
  },
  {
   "cell_type": "code",
   "execution_count": 31,
   "id": "b5945c26",
   "metadata": {},
   "outputs": [],
   "source": [
    "x1[1] = \"1000\""
   ]
  },
  {
   "cell_type": "code",
   "execution_count": 32,
   "id": "b09d286a",
   "metadata": {},
   "outputs": [
    {
     "name": "stdout",
     "output_type": "stream",
     "text": [
      "[   5 1000    3    3    7    9]\n"
     ]
    }
   ],
   "source": [
    "print(x1)"
   ]
  },
  {
   "cell_type": "markdown",
   "id": "26477239",
   "metadata": {},
   "source": [
    "### Slicing: accessing several elements, extract a subset of a string - combine [] and :"
   ]
  },
  {
   "cell_type": "markdown",
   "id": "cdd4002c",
   "metadata": {},
   "source": [
    "print first 5 elements, elements from 6th on, every two elements and inversion "
   ]
  },
  {
   "cell_type": "code",
   "execution_count": 36,
   "id": "b384fa37",
   "metadata": {},
   "outputs": [
    {
     "name": "stdout",
     "output_type": "stream",
     "text": [
      "[   5 1000    3    3    7]\n"
     ]
    }
   ],
   "source": [
    "print(x1[:5])"
   ]
  },
  {
   "cell_type": "code",
   "execution_count": 37,
   "id": "38bef54b",
   "metadata": {},
   "outputs": [
    {
     "name": "stdout",
     "output_type": "stream",
     "text": [
      "[9]\n"
     ]
    }
   ],
   "source": [
    "print(x1[5:])"
   ]
  },
  {
   "cell_type": "code",
   "execution_count": 38,
   "id": "aa7579c8",
   "metadata": {},
   "outputs": [
    {
     "name": "stdout",
     "output_type": "stream",
     "text": [
      "[5 3 7]\n"
     ]
    }
   ],
   "source": [
    "print(x1[::2])"
   ]
  },
  {
   "cell_type": "markdown",
   "id": "cd31d231",
   "metadata": {},
   "source": [
    "If step is negative, the beginning and the end of the slice are reversed. We can use this to reverse any array"
   ]
  },
  {
   "cell_type": "code",
   "execution_count": 39,
   "id": "a02fc0d5",
   "metadata": {},
   "outputs": [
    {
     "name": "stdout",
     "output_type": "stream",
     "text": [
      "[   9    7    3    3 1000    5]\n"
     ]
    }
   ],
   "source": [
    "print(x1[::-1])"
   ]
  },
  {
   "cell_type": "code",
   "execution_count": 40,
   "id": "2689f6a4",
   "metadata": {},
   "outputs": [
    {
     "name": "stdout",
     "output_type": "stream",
     "text": [
      "[   9    3 1000]\n"
     ]
    }
   ],
   "source": [
    "print(x1[::-2])"
   ]
  },
  {
   "cell_type": "code",
   "execution_count": null,
   "id": "339356ab",
   "metadata": {},
   "outputs": [],
   "source": []
  },
  {
   "cell_type": "markdown",
   "id": "897fc80f",
   "metadata": {},
   "source": [
    "Another array, with two dimension"
   ]
  },
  {
   "cell_type": "code",
   "execution_count": 33,
   "id": "553d369b",
   "metadata": {},
   "outputs": [],
   "source": [
    "x2 = np.random.randint(10, size=(3, 4))"
   ]
  },
  {
   "cell_type": "code",
   "execution_count": 35,
   "id": "a45119e9",
   "metadata": {},
   "outputs": [
    {
     "name": "stdout",
     "output_type": "stream",
     "text": [
      "[[3 5 2 4]\n",
      " [7 6 8 8]\n",
      " [1 6 7 7]]\n"
     ]
    }
   ],
   "source": [
    "print(x2)"
   ]
  },
  {
   "cell_type": "code",
   "execution_count": 45,
   "id": "08901352",
   "metadata": {},
   "outputs": [
    {
     "name": "stdout",
     "output_type": "stream",
     "text": [
      "[[7 7 6 1]\n",
      " [8 8 6 7]\n",
      " [4 2 5 3]]\n"
     ]
    }
   ],
   "source": [
    "print(x2[::-1,::-1])"
   ]
  },
  {
   "cell_type": "code",
   "execution_count": 43,
   "id": "3b12cbe6",
   "metadata": {},
   "outputs": [
    {
     "name": "stdout",
     "output_type": "stream",
     "text": [
      "[[1 6 7 7]\n",
      " [7 6 8 8]\n",
      " [3 5 2 4]]\n"
     ]
    }
   ],
   "source": [
    "print(x2[::-1])"
   ]
  },
  {
   "cell_type": "code",
   "execution_count": 44,
   "id": "ef05f54b",
   "metadata": {},
   "outputs": [
    {
     "name": "stdout",
     "output_type": "stream",
     "text": [
      "[7 8 4]\n"
     ]
    }
   ],
   "source": [
    "print(x2[::-1,-1])"
   ]
  },
  {
   "cell_type": "markdown",
   "id": "1f3a1121",
   "metadata": {},
   "source": [
    "show array in row, column"
   ]
  },
  {
   "cell_type": "code",
   "execution_count": 41,
   "id": "13f8161c",
   "metadata": {},
   "outputs": [
    {
     "data": {
      "text/plain": [
       "array([3, 5, 2, 4])"
      ]
     },
     "execution_count": 41,
     "metadata": {},
     "output_type": "execute_result"
    }
   ],
   "source": [
    "x2[0,:]"
   ]
  },
  {
   "cell_type": "code",
   "execution_count": 42,
   "id": "45b6b871",
   "metadata": {},
   "outputs": [
    {
     "data": {
      "text/plain": [
       "array([5, 6, 6])"
      ]
     },
     "execution_count": 42,
     "metadata": {},
     "output_type": "execute_result"
    }
   ],
   "source": [
    "x2[:,1]"
   ]
  },
  {
   "cell_type": "code",
   "execution_count": 34,
   "id": "0d130f1e",
   "metadata": {
    "scrolled": true
   },
   "outputs": [
    {
     "name": "stdout",
     "output_type": "stream",
     "text": [
      "5\n"
     ]
    }
   ],
   "source": [
    "print(x2[0,1])"
   ]
  },
  {
   "cell_type": "markdown",
   "id": "76c27f9a",
   "metadata": {},
   "source": [
    "## Concatenationg arrays: Join two or more arrays"
   ]
  },
  {
   "cell_type": "code",
   "execution_count": 3,
   "id": "1bcefee7",
   "metadata": {},
   "outputs": [
    {
     "data": {
      "text/plain": [
       "array([1, 2, 3, 3, 2, 1])"
      ]
     },
     "execution_count": 3,
     "metadata": {},
     "output_type": "execute_result"
    }
   ],
   "source": [
    "x = np.array([1, 2, 3])\n",
    "y = np.array([3, 2, 1])\n",
    "np.concatenate([x, y])"
   ]
  },
  {
   "cell_type": "markdown",
   "id": "4e79d1d5",
   "metadata": {},
   "source": [
    "join x with a multidimensional arrat, use vstack or vertical \n",
    "or hstack for horizontal"
   ]
  },
  {
   "cell_type": "code",
   "execution_count": 8,
   "id": "9be2f5fc",
   "metadata": {},
   "outputs": [
    {
     "data": {
      "text/plain": [
       "array([[1, 2, 3],\n",
       "       [9, 8, 7],\n",
       "       [6, 5, 4]])"
      ]
     },
     "execution_count": 8,
     "metadata": {},
     "output_type": "execute_result"
    }
   ],
   "source": [
    "z = np.array([[9, 8, 7],[6, 5, 4]])\n",
    "np.vstack([x, z])"
   ]
  },
  {
   "cell_type": "markdown",
   "id": "18f8bd83",
   "metadata": {},
   "source": [
    "# NumPy functions"
   ]
  },
  {
   "cell_type": "markdown",
   "id": "f3b90074",
   "metadata": {},
   "source": [
    "## Universal functions, simple math"
   ]
  },
  {
   "cell_type": "code",
   "execution_count": 9,
   "id": "bcffbffe",
   "metadata": {},
   "outputs": [],
   "source": [
    "x = np.arange(4)"
   ]
  },
  {
   "cell_type": "code",
   "execution_count": 10,
   "id": "67276a1c",
   "metadata": {},
   "outputs": [
    {
     "name": "stdout",
     "output_type": "stream",
     "text": [
      "x =  [0 1 2 3]\n"
     ]
    }
   ],
   "source": [
    "print(\"x = \", x)"
   ]
  },
  {
   "cell_type": "code",
   "execution_count": 11,
   "id": "3980ef31",
   "metadata": {},
   "outputs": [
    {
     "name": "stdout",
     "output_type": "stream",
     "text": [
      "x + 5 = [5 6 7 8]\n"
     ]
    }
   ],
   "source": [
    "print(\"x + 5 =\", x+5)"
   ]
  },
  {
   "cell_type": "code",
   "execution_count": 12,
   "id": "b15f5c35",
   "metadata": {},
   "outputs": [
    {
     "name": "stdout",
     "output_type": "stream",
     "text": [
      "x - 5 = [-5 -4 -3 -2]\n"
     ]
    }
   ],
   "source": [
    "print(\"x - 5 =\", x-5)"
   ]
  },
  {
   "cell_type": "code",
   "execution_count": 13,
   "id": "fc9448e4",
   "metadata": {},
   "outputs": [
    {
     "name": "stdout",
     "output_type": "stream",
     "text": [
      "x * 5 = [ 0  5 10 15]\n"
     ]
    }
   ],
   "source": [
    "print(\"x * 5 =\", x*5)"
   ]
  },
  {
   "cell_type": "code",
   "execution_count": 14,
   "id": "f0123cb7",
   "metadata": {},
   "outputs": [
    {
     "name": "stdout",
     "output_type": "stream",
     "text": [
      "x / 5 = [0.  0.2 0.4 0.6]\n"
     ]
    }
   ],
   "source": [
    "print(\"x / 5 =\", x/5)"
   ]
  },
  {
   "cell_type": "markdown",
   "id": "dfbdd75a",
   "metadata": {},
   "source": [
    "DIvide and round"
   ]
  },
  {
   "cell_type": "code",
   "execution_count": 15,
   "id": "6bc66ae5",
   "metadata": {},
   "outputs": [
    {
     "name": "stdout",
     "output_type": "stream",
     "text": [
      "x // 2 = [0 0 1 1]\n"
     ]
    }
   ],
   "source": [
    "print(\"x // 2 =\", x//2)"
   ]
  },
  {
   "cell_type": "markdown",
   "id": "48bc6bbc",
   "metadata": {},
   "source": [
    "Functions on Numpy tables and even on Python lists"
   ]
  },
  {
   "cell_type": "code",
   "execution_count": 17,
   "id": "d4930938",
   "metadata": {},
   "outputs": [],
   "source": [
    "y = ([-2, -1, 1, 2])"
   ]
  },
  {
   "cell_type": "code",
   "execution_count": 18,
   "id": "54231d9a",
   "metadata": {},
   "outputs": [
    {
     "name": "stdout",
     "output_type": "stream",
     "text": [
      "Absolute value:  [2 1 1 2]\n"
     ]
    }
   ],
   "source": [
    "print(\"Absolute value: \", np.abs(y))"
   ]
  },
  {
   "cell_type": "code",
   "execution_count": 20,
   "id": "00f018a9",
   "metadata": {},
   "outputs": [
    {
     "name": "stdout",
     "output_type": "stream",
     "text": [
      "Exponential:  [0.13533528 0.36787944 2.71828183 7.3890561 ]\n"
     ]
    }
   ],
   "source": [
    "print(\"Exponential: \", np.exp(y))"
   ]
  },
  {
   "cell_type": "code",
   "execution_count": 22,
   "id": "98a5003b",
   "metadata": {},
   "outputs": [
    {
     "name": "stdout",
     "output_type": "stream",
     "text": [
      "Logarithm:  [0.69314718 0.         0.         0.69314718]\n"
     ]
    }
   ],
   "source": [
    "print(\"Logarithm: \", np.log(np.abs(y)))"
   ]
  },
  {
   "cell_type": "markdown",
   "id": "f0491b7e",
   "metadata": {},
   "source": [
    "## Boolean operations"
   ]
  },
  {
   "cell_type": "code",
   "execution_count": 23,
   "id": "9e102fe0",
   "metadata": {},
   "outputs": [],
   "source": [
    "z = np.random.rand(3,3)"
   ]
  },
  {
   "cell_type": "code",
   "execution_count": 28,
   "id": "0010fc5c",
   "metadata": {},
   "outputs": [
    {
     "data": {
      "text/plain": [
       "array([[0.15055922, 0.97227025, 0.69982505],\n",
       "       [0.55686178, 0.07542645, 0.60234889],\n",
       "       [0.63876735, 0.15652366, 0.81768779]])"
      ]
     },
     "execution_count": 28,
     "metadata": {},
     "output_type": "execute_result"
    }
   ],
   "source": [
    "z"
   ]
  },
  {
   "cell_type": "code",
   "execution_count": 29,
   "id": "6729c55e",
   "metadata": {},
   "outputs": [
    {
     "data": {
      "text/plain": [
       "array([[False,  True,  True],\n",
       "       [ True, False,  True],\n",
       "       [ True, False,  True]])"
      ]
     },
     "execution_count": 29,
     "metadata": {},
     "output_type": "execute_result"
    }
   ],
   "source": [
    "z > 0.5"
   ]
  },
  {
   "cell_type": "code",
   "execution_count": 30,
   "id": "5d2853eb",
   "metadata": {},
   "outputs": [
    {
     "data": {
      "text/plain": [
       "(array([0, 0, 1, 1, 2, 2]), array([1, 2, 0, 2, 0, 2]))"
      ]
     },
     "execution_count": 30,
     "metadata": {},
     "output_type": "execute_result"
    }
   ],
   "source": [
    "np.where(z > 0.5)"
   ]
  },
  {
   "cell_type": "markdown",
   "id": "67a4bcc3",
   "metadata": {},
   "source": [
    "Index of elements > 0,5\n",
    "ligne 0: 1, 2; ligne 1-2: 0,2 (?) "
   ]
  },
  {
   "cell_type": "markdown",
   "id": "14432757",
   "metadata": {},
   "source": [
    "## Aggregation"
   ]
  },
  {
   "cell_type": "markdown",
   "id": "3f941d44",
   "metadata": {},
   "source": [
    "Calculate statistics on the data, such as the mean or standard deviation"
   ]
  },
  {
   "cell_type": "code",
   "execution_count": 31,
   "id": "00a918c4",
   "metadata": {},
   "outputs": [
    {
     "data": {
      "text/plain": [
       "47.92185058341382"
      ]
     },
     "execution_count": 31,
     "metadata": {},
     "output_type": "execute_result"
    }
   ],
   "source": [
    "L = np.random.random(100)\n",
    "np.sum(L)"
   ]
  },
  {
   "cell_type": "code",
   "execution_count": 32,
   "id": "de37a9cd",
   "metadata": {},
   "outputs": [
    {
     "data": {
      "text/plain": [
       "array([0.43330643, 0.41220503, 0.74282683, 0.72214412, 0.34044862,\n",
       "       0.87749928, 0.48559821, 0.67103261, 0.26374805, 0.03295923,\n",
       "       0.4359494 , 0.24380743, 0.92703324, 0.45645884, 0.03334449,\n",
       "       0.05314303, 0.97925368, 0.6750615 , 0.28204747, 0.26934612,\n",
       "       0.4628021 , 0.78692364, 0.19418275, 0.21103021, 0.96010085,\n",
       "       0.21906269, 0.42834683, 0.467248  , 0.48726742, 0.41044983,\n",
       "       0.13597062, 0.57614745, 0.06098272, 0.36276732, 0.41549886,\n",
       "       0.96113955, 0.98600362, 0.16140076, 0.55131401, 0.28172417,\n",
       "       0.11636117, 0.4895567 , 0.98408895, 0.32052153, 0.95196162,\n",
       "       0.4391268 , 0.44651532, 0.61168544, 0.15890278, 0.86030264,\n",
       "       0.88260986, 0.38819829, 0.44254955, 0.4981937 , 0.16507514,\n",
       "       0.42806944, 0.13296423, 0.81262999, 0.33213074, 0.77792757,\n",
       "       0.04344141, 0.21260875, 0.79139831, 0.2166002 , 0.84443896,\n",
       "       0.30555274, 0.11725853, 0.86079332, 0.57826637, 0.91656433,\n",
       "       0.36560618, 0.56215313, 0.06521764, 0.86552971, 0.57756698,\n",
       "       0.42003469, 0.96720312, 0.8506955 , 0.9296707 , 0.69762268,\n",
       "       0.37801857, 0.33853163, 0.2970177 , 0.21004435, 0.54365108,\n",
       "       0.01139929, 0.10278513, 0.01445549, 0.72518122, 0.49791901,\n",
       "       0.26480459, 0.09459096, 0.32517419, 0.65204217, 0.7775932 ,\n",
       "       0.87643774, 0.22688509, 0.60871979, 0.33076756, 0.76066008])"
      ]
     },
     "execution_count": 32,
     "metadata": {},
     "output_type": "execute_result"
    }
   ],
   "source": [
    "L"
   ]
  },
  {
   "cell_type": "code",
   "execution_count": 34,
   "id": "95cf3839",
   "metadata": {},
   "outputs": [
    {
     "name": "stdout",
     "output_type": "stream",
     "text": [
      "21.5 µs ± 731 ns per loop (mean ± std. dev. of 7 runs, 10,000 loops each)\n",
      "23.4 µs ± 1.01 µs per loop (mean ± std. dev. of 7 runs, 10,000 loops each)\n"
     ]
    }
   ],
   "source": [
    "%timeit sum(L)\n",
    "%timeit np.sum(L)"
   ]
  },
  {
   "cell_type": "markdown",
   "id": "85222459",
   "metadata": {},
   "source": [
    "=> The function also exists in Python but NumPy is much faster."
   ]
  },
  {
   "cell_type": "code",
   "execution_count": 35,
   "id": "2dfda71e",
   "metadata": {},
   "outputs": [
    {
     "data": {
      "text/plain": [
       "0.4792185058341382"
      ]
     },
     "execution_count": 35,
     "metadata": {},
     "output_type": "execute_result"
    }
   ],
   "source": [
    "np.mean(L)"
   ]
  },
  {
   "cell_type": "markdown",
   "id": "68afd908",
   "metadata": {},
   "source": [
    "Applied to only one dimension of a multidimensional array"
   ]
  },
  {
   "cell_type": "code",
   "execution_count": 36,
   "id": "8d90c98c",
   "metadata": {},
   "outputs": [],
   "source": [
    "M = np.random.random((3,4))"
   ]
  },
  {
   "cell_type": "code",
   "execution_count": 37,
   "id": "453b8348",
   "metadata": {},
   "outputs": [
    {
     "data": {
      "text/plain": [
       "array([[0.75106409, 0.38346936, 0.20619281, 0.665836  ],\n",
       "       [0.8927566 , 0.09903967, 0.13927916, 0.66773861],\n",
       "       [0.68771265, 0.71175446, 0.41070587, 0.99503957]])"
      ]
     },
     "execution_count": 37,
     "metadata": {},
     "output_type": "execute_result"
    }
   ],
   "source": [
    "M"
   ]
  },
  {
   "cell_type": "code",
   "execution_count": 38,
   "id": "5550acb4",
   "metadata": {},
   "outputs": [
    {
     "name": "stdout",
     "output_type": "stream",
     "text": [
      "Sum of all elements of M:  6.610588852878181\n"
     ]
    }
   ],
   "source": [
    "print(\"Sum of all elements of M: \", M.sum())"
   ]
  },
  {
   "cell_type": "code",
   "execution_count": 39,
   "id": "601c12f2",
   "metadata": {},
   "outputs": [
    {
     "name": "stdout",
     "output_type": "stream",
     "text": [
      "Sum of all elements of M:  [2.33153334 1.19426349 0.75617784 2.32861418]\n"
     ]
    }
   ],
   "source": [
    "print(\"Sum of all elements of M: \", M.sum(axis=0))"
   ]
  },
  {
   "cell_type": "code",
   "execution_count": 40,
   "id": "a8ad7ec6",
   "metadata": {},
   "outputs": [
    {
     "data": {
      "text/plain": [
       "0.28369068974029754"
      ]
     },
     "execution_count": 40,
     "metadata": {},
     "output_type": "execute_result"
    }
   ],
   "source": [
    "np.std(M)"
   ]
  },
  {
   "cell_type": "markdown",
   "id": "bdf197e8",
   "metadata": {},
   "source": [
    "For the standard deviation"
   ]
  },
  {
   "cell_type": "code",
   "execution_count": 41,
   "id": "cffb30d2",
   "metadata": {},
   "outputs": [
    {
     "data": {
      "text/plain": [
       "5"
      ]
     },
     "execution_count": 41,
     "metadata": {},
     "output_type": "execute_result"
    }
   ],
   "source": [
    "np.argmin(M)"
   ]
  },
  {
   "cell_type": "code",
   "execution_count": 42,
   "id": "6c64a57c",
   "metadata": {},
   "outputs": [
    {
     "data": {
      "text/plain": [
       "11"
      ]
     },
     "execution_count": 42,
     "metadata": {},
     "output_type": "execute_result"
    }
   ],
   "source": [
    "np.argmax(M)"
   ]
  },
  {
   "cell_type": "markdown",
   "id": "0f81266a",
   "metadata": {},
   "source": [
    "For the index of the smallest and biggest elements"
   ]
  },
  {
   "cell_type": "markdown",
   "id": "7d39a753",
   "metadata": {},
   "source": [
    "## Broadcasting"
   ]
  },
  {
   "cell_type": "code",
   "execution_count": 45,
   "id": "210e8da6",
   "metadata": {},
   "outputs": [
    {
     "data": {
      "text/plain": [
       "array([5, 6, 7])"
      ]
     },
     "execution_count": 45,
     "metadata": {},
     "output_type": "execute_result"
    }
   ],
   "source": [
    "a = np.array([0, 1, 2])\n",
    "b = np.array([5, 5, 5])\n",
    "a + b"
   ]
  },
  {
   "cell_type": "code",
   "execution_count": 46,
   "id": "71138eb0",
   "metadata": {},
   "outputs": [
    {
     "data": {
      "text/plain": [
       "array([5, 6, 7])"
      ]
     },
     "execution_count": 46,
     "metadata": {},
     "output_type": "execute_result"
    }
   ],
   "source": [
    "a + 5"
   ]
  },
  {
   "cell_type": "code",
   "execution_count": 47,
   "id": "782ebbee",
   "metadata": {
    "scrolled": true
   },
   "outputs": [
    {
     "name": "stdout",
     "output_type": "stream",
     "text": [
      "M is: \n",
      " [[1. 1. 1.]\n",
      " [1. 1. 1.]\n",
      " [1. 1. 1.]]\n",
      "M+a is: `n [[1. 2. 3.]\n",
      " [1. 2. 3.]\n",
      " [1. 2. 3.]]\n"
     ]
    }
   ],
   "source": [
    "M = np.ones((3,3))\n",
    "print(\"M is: \\n\", M)\n",
    "print(\"M+a is: `n\", M+a)"
   ]
  },
  {
   "cell_type": "markdown",
   "id": "cea96c43",
   "metadata": {},
   "source": [
    "# CREATE GRAPHS WITH MATPLOTLIB"
   ]
  },
  {
   "cell_type": "code",
   "execution_count": 1,
   "id": "11500db9",
   "metadata": {},
   "outputs": [],
   "source": [
    "%matplotlib inline"
   ]
  },
  {
   "cell_type": "code",
   "execution_count": 2,
   "id": "3bde2d26",
   "metadata": {},
   "outputs": [],
   "source": [
    "import matplotlib.pyplot as plt"
   ]
  },
  {
   "cell_type": "code",
   "execution_count": 3,
   "id": "9458fa67",
   "metadata": {},
   "outputs": [],
   "source": [
    "plt.style.use('seaborn-whitegrid')"
   ]
  },
  {
   "cell_type": "code",
   "execution_count": 4,
   "id": "9d2d5874",
   "metadata": {},
   "outputs": [],
   "source": [
    "import numpy as np"
   ]
  },
  {
   "cell_type": "markdown",
   "id": "1d3878c1",
   "metadata": {},
   "source": [
    "## Generate simple graphs"
   ]
  },
  {
   "cell_type": "markdown",
   "id": "68652a14",
   "metadata": {},
   "source": [
    "Plotting a function: \n",
    "- The variable  fig  corresponds to a container that contains all objects (axes, labels, data, etc.) \n",
    "- The axes correspond to the grid shown above, which will then contain the graph's data."
   ]
  },
  {
   "cell_type": "markdown",
   "id": "715d84ad",
   "metadata": {},
   "source": [
    "Example: Create a sin curve"
   ]
  },
  {
   "cell_type": "code",
   "execution_count": 5,
   "id": "6e674893",
   "metadata": {},
   "outputs": [
    {
     "data": {
      "text/plain": [
       "[<matplotlib.lines.Line2D at 0x7f13f29a0fa0>]"
      ]
     },
     "execution_count": 5,
     "metadata": {},
     "output_type": "execute_result"
    },
    {
     "data": {
      "image/png": "[encoded data removed]",
      "text/plain": [
       "<Figure size 432x288 with 1 Axes>"
      ]
     },
     "metadata": {},
     "output_type": "display_data"
    }
   ],
   "source": [
    "x = np.linspace(0, 10, 1000)\n",
    "plt.plot(x, np.sin(x))"
   ]
  },
  {
   "cell_type": "markdown",
   "id": "1ad7a07b",
   "metadata": {},
   "source": [
    "Adding some aesthetic elements"
   ]
  },
  {
   "cell_type": "code",
   "execution_count": 6,
   "id": "c582b811",
   "metadata": {},
   "outputs": [
    {
     "data": {
      "text/plain": [
       "[<matplotlib.lines.Line2D at 0x7f13f28b8070>]"
      ]
     },
     "execution_count": 6,
     "metadata": {},
     "output_type": "execute_result"
    },
    {
     "data": {
      "image/png": "[encoded data removed]",
      "text/plain": [
       "<Figure size 432x288 with 1 Axes>"
      ]
     },
     "metadata": {},
     "output_type": "display_data"
    }
   ],
   "source": [
    "plt.rcParams.update({'font.size':15})\n",
    "plt.plot(x, np.sin(x))"
   ]
  },
  {
   "cell_type": "markdown",
   "id": "790974ca",
   "metadata": {},
   "source": [
    "Change font size to 15"
   ]
  },
  {
   "cell_type": "code",
   "execution_count": 7,
   "id": "e0e62ab9",
   "metadata": {},
   "outputs": [
    {
     "data": {
      "text/plain": [
       "Text(0.5, 1.0, 'Sin Curve')"
      ]
     },
     "execution_count": 7,
     "metadata": {},
     "output_type": "execute_result"
    },
    {
     "data": {
      "image/png": "[encoded data removed]",
      "text/plain": [
       "<Figure size 432x288 with 1 Axes>"
      ]
     },
     "metadata": {},
     "output_type": "display_data"
    }
   ],
   "source": [
    "plt.plot(x, np.sin(x), color='black', linestyle='dotted', label='sin(x)')\n",
    "plt.title('Sin Curve')"
   ]
  },
  {
   "cell_type": "markdown",
   "id": "7fc322ff",
   "metadata": {},
   "source": [
    "Example"
   ]
  },
  {
   "cell_type": "code",
   "execution_count": 9,
   "id": "2750341c",
   "metadata": {},
   "outputs": [
    {
     "data": {
      "image/png": "[encoded data removed]",
      "text/plain": [
       "<Figure size 432x288 with 1 Axes>"
      ]
     },
     "metadata": {},
     "output_type": "display_data"
    }
   ],
   "source": [
    "# Change default font size\n",
    "plt.rcParams.update({'font.size': 15})\n",
    "\n",
    "fig = plt.figure()\n",
    "ax = plt.axes()\n",
    "\n",
    "# Solid line, color specified by its name\n",
    "plt.plot(x, np.sin(x - 0), color='blue', linestyle='solid', label='bleu')\n",
    "# Short name for color, dashed line\n",
    "plt.plot(x, np.sin(x - 1), color='g', linestyle='dashed', label='vert')\n",
    "# Grayscale between 0 and 1, dashes and dots\n",
    "plt.plot(x, np.sin(x - 2), color='0.75', linestyle='dashdot', label='gris')\n",
    "# RGB color, dotted line\n",
    "plt.plot(x, np.sin(x - 3), color='#FF0000', linestyle='dotted', label='rouge')\n",
    "# Axis limits. Try also 'tight' and 'equal' to see their effect\n",
    "plt.axis([-1, 11, -1.5, 1.5]);\n",
    "# Labels\n",
    "plt.title(\"Example of a graph\")\n",
    "# The legend is generated from the argument 'label' of 'plot'\n",
    "# 'loc' specified the placement of the legend.\n",
    "plt.legend(loc='lower left');\n",
    "# Axis titles\n",
    "ax = ax.set(xlabel='x', ylabel='sin(x)')"
   ]
  },
  {
   "cell_type": "markdown",
   "id": "1cdc11ce",
   "metadata": {},
   "source": [
    "set axis to get rid of axis wide space"
   ]
  },
  {
   "cell_type": "markdown",
   "id": "fa5cd772",
   "metadata": {},
   "source": [
    "## Visualize uncertainty"
   ]
  },
  {
   "cell_type": "markdown",
   "id": "ba8d76c3",
   "metadata": {},
   "source": [
    "Use error bars to visualize uncertainty because we should be aware of the degree of uncertainty associated with estimates. \n",
    "- It is extremely important to take this into account not only when analyzing the data, but also when representing them"
   ]
  },
  {
   "cell_type": "code",
   "execution_count": 10,
   "id": "36c680b4",
   "metadata": {},
   "outputs": [
    {
     "data": {
      "image/png": "[encoded data removed]",
      "text/plain": [
       "<Figure size 432x288 with 1 Axes>"
      ]
     },
     "metadata": {},
     "output_type": "display_data"
    }
   ],
   "source": [
    "x = np.linspace(0, 10, 50)\n",
    "dy = 0.8\n",
    "y = np.sin(x) + dy * np.random.randn(50)\n",
    "plt.errorbar(x, y, yerr=dy, fmt='.k');"
   ]
  },
  {
   "cell_type": "markdown",
   "id": "c4a8c45e",
   "metadata": {},
   "source": [
    "- Errorbar takes as argument the x-coordinates, y-coordinates and lengths of each bar (one bar per point)  yerr . \n",
    "- Note the  fmt  argument. It allows you to choose the color (here black) and the shape of the markers on the graph "
   ]
  },
  {
   "cell_type": "code",
   "execution_count": 11,
   "id": "662b6168",
   "metadata": {},
   "outputs": [
    {
     "data": {
      "image/png": "[encoded data removed]",
      "text/plain": [
       "<Figure size 432x288 with 1 Axes>"
      ]
     },
     "metadata": {},
     "output_type": "display_data"
    }
   ],
   "source": [
    "plt.errorbar(x, y, yerr=dy, fmt='o', color='black', \n",
    "    ecolor='lightgray', elinewidth=3, capsize=0);"
   ]
  },
  {
   "cell_type": "markdown",
   "id": "ef61357b",
   "metadata": {},
   "source": [
    "Errorbar also allows us to customize the appearance of the graph. "
   ]
  },
  {
   "cell_type": "markdown",
   "id": "79049894",
   "metadata": {},
   "source": [
    "## Customize your plots"
   ]
  },
  {
   "cell_type": "code",
   "execution_count": 17,
   "id": "cac6db41",
   "metadata": {},
   "outputs": [
    {
     "data": {
      "image/png": "[encoded data removed]",
      "text/plain": [
       "<Figure size 400x240 with 1 Axes>"
      ]
     },
     "metadata": {},
     "output_type": "display_data"
    }
   ],
   "source": [
    "x = np.random.randn(1000)\n",
    "\n",
    "plt.style.use('classic')\n",
    "fig=plt.figure(figsize=(5,3))\n",
    "ax = plt.axes(facecolor='#E6E6E6')\n",
    "# Display ticks underneath the axis\n",
    "ax.set_axisbelow(True)\n",
    "# White frame\n",
    "plt.grid(color='w', linestyle='solid')\n",
    "\n",
    "# Hide the frame\n",
    "for spine in ax.spines.values():    \n",
    "    spine.set_visible(False)\n",
    "    \n",
    "# Hide the markers at the top and the right\n",
    "ax.xaxis.tick_bottom()\n",
    "ax.yaxis.tick_left()\n",
    "\n",
    "# Change the color of markers\n",
    "ax.tick_params(colors='gray', direction='out')\n",
    "for tick in ax.get_xticklabels():    \n",
    "    tick.set_color('gray')\n",
    "for tick in ax.get_yticklabels():    \n",
    "    tick.set_color('gray')    \n",
    "    \n",
    "# Change the color of the edges\n",
    "ax.hist(x, edgecolor='#E6E6E6', color='#EE6666');"
   ]
  },
  {
   "cell_type": "markdown",
   "id": "13818fe6",
   "metadata": {},
   "source": [
    "# Data visualization with Seaborn"
   ]
  },
  {
   "cell_type": "markdown",
   "id": "b64e317d",
   "metadata": {},
   "source": [
    "How can Seaborn correct Matplot? - Because Matplotlib:\n",
    "- Can't generate graphics of high aesthetic quality (especially in pre 2.0 versions).\n",
    "- Lacks the functionality to easily create sophisticated statistical analyses.\n",
    "- Features functions that aren't designed to interact with Panda Dataframes (which we will see in the next chapter)."
   ]
  },
  {
   "cell_type": "code",
   "execution_count": 22,
   "id": "43055cfb",
   "metadata": {},
   "outputs": [
    {
     "data": {
      "text/plain": [
       "[<matplotlib.lines.Line2D at 0x7f13dfb96070>]"
      ]
     },
     "execution_count": 22,
     "metadata": {},
     "output_type": "execute_result"
    },
    {
     "data": {
      "image/png": "[encoded data removed]",
      "text/plain": [
       "<Figure size 640x480 with 1 Axes>"
      ]
     },
     "metadata": {},
     "output_type": "display_data"
    }
   ],
   "source": [
    "import seaborn as sns\n",
    "sns.set()\n",
    "x = np.linspace(0, 10, 100)\n",
    "y = np.random.randn(100)\n",
    "plt.plot(x,y)"
   ]
  },
  {
   "cell_type": "markdown",
   "id": "a7f8a9dd",
   "metadata": {},
   "source": [
    "Seaborn also provides us with functions to generate useful plots for statistical analysis. \n",
    "- For example,distplot lets you not only view the histogram of a sample, but also estimate the distribution from which the sample is derived."
   ]
  },
  {
   "cell_type": "code",
   "execution_count": 23,
   "id": "746832fb",
   "metadata": {},
   "outputs": [
    {
     "name": "stderr",
     "output_type": "stream",
     "text": [
      "/home/phammaianh95/.local/lib/python3.9/site-packages/seaborn/distributions.py:2619: FutureWarning: `distplot` is a deprecated function and will be removed in a future version. Please adapt your code to use either `displot` (a figure-level function with similar flexibility) or `histplot` (an axes-level function for histograms).\n",
      "  warnings.warn(msg, FutureWarning)\n"
     ]
    },
    {
     "data": {
      "image/png": "[encoded data removed]",
      "text/plain": [
       "<Figure size 640x480 with 1 Axes>"
      ]
     },
     "metadata": {},
     "output_type": "display_data"
    }
   ],
   "source": [
    "sns.distplot(y, kde=True);"
   ]
  },
  {
   "cell_type": "markdown",
   "id": "b5b9370e",
   "metadata": {},
   "source": [
    "# MANIPULATE A DATASET USING PANDAS"
   ]
  },
  {
   "cell_type": "markdown",
   "id": "0fa24841",
   "metadata": {},
   "source": [
    "## Transfer data from Numpy to Pandas"
   ]
  },
  {
   "cell_type": "markdown",
   "id": "92a486ed",
   "metadata": {},
   "source": [
    "Example : We can characterize a bear by its size. Or rather, by its sizes: say, for example, the size of its legs, the average length of its fur, the size of its tail and the diameter of its belly"
   ]
  },
  {
   "cell_type": "code",
   "execution_count": 115,
   "id": "3d241e69",
   "metadata": {},
   "outputs": [
    {
     "data": {
      "text/plain": [
       "array([100,   5,  20,  80])"
      ]
     },
     "execution_count": 115,
     "metadata": {},
     "output_type": "execute_result"
    }
   ],
   "source": [
    "import numpy as np\n",
    "a_bear_numpy = np.array([100,5,20,80])\n",
    "a_bear_numpy"
   ]
  },
  {
   "cell_type": "markdown",
   "id": "00fb8d56",
   "metadata": {},
   "source": [
    "which means that the bear has legs 100cm long, fur that is 5cm on average, a 20cm tail, and a belly that is 80cm in diameter. That's just one bear. Now we'll add 2 others bear to make a family."
   ]
  },
  {
   "cell_type": "code",
   "execution_count": 116,
   "id": "ea8a5472",
   "metadata": {},
   "outputs": [],
   "source": [
    "bear_family = [    \n",
    "    np.array([100, 5  , 20, 80]), \n",
    "    # Bear mom   \n",
    "    np.array([50 , 2.5, 10, 40]), \n",
    "    # Bear baby    \n",
    "    np.array([110, 6  , 22, 80]), \n",
    "    # Bear dad\n",
    "    ]"
   ]
  },
  {
   "cell_type": "code",
   "execution_count": 117,
   "id": "83c8f610",
   "metadata": {
    "scrolled": false
   },
   "outputs": [
    {
     "data": {
      "text/plain": [
       "array([[100. ,   5. ,  20. ,  80. ],\n",
       "       [ 50. ,   2.5,  10. ,  40. ],\n",
       "       [110. ,   6. ,  22. ,  80. ]])"
      ]
     },
     "execution_count": 117,
     "metadata": {},
     "output_type": "execute_result"
    }
   ],
   "source": [
    "bear_family_numpy = np.array(bear_family)\n",
    "bear_family_numpy"
   ]
  },
  {
   "cell_type": "raw",
   "id": "066ea00c",
   "metadata": {},
   "source": [
    "We have transfered the list of 3 bears into a multidimensional table, by using numpy. \n",
    "Now suppose I want to know the length of the legs (located in position 0 in each list that describes a bear) of the bear located in position 2 in my list (papa bear, because we start at 0). NumPy offers a simple way to do this: bear_family_numpy[2, 0] "
   ]
  },
  {
   "cell_type": "markdown",
   "id": "86c9364b",
   "metadata": {},
   "source": [
    "OK, good! But it'd be even easier to work with a table with rows and column, by using a library called Pandas"
   ]
  },
  {
   "cell_type": "code",
   "execution_count": 118,
   "id": "ff30fd3a",
   "metadata": {},
   "outputs": [
    {
     "data": {
      "text/html": [
       "<div>\n",
       "<style scoped>\n",
       "    .dataframe tbody tr th:only-of-type {\n",
       "        vertical-align: middle;\n",
       "    }\n",
       "\n",
       "    .dataframe tbody tr th {\n",
       "        vertical-align: top;\n",
       "    }\n",
       "\n",
       "    .dataframe thead th {\n",
       "        text-align: right;\n",
       "    }\n",
       "</style>\n",
       "<table border=\"1\" class=\"dataframe\">\n",
       "  <thead>\n",
       "    <tr style=\"text-align: right;\">\n",
       "      <th></th>\n",
       "      <th>0</th>\n",
       "      <th>1</th>\n",
       "      <th>2</th>\n",
       "      <th>3</th>\n",
       "    </tr>\n",
       "  </thead>\n",
       "  <tbody>\n",
       "    <tr>\n",
       "      <th>0</th>\n",
       "      <td>100.0</td>\n",
       "      <td>5.0</td>\n",
       "      <td>20.0</td>\n",
       "      <td>80.0</td>\n",
       "    </tr>\n",
       "    <tr>\n",
       "      <th>1</th>\n",
       "      <td>50.0</td>\n",
       "      <td>2.5</td>\n",
       "      <td>10.0</td>\n",
       "      <td>40.0</td>\n",
       "    </tr>\n",
       "    <tr>\n",
       "      <th>2</th>\n",
       "      <td>110.0</td>\n",
       "      <td>6.0</td>\n",
       "      <td>22.0</td>\n",
       "      <td>80.0</td>\n",
       "    </tr>\n",
       "  </tbody>\n",
       "</table>\n",
       "</div>"
      ],
      "text/plain": [
       "       0    1     2     3\n",
       "0  100.0  5.0  20.0  80.0\n",
       "1   50.0  2.5  10.0  40.0\n",
       "2  110.0  6.0  22.0  80.0"
      ]
     },
     "execution_count": 118,
     "metadata": {},
     "output_type": "execute_result"
    }
   ],
   "source": [
    "import pandas as pd\n",
    "bear_family_df = pd.DataFrame(bear_family)\n",
    "bear_family_df"
   ]
  },
  {
   "cell_type": "markdown",
   "id": "2e026723",
   "metadata": {},
   "source": [
    "We can specify column and row names."
   ]
  },
  {
   "cell_type": "code",
   "execution_count": 119,
   "id": "b9fb4cda",
   "metadata": {},
   "outputs": [
    {
     "data": {
      "text/html": [
       "<div>\n",
       "<style scoped>\n",
       "    .dataframe tbody tr th:only-of-type {\n",
       "        vertical-align: middle;\n",
       "    }\n",
       "\n",
       "    .dataframe tbody tr th {\n",
       "        vertical-align: top;\n",
       "    }\n",
       "\n",
       "    .dataframe thead th {\n",
       "        text-align: right;\n",
       "    }\n",
       "</style>\n",
       "<table border=\"1\" class=\"dataframe\">\n",
       "  <thead>\n",
       "    <tr style=\"text-align: right;\">\n",
       "      <th></th>\n",
       "      <th>leg</th>\n",
       "      <th>hair</th>\n",
       "      <th>tail</th>\n",
       "      <th>belly</th>\n",
       "    </tr>\n",
       "  </thead>\n",
       "  <tbody>\n",
       "    <tr>\n",
       "      <th>mom</th>\n",
       "      <td>100.0</td>\n",
       "      <td>5.0</td>\n",
       "      <td>20.0</td>\n",
       "      <td>80.0</td>\n",
       "    </tr>\n",
       "    <tr>\n",
       "      <th>baby</th>\n",
       "      <td>50.0</td>\n",
       "      <td>2.5</td>\n",
       "      <td>10.0</td>\n",
       "      <td>40.0</td>\n",
       "    </tr>\n",
       "    <tr>\n",
       "      <th>dad</th>\n",
       "      <td>110.0</td>\n",
       "      <td>6.0</td>\n",
       "      <td>22.0</td>\n",
       "      <td>80.0</td>\n",
       "    </tr>\n",
       "  </tbody>\n",
       "</table>\n",
       "</div>"
      ],
      "text/plain": [
       "        leg  hair  tail  belly\n",
       "mom   100.0   5.0  20.0   80.0\n",
       "baby   50.0   2.5  10.0   40.0\n",
       "dad   110.0   6.0  22.0   80.0"
      ]
     },
     "execution_count": 119,
     "metadata": {},
     "output_type": "execute_result"
    }
   ],
   "source": [
    "bear_family_df = pd.DataFrame(bear_family_numpy, \n",
    "                index = ['mom', 'baby', 'dad'],\n",
    "                columns = ['leg', 'hair', 'tail', 'belly']\n",
    "            )\n",
    "\n",
    "bear_family_df"
   ]
  },
  {
   "cell_type": "markdown",
   "id": "7facc1eb",
   "metadata": {},
   "source": [
    "This DataFrame object is similar to Dataframe object in R."
   ]
  },
  {
   "cell_type": "markdown",
   "id": "f4b83e65",
   "metadata": {},
   "source": [
    "## Fonctions of DataFrame in Python"
   ]
  },
  {
   "cell_type": "markdown",
   "id": "a1f2aa6e",
   "metadata": {},
   "source": [
    "### Indexing and slicing"
   ]
  },
  {
   "cell_type": "markdown",
   "id": "301e4836",
   "metadata": {},
   "source": [
    "To return the belly sizes of all bears:"
   ]
  },
  {
   "cell_type": "code",
   "execution_count": 120,
   "id": "90007e4e",
   "metadata": {},
   "outputs": [
    {
     "data": {
      "text/plain": [
       "mom     80.0\n",
       "baby    40.0\n",
       "dad     80.0\n",
       "Name: belly, dtype: float64"
      ]
     },
     "execution_count": 120,
     "metadata": {},
     "output_type": "execute_result"
    }
   ],
   "source": [
    "bear_family_df.belly"
   ]
  },
  {
   "cell_type": "markdown",
   "id": "9dd11a40",
   "metadata": {},
   "source": [
    "To go through the sizes of all the bears, one by one, use iterrows\n",
    "To access a specific bear, by position or by name, use iloc[position] or loc[\"name\"]  "
   ]
  },
  {
   "cell_type": "code",
   "execution_count": 10,
   "id": "5f77b4c6",
   "metadata": {},
   "outputs": [
    {
     "name": "stdout",
     "output_type": "stream",
     "text": [
      "Here is mom bear:\n",
      "leg      100.0\n",
      "hair       5.0\n",
      "tail      20.0\n",
      "belly     80.0\n",
      "Name: mom, dtype: float64\n",
      "--------------------\n",
      "Here is baby bear:\n",
      "leg      50.0\n",
      "hair      2.5\n",
      "tail     10.0\n",
      "belly    40.0\n",
      "Name: baby, dtype: float64\n",
      "--------------------\n",
      "Here is dad bear:\n",
      "leg      110.0\n",
      "hair       6.0\n",
      "tail      22.0\n",
      "belly     80.0\n",
      "Name: dad, dtype: float64\n",
      "--------------------\n"
     ]
    }
   ],
   "source": [
    "for ind_row, content_row in bear_family_df.iterrows():\n",
    "    print(\"Here is %s bear:\" % ind_row)\n",
    "    print(content_row)\n",
    "    print(\"--------------------\")"
   ]
  },
  {
   "cell_type": "code",
   "execution_count": 11,
   "id": "aff39da2",
   "metadata": {},
   "outputs": [
    {
     "data": {
      "text/plain": [
       "leg      110.0\n",
       "hair       6.0\n",
       "tail      22.0\n",
       "belly     80.0\n",
       "Name: dad, dtype: float64"
      ]
     },
     "execution_count": 11,
     "metadata": {},
     "output_type": "execute_result"
    }
   ],
   "source": [
    "bear_family_df.iloc[2] \n",
    "# iloc is the positional index\n",
    "bear_family_df.loc[\"dad\"] \n",
    "# loc is the label-based index"
   ]
  },
  {
   "cell_type": "markdown",
   "id": "437e359b",
   "metadata": {},
   "source": [
    "To find out which bear has a belly diameter of 80cm by testing each element of the belly column, asking if it's equal to 80cm:"
   ]
  },
  {
   "cell_type": "code",
   "execution_count": 121,
   "id": "435e9544",
   "metadata": {},
   "outputs": [
    {
     "data": {
      "text/plain": [
       "mom      True\n",
       "baby    False\n",
       "dad      True\n",
       "Name: belly, dtype: bool"
      ]
     },
     "execution_count": 121,
     "metadata": {},
     "output_type": "execute_result"
    }
   ],
   "source": [
    "bear_family_df[\"belly\"] == 80"
   ]
  },
  {
   "cell_type": "markdown",
   "id": "8eeaaca6",
   "metadata": {},
   "source": [
    "### Filtering"
   ]
  },
  {
   "cell_type": "markdown",
   "id": "924b70e1",
   "metadata": {},
   "source": [
    "OK but we want to select only bears with a belly of 80cm. To do that, we'll merge this previous result with a mask, to keeo only TRUE elements and eliminate FALSE elements"
   ]
  },
  {
   "cell_type": "code",
   "execution_count": 122,
   "id": "40583e34",
   "metadata": {},
   "outputs": [
    {
     "data": {
      "text/html": [
       "<div>\n",
       "<style scoped>\n",
       "    .dataframe tbody tr th:only-of-type {\n",
       "        vertical-align: middle;\n",
       "    }\n",
       "\n",
       "    .dataframe tbody tr th {\n",
       "        vertical-align: top;\n",
       "    }\n",
       "\n",
       "    .dataframe thead th {\n",
       "        text-align: right;\n",
       "    }\n",
       "</style>\n",
       "<table border=\"1\" class=\"dataframe\">\n",
       "  <thead>\n",
       "    <tr style=\"text-align: right;\">\n",
       "      <th></th>\n",
       "      <th>leg</th>\n",
       "      <th>hair</th>\n",
       "      <th>tail</th>\n",
       "      <th>belly</th>\n",
       "    </tr>\n",
       "  </thead>\n",
       "  <tbody>\n",
       "    <tr>\n",
       "      <th>mom</th>\n",
       "      <td>100.0</td>\n",
       "      <td>5.0</td>\n",
       "      <td>20.0</td>\n",
       "      <td>80.0</td>\n",
       "    </tr>\n",
       "    <tr>\n",
       "      <th>dad</th>\n",
       "      <td>110.0</td>\n",
       "      <td>6.0</td>\n",
       "      <td>22.0</td>\n",
       "      <td>80.0</td>\n",
       "    </tr>\n",
       "  </tbody>\n",
       "</table>\n",
       "</div>"
      ],
      "text/plain": [
       "       leg  hair  tail  belly\n",
       "mom  100.0   5.0  20.0   80.0\n",
       "dad  110.0   6.0  22.0   80.0"
      ]
     },
     "execution_count": 122,
     "metadata": {},
     "output_type": "execute_result"
    }
   ],
   "source": [
    "\n",
    "# Or more commonly :\n",
    "bears_80 = bear_family_df[bear_family_df[\"belly\"] == 80]\n",
    "\n",
    "bears_80"
   ]
  },
  {
   "cell_type": "markdown",
   "id": "5b5fa351",
   "metadata": {},
   "source": [
    "To invert the mask, use the operator ~"
   ]
  },
  {
   "cell_type": "code",
   "execution_count": 15,
   "id": "3119d0d9",
   "metadata": {},
   "outputs": [
    {
     "data": {
      "text/html": [
       "<div>\n",
       "<style scoped>\n",
       "    .dataframe tbody tr th:only-of-type {\n",
       "        vertical-align: middle;\n",
       "    }\n",
       "\n",
       "    .dataframe tbody tr th {\n",
       "        vertical-align: top;\n",
       "    }\n",
       "\n",
       "    .dataframe thead th {\n",
       "        text-align: right;\n",
       "    }\n",
       "</style>\n",
       "<table border=\"1\" class=\"dataframe\">\n",
       "  <thead>\n",
       "    <tr style=\"text-align: right;\">\n",
       "      <th></th>\n",
       "      <th>leg</th>\n",
       "      <th>hair</th>\n",
       "      <th>tail</th>\n",
       "      <th>belly</th>\n",
       "    </tr>\n",
       "  </thead>\n",
       "  <tbody>\n",
       "    <tr>\n",
       "      <th>baby</th>\n",
       "      <td>50.0</td>\n",
       "      <td>2.5</td>\n",
       "      <td>10.0</td>\n",
       "      <td>40.0</td>\n",
       "    </tr>\n",
       "  </tbody>\n",
       "</table>\n",
       "</div>"
      ],
      "text/plain": [
       "       leg  hair  tail  belly\n",
       "baby  50.0   2.5  10.0   40.0"
      ]
     },
     "execution_count": 15,
     "metadata": {},
     "output_type": "execute_result"
    }
   ],
   "source": [
    "bear_family_df[~mask]"
   ]
  },
  {
   "cell_type": "markdown",
   "id": "3cbdf9a4",
   "metadata": {},
   "source": [
    "### Adding new data to a DataFrame"
   ]
  },
  {
   "cell_type": "code",
   "execution_count": 16,
   "id": "6ab969fe",
   "metadata": {},
   "outputs": [
    {
     "name": "stderr",
     "output_type": "stream",
     "text": [
      "/tmp/ipykernel_691/1565874478.py:5: FutureWarning: The frame.append method is deprecated and will be removed from pandas in a future version. Use pandas.concat instead.\n",
      "  all_bears = bear_family_df.append(some_bears)\n"
     ]
    },
    {
     "data": {
      "text/html": [
       "<div>\n",
       "<style scoped>\n",
       "    .dataframe tbody tr th:only-of-type {\n",
       "        vertical-align: middle;\n",
       "    }\n",
       "\n",
       "    .dataframe tbody tr th {\n",
       "        vertical-align: top;\n",
       "    }\n",
       "\n",
       "    .dataframe thead th {\n",
       "        text-align: right;\n",
       "    }\n",
       "</style>\n",
       "<table border=\"1\" class=\"dataframe\">\n",
       "  <thead>\n",
       "    <tr style=\"text-align: right;\">\n",
       "      <th></th>\n",
       "      <th>leg</th>\n",
       "      <th>hair</th>\n",
       "      <th>tail</th>\n",
       "      <th>belly</th>\n",
       "    </tr>\n",
       "  </thead>\n",
       "  <tbody>\n",
       "    <tr>\n",
       "      <th>mom</th>\n",
       "      <td>100.0</td>\n",
       "      <td>5.0</td>\n",
       "      <td>20.0</td>\n",
       "      <td>80.0</td>\n",
       "    </tr>\n",
       "    <tr>\n",
       "      <th>baby</th>\n",
       "      <td>50.0</td>\n",
       "      <td>2.5</td>\n",
       "      <td>10.0</td>\n",
       "      <td>40.0</td>\n",
       "    </tr>\n",
       "    <tr>\n",
       "      <th>dad</th>\n",
       "      <td>110.0</td>\n",
       "      <td>6.0</td>\n",
       "      <td>22.0</td>\n",
       "      <td>80.0</td>\n",
       "    </tr>\n",
       "    <tr>\n",
       "      <th>0</th>\n",
       "      <td>105.0</td>\n",
       "      <td>4.0</td>\n",
       "      <td>19.0</td>\n",
       "      <td>80.0</td>\n",
       "    </tr>\n",
       "    <tr>\n",
       "      <th>1</th>\n",
       "      <td>100.0</td>\n",
       "      <td>5.0</td>\n",
       "      <td>20.0</td>\n",
       "      <td>80.0</td>\n",
       "    </tr>\n",
       "  </tbody>\n",
       "</table>\n",
       "</div>"
      ],
      "text/plain": [
       "        leg  hair  tail  belly\n",
       "mom   100.0   5.0  20.0   80.0\n",
       "baby   50.0   2.5  10.0   40.0\n",
       "dad   110.0   6.0  22.0   80.0\n",
       "0     105.0   4.0  19.0   80.0\n",
       "1     100.0   5.0  20.0   80.0"
      ]
     },
     "execution_count": 16,
     "metadata": {},
     "output_type": "execute_result"
    }
   ],
   "source": [
    "some_bears = pd.DataFrame([[105,4,19,80],[100,5,20,80]],\n",
    "# two new bears\n",
    "                            columns = bear_family_df.columns) \n",
    "# same columns as bear_family_df\n",
    "all_bears = bear_family_df.append(some_bears)\n",
    "all_bears"
   ]
  },
  {
   "cell_type": "markdown",
   "id": "013a91e9",
   "metadata": {},
   "source": [
    "### Adding new columns to a DataFrame"
   ]
  },
  {
   "cell_type": "code",
   "execution_count": 18,
   "id": "7478477c",
   "metadata": {},
   "outputs": [
    {
     "data": {
      "text/html": [
       "<div>\n",
       "<style scoped>\n",
       "    .dataframe tbody tr th:only-of-type {\n",
       "        vertical-align: middle;\n",
       "    }\n",
       "\n",
       "    .dataframe tbody tr th {\n",
       "        vertical-align: top;\n",
       "    }\n",
       "\n",
       "    .dataframe thead th {\n",
       "        text-align: right;\n",
       "    }\n",
       "</style>\n",
       "<table border=\"1\" class=\"dataframe\">\n",
       "  <thead>\n",
       "    <tr style=\"text-align: right;\">\n",
       "      <th></th>\n",
       "      <th>leg</th>\n",
       "      <th>hair</th>\n",
       "      <th>tail</th>\n",
       "      <th>belly</th>\n",
       "      <th>sex</th>\n",
       "    </tr>\n",
       "  </thead>\n",
       "  <tbody>\n",
       "    <tr>\n",
       "      <th>mom</th>\n",
       "      <td>100.0</td>\n",
       "      <td>5.0</td>\n",
       "      <td>20.0</td>\n",
       "      <td>80.0</td>\n",
       "      <td>f</td>\n",
       "    </tr>\n",
       "    <tr>\n",
       "      <th>baby</th>\n",
       "      <td>50.0</td>\n",
       "      <td>2.5</td>\n",
       "      <td>10.0</td>\n",
       "      <td>40.0</td>\n",
       "      <td>f</td>\n",
       "    </tr>\n",
       "    <tr>\n",
       "      <th>dad</th>\n",
       "      <td>110.0</td>\n",
       "      <td>6.0</td>\n",
       "      <td>22.0</td>\n",
       "      <td>80.0</td>\n",
       "      <td>m</td>\n",
       "    </tr>\n",
       "  </tbody>\n",
       "</table>\n",
       "</div>"
      ],
      "text/plain": [
       "        leg  hair  tail  belly sex\n",
       "mom   100.0   5.0  20.0   80.0   f\n",
       "baby   50.0   2.5  10.0   40.0   f\n",
       "dad   110.0   6.0  22.0   80.0   m"
      ]
     },
     "execution_count": 18,
     "metadata": {},
     "output_type": "execute_result"
    }
   ],
   "source": [
    "# get names of columns\n",
    "bear_family_df.columns\n",
    "\n",
    "# create a new column, containing strings\n",
    "bear_family_df[\"sex\"] = [\"f\", \"f\", \"m\"]\n",
    "# mom and baby are female, dad is male\n",
    "\n",
    "bear_family_df"
   ]
  },
  {
   "cell_type": "markdown",
   "id": "f2ce7a12",
   "metadata": {},
   "source": [
    "## Apply relational algebra operations on DataFrames"
   ]
  },
  {
   "cell_type": "markdown",
   "id": "fae8d6f0",
   "metadata": {},
   "source": [
    "### Pandas data structures"
   ]
  },
  {
   "cell_type": "markdown",
   "id": "23cfc62e",
   "metadata": {},
   "source": [
    "Pandas has two fundamental data structures, the  Series  and the  DataFrame  . These structures can be seen as a generalization of NumPy's tables and matrices.\n",
    "\n",
    "The key difference between these and NumPy's versions is that Pandas' objects have explicit indexes. Where an element of a NumPy array can only be referred to by its position in the array, each element of a  Series  or  DataFrame  can have an index explicitly designated by the user."
   ]
  },
  {
   "cell_type": "code",
   "execution_count": 34,
   "id": "566430f8",
   "metadata": {},
   "outputs": [
    {
     "name": "stdout",
     "output_type": "stream",
     "text": [
      "data looks like a numpy array:  0    0.25\n",
      "1    0.50\n",
      "2    0.75\n",
      "3    1.00\n",
      "dtype: float64\n"
     ]
    }
   ],
   "source": [
    "import numpy as np\n",
    "import pandas as pd\n",
    "# We can create a series from a lit\n",
    "data = pd.Series([0.25, 0.5, 0.75, 1.0])\n",
    "print(\"data looks like a numpy array: \", data)"
   ]
  },
  {
   "cell_type": "code",
   "execution_count": 35,
   "id": "5831f80b",
   "metadata": {},
   "outputs": [
    {
     "name": "stdout",
     "output_type": "stream",
     "text": [
      "data looks like a Python dict:  a    0.25\n",
      "b    0.50\n",
      "c    0.75\n",
      "d    1.00\n",
      "dtype: float64\n"
     ]
    }
   ],
   "source": [
    "# We can manually specify indexes\n",
    "data = pd.Series([0.25, 0.5, 0.75, 1.0],        \n",
    "                index=['a', 'b', 'c', 'd'])\n",
    "print(\"data looks like a Python dict: \", data)"
   ]
  },
  {
   "cell_type": "code",
   "execution_count": 36,
   "id": "56ca4844",
   "metadata": {},
   "outputs": [],
   "source": [
    "# We can create a Series directly from a dict:\n",
    "population_dict = {'California': 38332521,\n",
    "                    'Texas': 26448193,\n",
    "                    'New York': 19651127,               \n",
    "                    'Florida': 19552860,                  \n",
    "                    'Illinois': 12882135}\n",
    "area_dict = {'California': 423967,\n",
    "            'Texas': 695662,\n",
    "            'New York': 141297,\n",
    "            'Florida': 170312,\n",
    "            'Illinois': 149995}\n",
    "\n",
    "population = pd.Series(population_dict)\n",
    "area = pd.Series(area_dict)"
   ]
  },
  {
   "cell_type": "code",
   "execution_count": 38,
   "id": "05f01743",
   "metadata": {},
   "outputs": [
    {
     "name": "stdout",
     "output_type": "stream",
     "text": [
      "California    38332521\n",
      "Texas         26448193\n",
      "New York      19651127\n",
      "Florida       19552860\n",
      "Illinois      12882135\n",
      "dtype: int64\n"
     ]
    }
   ],
   "source": [
    "print(population)"
   ]
  },
  {
   "cell_type": "code",
   "execution_count": 39,
   "id": "62432548",
   "metadata": {},
   "outputs": [
    {
     "name": "stdout",
     "output_type": "stream",
     "text": [
      "California    423967\n",
      "Texas         695662\n",
      "New York      141297\n",
      "Florida       170312\n",
      "Illinois      149995\n",
      "dtype: int64\n"
     ]
    }
   ],
   "source": [
    "print(area)"
   ]
  },
  {
   "cell_type": "markdown",
   "id": "f878b1c2",
   "metadata": {},
   "source": [
    "Create a Data Frame from a series"
   ]
  },
  {
   "cell_type": "code",
   "execution_count": 40,
   "id": "cfc36fcb",
   "metadata": {},
   "outputs": [
    {
     "name": "stdout",
     "output_type": "stream",
     "text": [
      "            population\n",
      "California    38332521\n",
      "Texas         26448193\n",
      "New York      19651127\n",
      "Florida       19552860\n",
      "Illinois      12882135\n"
     ]
    }
   ],
   "source": [
    "df = pd.DataFrame(population, columns=['population'])\n",
    "print(df)"
   ]
  },
  {
   "cell_type": "markdown",
   "id": "13265b68",
   "metadata": {},
   "source": [
    "Create a Data Frame from several series"
   ]
  },
  {
   "cell_type": "code",
   "execution_count": 41,
   "id": "e09ee697",
   "metadata": {},
   "outputs": [
    {
     "name": "stdout",
     "output_type": "stream",
     "text": [
      "            population    area\n",
      "California    38332521  423967\n",
      "Texas         26448193  695662\n",
      "New York      19651127  141297\n",
      "Florida       19552860  170312\n",
      "Illinois      12882135  149995\n"
     ]
    }
   ],
   "source": [
    "df = pd.DataFrame({'population': population,\n",
    "                    'area': area})\n",
    "print(df)"
   ]
  },
  {
   "cell_type": "markdown",
   "id": "28bf6c4c",
   "metadata": {},
   "source": [
    "### Projection and restriction"
   ]
  },
  {
   "cell_type": "markdown",
   "id": "a922e459",
   "metadata": {},
   "source": [
    "Projection is a selection of certain columns and restriction is a selection of certain rows."
   ]
  },
  {
   "cell_type": "code",
   "execution_count": 44,
   "id": "32d814cc",
   "metadata": {},
   "outputs": [
    {
     "name": "stdout",
     "output_type": "stream",
     "text": [
      "              area       pop\n",
      "California  423967  38332521\n",
      "Texas       695662  26448193\n",
      "New York    141297  19651127\n",
      "Florida     170312  19552860\n",
      "Illinois    149995  12882135\n"
     ]
    }
   ],
   "source": [
    "data = pd.DataFrame({'area':area, 'pop':population})\n",
    "print(data)"
   ]
  },
  {
   "cell_type": "code",
   "execution_count": 52,
   "id": "abe7fbc1",
   "metadata": {},
   "outputs": [
    {
     "data": {
      "text/html": [
       "<div>\n",
       "<style scoped>\n",
       "    .dataframe tbody tr th:only-of-type {\n",
       "        vertical-align: middle;\n",
       "    }\n",
       "\n",
       "    .dataframe tbody tr th {\n",
       "        vertical-align: top;\n",
       "    }\n",
       "\n",
       "    .dataframe thead th {\n",
       "        text-align: right;\n",
       "    }\n",
       "</style>\n",
       "<table border=\"1\" class=\"dataframe\">\n",
       "  <thead>\n",
       "    <tr style=\"text-align: right;\">\n",
       "      <th></th>\n",
       "      <th>area</th>\n",
       "      <th>pop</th>\n",
       "    </tr>\n",
       "  </thead>\n",
       "  <tbody>\n",
       "    <tr>\n",
       "      <th>California</th>\n",
       "      <td>423967</td>\n",
       "      <td>38332521</td>\n",
       "    </tr>\n",
       "    <tr>\n",
       "      <th>Texas</th>\n",
       "      <td>695662</td>\n",
       "      <td>26448193</td>\n",
       "    </tr>\n",
       "    <tr>\n",
       "      <th>New York</th>\n",
       "      <td>141297</td>\n",
       "      <td>19651127</td>\n",
       "    </tr>\n",
       "    <tr>\n",
       "      <th>Florida</th>\n",
       "      <td>170312</td>\n",
       "      <td>19552860</td>\n",
       "    </tr>\n",
       "    <tr>\n",
       "      <th>Illinois</th>\n",
       "      <td>149995</td>\n",
       "      <td>12882135</td>\n",
       "    </tr>\n",
       "  </tbody>\n",
       "</table>\n",
       "</div>"
      ],
      "text/plain": [
       "              area       pop\n",
       "California  423967  38332521\n",
       "Texas       695662  26448193\n",
       "New York    141297  19651127\n",
       "Florida     170312  19552860\n",
       "Illinois    149995  12882135"
      ]
     },
     "execution_count": 52,
     "metadata": {},
     "output_type": "execute_result"
    }
   ],
   "source": [
    "data.loc[:'Illinois', :'pop']"
   ]
  },
  {
   "cell_type": "markdown",
   "id": "e6f3fbcf",
   "metadata": {},
   "source": [
    "# PRACTICE"
   ]
  },
  {
   "cell_type": "markdown",
   "id": "3ee63c8b",
   "metadata": {},
   "source": [
    "## Import csv file"
   ]
  },
  {
   "cell_type": "code",
   "execution_count": 16,
   "id": "0a37c7a5",
   "metadata": {},
   "outputs": [],
   "source": [
    "import pandas as pd\n",
    "import matplotlib.pyplot as plt\n",
    "import seaborn as sns\n",
    "import numpy as np\n",
    "data = pd.read_csv('DataFrame.csv')"
   ]
  },
  {
   "cell_type": "code",
   "execution_count": 4,
   "id": "03c18c27",
   "metadata": {},
   "outputs": [
    {
     "data": {
      "text/html": [
       "<div>\n",
       "<style scoped>\n",
       "    .dataframe tbody tr th:only-of-type {\n",
       "        vertical-align: middle;\n",
       "    }\n",
       "\n",
       "    .dataframe tbody tr th {\n",
       "        vertical-align: top;\n",
       "    }\n",
       "\n",
       "    .dataframe thead th {\n",
       "        text-align: right;\n",
       "    }\n",
       "</style>\n",
       "<table border=\"1\" class=\"dataframe\">\n",
       "  <thead>\n",
       "    <tr style=\"text-align: right;\">\n",
       "      <th></th>\n",
       "      <th>ID</th>\n",
       "      <th>gender</th>\n",
       "      <th>age</th>\n",
       "      <th>annual_income</th>\n",
       "      <th>subscription</th>\n",
       "      <th>tenure_months</th>\n",
       "      <th>favorite_news</th>\n",
       "      <th>complaints</th>\n",
       "      <th>monthly_payment</th>\n",
       "      <th>brand_loyalty</th>\n",
       "      <th>news_literacy</th>\n",
       "      <th>sm_engagement</th>\n",
       "    </tr>\n",
       "  </thead>\n",
       "  <tbody>\n",
       "    <tr>\n",
       "      <th>0</th>\n",
       "      <td>s17224</td>\n",
       "      <td>male</td>\n",
       "      <td>26</td>\n",
       "      <td>22839</td>\n",
       "      <td>Daily newspaper + online</td>\n",
       "      <td>32</td>\n",
       "      <td>Science and technology</td>\n",
       "      <td>no</td>\n",
       "      <td>30</td>\n",
       "      <td>9.10</td>\n",
       "      <td>7.68</td>\n",
       "      <td>1.80</td>\n",
       "    </tr>\n",
       "    <tr>\n",
       "      <th>1</th>\n",
       "      <td>z94415</td>\n",
       "      <td>female</td>\n",
       "      <td>52</td>\n",
       "      <td>23672</td>\n",
       "      <td>Newspaper on saturday + online</td>\n",
       "      <td>32</td>\n",
       "      <td>Economy</td>\n",
       "      <td>no</td>\n",
       "      <td>16</td>\n",
       "      <td>4.20</td>\n",
       "      <td>7.09</td>\n",
       "      <td>5.16</td>\n",
       "    </tr>\n",
       "    <tr>\n",
       "      <th>2</th>\n",
       "      <td>s77135</td>\n",
       "      <td>male</td>\n",
       "      <td>33</td>\n",
       "      <td>29005</td>\n",
       "      <td>Newspaper on saturday + online</td>\n",
       "      <td>52</td>\n",
       "      <td>International</td>\n",
       "      <td>no</td>\n",
       "      <td>16</td>\n",
       "      <td>3.26</td>\n",
       "      <td>5.62</td>\n",
       "      <td>2.81</td>\n",
       "    </tr>\n",
       "    <tr>\n",
       "      <th>3</th>\n",
       "      <td>f85163</td>\n",
       "      <td>male</td>\n",
       "      <td>35</td>\n",
       "      <td>26877</td>\n",
       "      <td>Online only</td>\n",
       "      <td>21</td>\n",
       "      <td>Economy</td>\n",
       "      <td>no</td>\n",
       "      <td>12</td>\n",
       "      <td>7.22</td>\n",
       "      <td>3.80</td>\n",
       "      <td>6.47</td>\n",
       "    </tr>\n",
       "    <tr>\n",
       "      <th>4</th>\n",
       "      <td>z10064</td>\n",
       "      <td>male</td>\n",
       "      <td>58</td>\n",
       "      <td>28960</td>\n",
       "      <td>Daily newspaper + online</td>\n",
       "      <td>4</td>\n",
       "      <td>Economy</td>\n",
       "      <td>no</td>\n",
       "      <td>30</td>\n",
       "      <td>8.75</td>\n",
       "      <td>2.98</td>\n",
       "      <td>4.11</td>\n",
       "    </tr>\n",
       "  </tbody>\n",
       "</table>\n",
       "</div>"
      ],
      "text/plain": [
       "       ID  gender  age  annual_income                    subscription  \\\n",
       "0  s17224    male   26          22839        Daily newspaper + online   \n",
       "1  z94415  female   52          23672  Newspaper on saturday + online   \n",
       "2  s77135    male   33          29005  Newspaper on saturday + online   \n",
       "3  f85163    male   35          26877                     Online only   \n",
       "4  z10064    male   58          28960        Daily newspaper + online   \n",
       "\n",
       "   tenure_months           favorite_news complaints  monthly_payment  \\\n",
       "0             32  Science and technology         no               30   \n",
       "1             32                 Economy         no               16   \n",
       "2             52           International         no               16   \n",
       "3             21                 Economy         no               12   \n",
       "4              4                 Economy         no               30   \n",
       "\n",
       "   brand_loyalty  news_literacy  sm_engagement  \n",
       "0           9.10           7.68           1.80  \n",
       "1           4.20           7.09           5.16  \n",
       "2           3.26           5.62           2.81  \n",
       "3           7.22           3.80           6.47  \n",
       "4           8.75           2.98           4.11  "
      ]
     },
     "execution_count": 4,
     "metadata": {},
     "output_type": "execute_result"
    }
   ],
   "source": [
    "data.head()"
   ]
  },
  {
   "cell_type": "code",
   "execution_count": 5,
   "id": "bb76d933",
   "metadata": {},
   "outputs": [
    {
     "data": {
      "text/html": [
       "<div>\n",
       "<style scoped>\n",
       "    .dataframe tbody tr th:only-of-type {\n",
       "        vertical-align: middle;\n",
       "    }\n",
       "\n",
       "    .dataframe tbody tr th {\n",
       "        vertical-align: top;\n",
       "    }\n",
       "\n",
       "    .dataframe thead th {\n",
       "        text-align: right;\n",
       "    }\n",
       "</style>\n",
       "<table border=\"1\" class=\"dataframe\">\n",
       "  <thead>\n",
       "    <tr style=\"text-align: right;\">\n",
       "      <th></th>\n",
       "      <th>age</th>\n",
       "      <th>annual_income</th>\n",
       "      <th>tenure_months</th>\n",
       "      <th>monthly_payment</th>\n",
       "      <th>brand_loyalty</th>\n",
       "      <th>news_literacy</th>\n",
       "      <th>sm_engagement</th>\n",
       "    </tr>\n",
       "  </thead>\n",
       "  <tbody>\n",
       "    <tr>\n",
       "      <th>count</th>\n",
       "      <td>1000.000000</td>\n",
       "      <td>1000.000000</td>\n",
       "      <td>1000.000000</td>\n",
       "      <td>1000.000000</td>\n",
       "      <td>1000.00000</td>\n",
       "      <td>1000.000000</td>\n",
       "      <td>1000.000000</td>\n",
       "    </tr>\n",
       "    <tr>\n",
       "      <th>mean</th>\n",
       "      <td>32.227000</td>\n",
       "      <td>24514.083000</td>\n",
       "      <td>25.027000</td>\n",
       "      <td>20.220000</td>\n",
       "      <td>6.54952</td>\n",
       "      <td>5.018200</td>\n",
       "      <td>4.883010</td>\n",
       "    </tr>\n",
       "    <tr>\n",
       "      <th>std</th>\n",
       "      <td>8.567314</td>\n",
       "      <td>3568.959689</td>\n",
       "      <td>11.314428</td>\n",
       "      <td>7.786413</td>\n",
       "      <td>2.23237</td>\n",
       "      <td>2.181205</td>\n",
       "      <td>2.249088</td>\n",
       "    </tr>\n",
       "    <tr>\n",
       "      <th>min</th>\n",
       "      <td>19.000000</td>\n",
       "      <td>11872.000000</td>\n",
       "      <td>0.000000</td>\n",
       "      <td>12.000000</td>\n",
       "      <td>1.46000</td>\n",
       "      <td>0.040000</td>\n",
       "      <td>0.230000</td>\n",
       "    </tr>\n",
       "    <tr>\n",
       "      <th>25%</th>\n",
       "      <td>25.000000</td>\n",
       "      <td>21888.250000</td>\n",
       "      <td>17.000000</td>\n",
       "      <td>12.000000</td>\n",
       "      <td>4.87000</td>\n",
       "      <td>3.367500</td>\n",
       "      <td>3.010000</td>\n",
       "    </tr>\n",
       "    <tr>\n",
       "      <th>50%</th>\n",
       "      <td>31.000000</td>\n",
       "      <td>24577.500000</td>\n",
       "      <td>25.000000</td>\n",
       "      <td>16.000000</td>\n",
       "      <td>7.05000</td>\n",
       "      <td>5.025000</td>\n",
       "      <td>5.050000</td>\n",
       "    </tr>\n",
       "    <tr>\n",
       "      <th>75%</th>\n",
       "      <td>38.000000</td>\n",
       "      <td>27134.250000</td>\n",
       "      <td>32.000000</td>\n",
       "      <td>30.000000</td>\n",
       "      <td>8.52000</td>\n",
       "      <td>6.582500</td>\n",
       "      <td>6.990000</td>\n",
       "    </tr>\n",
       "    <tr>\n",
       "      <th>max</th>\n",
       "      <td>59.000000</td>\n",
       "      <td>36239.000000</td>\n",
       "      <td>69.000000</td>\n",
       "      <td>30.000000</td>\n",
       "      <td>9.56000</td>\n",
       "      <td>9.970000</td>\n",
       "      <td>9.650000</td>\n",
       "    </tr>\n",
       "  </tbody>\n",
       "</table>\n",
       "</div>"
      ],
      "text/plain": [
       "               age  annual_income  tenure_months  monthly_payment  \\\n",
       "count  1000.000000    1000.000000    1000.000000      1000.000000   \n",
       "mean     32.227000   24514.083000      25.027000        20.220000   \n",
       "std       8.567314    3568.959689      11.314428         7.786413   \n",
       "min      19.000000   11872.000000       0.000000        12.000000   \n",
       "25%      25.000000   21888.250000      17.000000        12.000000   \n",
       "50%      31.000000   24577.500000      25.000000        16.000000   \n",
       "75%      38.000000   27134.250000      32.000000        30.000000   \n",
       "max      59.000000   36239.000000      69.000000        30.000000   \n",
       "\n",
       "       brand_loyalty  news_literacy  sm_engagement  \n",
       "count     1000.00000    1000.000000    1000.000000  \n",
       "mean         6.54952       5.018200       4.883010  \n",
       "std          2.23237       2.181205       2.249088  \n",
       "min          1.46000       0.040000       0.230000  \n",
       "25%          4.87000       3.367500       3.010000  \n",
       "50%          7.05000       5.025000       5.050000  \n",
       "75%          8.52000       6.582500       6.990000  \n",
       "max          9.56000       9.970000       9.650000  "
      ]
     },
     "execution_count": 5,
     "metadata": {},
     "output_type": "execute_result"
    }
   ],
   "source": [
    "data.describe()"
   ]
  },
  {
   "cell_type": "code",
   "execution_count": 6,
   "id": "9de4a33d",
   "metadata": {},
   "outputs": [],
   "source": [
    "from matplotlib import pyplot"
   ]
  },
  {
   "cell_type": "code",
   "execution_count": 7,
   "id": "1473b209",
   "metadata": {},
   "outputs": [
    {
     "data": {
      "text/plain": [
       "0       no\n",
       "1       no\n",
       "2       no\n",
       "3       no\n",
       "4       no\n",
       "      ... \n",
       "995     no\n",
       "996     no\n",
       "997    yes\n",
       "998     no\n",
       "999     no\n",
       "Name: complaints, Length: 1000, dtype: object"
      ]
     },
     "execution_count": 7,
     "metadata": {},
     "output_type": "execute_result"
    }
   ],
   "source": [
    "data.complaints"
   ]
  },
  {
   "cell_type": "code",
   "execution_count": 8,
   "id": "c3029839",
   "metadata": {
    "scrolled": true
   },
   "outputs": [
    {
     "data": {
      "text/plain": [
       "no     758\n",
       "yes    242\n",
       "Name: complaints, dtype: int64"
      ]
     },
     "execution_count": 8,
     "metadata": {},
     "output_type": "execute_result"
    }
   ],
   "source": [
    "data.complaints.value_counts()"
   ]
  },
  {
   "cell_type": "code",
   "execution_count": 9,
   "id": "6e1efbb9",
   "metadata": {},
   "outputs": [
    {
     "data": {
      "text/plain": [
       "Text(0.5, 1.0, 'Plaintes des abonnés aux journaux')"
      ]
     },
     "execution_count": 9,
     "metadata": {},
     "output_type": "execute_result"
    },
    {
     "data": {
      "image/png": "[encoded data removed]",
      "text/plain": [
       "<Figure size 432x288 with 1 Axes>"
      ]
     },
     "metadata": {},
     "output_type": "display_data"
    }
   ],
   "source": [
    "# Creating dataset\n",
    "complaints = ['Oui', 'Non']\n",
    "cpltcount = [242, 758]\n",
    "\n",
    "# Creating plot and adding title           \n",
    "pyplot.pie(cpltcount, labels = complaints, normalize = True,\n",
    "           explode = [0.1, 0.0], colors = ['brown', 'beige'],\n",
    "           autopct = lambda complaints: str(round(complaints, 2)) + '%',\n",
    "           pctdistance = 0.5, labeldistance = 1.2,\n",
    "           shadow = True) \n",
    "pyplot.title('Plaintes des abonnés aux journaux')"
   ]
  },
  {
   "cell_type": "code",
   "execution_count": 10,
   "id": "242c163f",
   "metadata": {},
   "outputs": [
    {
     "data": {
      "text/plain": [
       "male      690\n",
       "female    310\n",
       "Name: gender, dtype: int64"
      ]
     },
     "execution_count": 10,
     "metadata": {},
     "output_type": "execute_result"
    }
   ],
   "source": [
    "data.gender.value_counts()"
   ]
  },
  {
   "cell_type": "code",
   "execution_count": 11,
   "id": "374b39ab",
   "metadata": {},
   "outputs": [
    {
     "data": {
      "text/html": [
       "<div>\n",
       "<style scoped>\n",
       "    .dataframe tbody tr th:only-of-type {\n",
       "        vertical-align: middle;\n",
       "    }\n",
       "\n",
       "    .dataframe tbody tr th {\n",
       "        vertical-align: top;\n",
       "    }\n",
       "\n",
       "    .dataframe thead th {\n",
       "        text-align: right;\n",
       "    }\n",
       "</style>\n",
       "<table border=\"1\" class=\"dataframe\">\n",
       "  <thead>\n",
       "    <tr style=\"text-align: right;\">\n",
       "      <th></th>\n",
       "      <th>ID</th>\n",
       "      <th>gender</th>\n",
       "      <th>age</th>\n",
       "      <th>annual_income</th>\n",
       "      <th>subscription</th>\n",
       "      <th>tenure_months</th>\n",
       "      <th>favorite_news</th>\n",
       "      <th>complaints</th>\n",
       "      <th>monthly_payment</th>\n",
       "      <th>brand_loyalty</th>\n",
       "      <th>news_literacy</th>\n",
       "      <th>sm_engagement</th>\n",
       "    </tr>\n",
       "  </thead>\n",
       "  <tbody>\n",
       "    <tr>\n",
       "      <th>0</th>\n",
       "      <td>s17224</td>\n",
       "      <td>male</td>\n",
       "      <td>26</td>\n",
       "      <td>22839</td>\n",
       "      <td>Daily newspaper + online</td>\n",
       "      <td>32</td>\n",
       "      <td>Science and technology</td>\n",
       "      <td>no</td>\n",
       "      <td>30</td>\n",
       "      <td>9.10</td>\n",
       "      <td>7.68</td>\n",
       "      <td>1.80</td>\n",
       "    </tr>\n",
       "    <tr>\n",
       "      <th>2</th>\n",
       "      <td>s77135</td>\n",
       "      <td>male</td>\n",
       "      <td>33</td>\n",
       "      <td>29005</td>\n",
       "      <td>Newspaper on saturday + online</td>\n",
       "      <td>52</td>\n",
       "      <td>International</td>\n",
       "      <td>no</td>\n",
       "      <td>16</td>\n",
       "      <td>3.26</td>\n",
       "      <td>5.62</td>\n",
       "      <td>2.81</td>\n",
       "    </tr>\n",
       "    <tr>\n",
       "      <th>3</th>\n",
       "      <td>f85163</td>\n",
       "      <td>male</td>\n",
       "      <td>35</td>\n",
       "      <td>26877</td>\n",
       "      <td>Online only</td>\n",
       "      <td>21</td>\n",
       "      <td>Economy</td>\n",
       "      <td>no</td>\n",
       "      <td>12</td>\n",
       "      <td>7.22</td>\n",
       "      <td>3.80</td>\n",
       "      <td>6.47</td>\n",
       "    </tr>\n",
       "    <tr>\n",
       "      <th>4</th>\n",
       "      <td>z10064</td>\n",
       "      <td>male</td>\n",
       "      <td>58</td>\n",
       "      <td>28960</td>\n",
       "      <td>Daily newspaper + online</td>\n",
       "      <td>4</td>\n",
       "      <td>Economy</td>\n",
       "      <td>no</td>\n",
       "      <td>30</td>\n",
       "      <td>8.75</td>\n",
       "      <td>2.98</td>\n",
       "      <td>4.11</td>\n",
       "    </tr>\n",
       "    <tr>\n",
       "      <th>6</th>\n",
       "      <td>d44446</td>\n",
       "      <td>male</td>\n",
       "      <td>32</td>\n",
       "      <td>25905</td>\n",
       "      <td>Daily newspaper + online</td>\n",
       "      <td>24</td>\n",
       "      <td>International</td>\n",
       "      <td>no</td>\n",
       "      <td>30</td>\n",
       "      <td>4.68</td>\n",
       "      <td>6.28</td>\n",
       "      <td>5.12</td>\n",
       "    </tr>\n",
       "    <tr>\n",
       "      <th>...</th>\n",
       "      <td>...</td>\n",
       "      <td>...</td>\n",
       "      <td>...</td>\n",
       "      <td>...</td>\n",
       "      <td>...</td>\n",
       "      <td>...</td>\n",
       "      <td>...</td>\n",
       "      <td>...</td>\n",
       "      <td>...</td>\n",
       "      <td>...</td>\n",
       "      <td>...</td>\n",
       "      <td>...</td>\n",
       "    </tr>\n",
       "    <tr>\n",
       "      <th>994</th>\n",
       "      <td>d98554</td>\n",
       "      <td>male</td>\n",
       "      <td>38</td>\n",
       "      <td>28242</td>\n",
       "      <td>Online only</td>\n",
       "      <td>30</td>\n",
       "      <td>Culture</td>\n",
       "      <td>no</td>\n",
       "      <td>12</td>\n",
       "      <td>7.98</td>\n",
       "      <td>3.49</td>\n",
       "      <td>5.05</td>\n",
       "    </tr>\n",
       "    <tr>\n",
       "      <th>995</th>\n",
       "      <td>p61463</td>\n",
       "      <td>male</td>\n",
       "      <td>43</td>\n",
       "      <td>26476</td>\n",
       "      <td>Newspaper on saturday + online</td>\n",
       "      <td>11</td>\n",
       "      <td>Science and technology</td>\n",
       "      <td>no</td>\n",
       "      <td>16</td>\n",
       "      <td>3.26</td>\n",
       "      <td>2.40</td>\n",
       "      <td>7.35</td>\n",
       "    </tr>\n",
       "    <tr>\n",
       "      <th>996</th>\n",
       "      <td>t47490</td>\n",
       "      <td>male</td>\n",
       "      <td>24</td>\n",
       "      <td>27280</td>\n",
       "      <td>Newspaper on saturday + online</td>\n",
       "      <td>27</td>\n",
       "      <td>International</td>\n",
       "      <td>no</td>\n",
       "      <td>16</td>\n",
       "      <td>8.52</td>\n",
       "      <td>8.41</td>\n",
       "      <td>7.82</td>\n",
       "    </tr>\n",
       "    <tr>\n",
       "      <th>998</th>\n",
       "      <td>b14010</td>\n",
       "      <td>male</td>\n",
       "      <td>44</td>\n",
       "      <td>27335</td>\n",
       "      <td>Online only</td>\n",
       "      <td>27</td>\n",
       "      <td>International</td>\n",
       "      <td>no</td>\n",
       "      <td>12</td>\n",
       "      <td>5.23</td>\n",
       "      <td>2.09</td>\n",
       "      <td>8.97</td>\n",
       "    </tr>\n",
       "    <tr>\n",
       "      <th>999</th>\n",
       "      <td>s79926</td>\n",
       "      <td>male</td>\n",
       "      <td>20</td>\n",
       "      <td>23957</td>\n",
       "      <td>Daily newspaper + online</td>\n",
       "      <td>21</td>\n",
       "      <td>Domestic</td>\n",
       "      <td>no</td>\n",
       "      <td>30</td>\n",
       "      <td>8.01</td>\n",
       "      <td>0.41</td>\n",
       "      <td>6.22</td>\n",
       "    </tr>\n",
       "  </tbody>\n",
       "</table>\n",
       "<p>690 rows × 12 columns</p>\n",
       "</div>"
      ],
      "text/plain": [
       "         ID gender  age  annual_income                    subscription  \\\n",
       "0    s17224   male   26          22839        Daily newspaper + online   \n",
       "2    s77135   male   33          29005  Newspaper on saturday + online   \n",
       "3    f85163   male   35          26877                     Online only   \n",
       "4    z10064   male   58          28960        Daily newspaper + online   \n",
       "6    d44446   male   32          25905        Daily newspaper + online   \n",
       "..      ...    ...  ...            ...                             ...   \n",
       "994  d98554   male   38          28242                     Online only   \n",
       "995  p61463   male   43          26476  Newspaper on saturday + online   \n",
       "996  t47490   male   24          27280  Newspaper on saturday + online   \n",
       "998  b14010   male   44          27335                     Online only   \n",
       "999  s79926   male   20          23957        Daily newspaper + online   \n",
       "\n",
       "     tenure_months           favorite_news complaints  monthly_payment  \\\n",
       "0               32  Science and technology         no               30   \n",
       "2               52           International         no               16   \n",
       "3               21                 Economy         no               12   \n",
       "4                4                 Economy         no               30   \n",
       "6               24           International         no               30   \n",
       "..             ...                     ...        ...              ...   \n",
       "994             30                 Culture         no               12   \n",
       "995             11  Science and technology         no               16   \n",
       "996             27           International         no               16   \n",
       "998             27           International         no               12   \n",
       "999             21                Domestic         no               30   \n",
       "\n",
       "     brand_loyalty  news_literacy  sm_engagement  \n",
       "0             9.10           7.68           1.80  \n",
       "2             3.26           5.62           2.81  \n",
       "3             7.22           3.80           6.47  \n",
       "4             8.75           2.98           4.11  \n",
       "6             4.68           6.28           5.12  \n",
       "..             ...            ...            ...  \n",
       "994           7.98           3.49           5.05  \n",
       "995           3.26           2.40           7.35  \n",
       "996           8.52           8.41           7.82  \n",
       "998           5.23           2.09           8.97  \n",
       "999           8.01           0.41           6.22  \n",
       "\n",
       "[690 rows x 12 columns]"
      ]
     },
     "execution_count": 11,
     "metadata": {},
     "output_type": "execute_result"
    }
   ],
   "source": [
    "data_male = data[data[\"gender\"] == \"male\"]\n",
    "data_male"
   ]
  },
  {
   "cell_type": "code",
   "execution_count": 55,
   "id": "26ab8b5b",
   "metadata": {},
   "outputs": [
    {
     "data": {
      "text/plain": [
       "Economy                   155\n",
       "Sports                    147\n",
       "Domestic                  144\n",
       "Science and technology    140\n",
       "International             140\n",
       "Culture                   138\n",
       "Life&Style                136\n",
       "Name: favorite_news, dtype: int64"
      ]
     },
     "execution_count": 55,
     "metadata": {},
     "output_type": "execute_result"
    }
   ],
   "source": [
    "data.favorite_news.value_counts()"
   ]
  },
  {
   "cell_type": "code",
   "execution_count": 12,
   "id": "362ebb52",
   "metadata": {},
   "outputs": [
    {
     "data": {
      "text/plain": [
       "International             107\n",
       "Economy                   101\n",
       "Culture                   101\n",
       "Domestic                  100\n",
       "Sports                     98\n",
       "Life&Style                 94\n",
       "Science and technology     89\n",
       "Name: favorite_news, dtype: int64"
      ]
     },
     "execution_count": 12,
     "metadata": {},
     "output_type": "execute_result"
    }
   ],
   "source": [
    "data_male = data[data[\"gender\"] == \"male\"]\n",
    "data_male.favorite_news.value_counts()"
   ]
  },
  {
   "cell_type": "code",
   "execution_count": 13,
   "id": "1510ef9d",
   "metadata": {},
   "outputs": [
    {
     "data": {
      "text/plain": [
       "Economy                   54\n",
       "Science and technology    51\n",
       "Sports                    49\n",
       "Domestic                  44\n",
       "Life&Style                42\n",
       "Culture                   37\n",
       "International             33\n",
       "Name: favorite_news, dtype: int64"
      ]
     },
     "execution_count": 13,
     "metadata": {},
     "output_type": "execute_result"
    }
   ],
   "source": [
    "data_female = data[data[\"gender\"] == \"female\"]\n",
    "data_female.favorite_news.value_counts()"
   ]
  },
  {
   "cell_type": "code",
   "execution_count": 44,
   "id": "9e9b8bce",
   "metadata": {},
   "outputs": [],
   "source": [
    "inter = data[data[\"favorite_news\"] == \"International\"]\n",
    "econ = data[data[\"favorite_news\"] == \"Economy\"]\n",
    "cult = data[data[\"favorite_news\"] == \"Culture\"]\n",
    "dom = data[data[\"favorite_news\"] == \"Domestic\"]\n",
    "sports = data[data[\"favorite_news\"] == \"Sports\"]\n",
    "life = data[data[\"favorite_news\"] == \"Life&Style \"]\n",
    "sci = data[data[\"favorite_news\"] == \"Science and technology\"]"
   ]
  },
  {
   "cell_type": "code",
   "execution_count": 100,
   "id": "ea359117",
   "metadata": {},
   "outputs": [
    {
     "data": {
      "text/plain": [
       "<matplotlib.legend.Legend at 0x7ecb1042e100>"
      ]
     },
     "execution_count": 100,
     "metadata": {},
     "output_type": "execute_result"
    },
    {
     "data": {
      "image/png": "[encoded data removed]",
      "text/plain": [
       "<Figure size 432x288 with 1 Axes>"
      ]
     },
     "metadata": {
      "needs_background": "light"
     },
     "output_type": "display_data"
    }
   ],
   "source": [
    "# Creating dataset\n",
    "gender = ['Homme','Femme']\n",
    "homme = [101, 89, 98, 100, 94, 101, 107]\n",
    "femme = [54, 51, 49, 44, 42, 37, 33]\n",
    "\n",
    "# Setting width and range, then creating barplot\n",
    "barWidth = 0.4\n",
    "r1 = range(len(y1))\n",
    "r2 = [x + barWidth for x in r1]\n",
    "\n",
    "pyplot.bar(r1, homme, width = barWidth, color = ['beige' for i in y1],\n",
    "           edgecolor = ['black' for i in y1], linewidth = 0.5)\n",
    "pyplot.bar(r2, femme, width = barWidth, color = ['brown' for i in y1],\n",
    "           edgecolor = ['black' for i in y1], linewidth = 0.5)\n",
    "pyplot.xticks([r + barWidth / 2 for r in range(len(y1))], \n",
    "              ['Economie', 'Science-Tech', 'Sports', 'Domestic', \n",
    "               'Mode de Vie', 'Culture', 'Internationaux'],\n",
    "             rotation = 45)\n",
    "# Adding legend and title           \n",
    "pyplot.title('Les préférés des abonnés', fontsize = 16)\n",
    "pyplot.legend(gender, loc = \"center left\", bbox_to_anchor =(1, 0, 0.5, 1))"
   ]
  },
  {
   "cell_type": "code",
   "execution_count": 39,
   "id": "6f408605",
   "metadata": {
    "scrolled": true
   },
   "outputs": [
    {
     "data": {
      "text/html": [
       "<div>\n",
       "<style scoped>\n",
       "    .dataframe tbody tr th:only-of-type {\n",
       "        vertical-align: middle;\n",
       "    }\n",
       "\n",
       "    .dataframe tbody tr th {\n",
       "        vertical-align: top;\n",
       "    }\n",
       "\n",
       "    .dataframe thead th {\n",
       "        text-align: right;\n",
       "    }\n",
       "</style>\n",
       "<table border=\"1\" class=\"dataframe\">\n",
       "  <thead>\n",
       "    <tr style=\"text-align: right;\">\n",
       "      <th></th>\n",
       "      <th>age</th>\n",
       "      <th>annual_income</th>\n",
       "      <th>tenure_months</th>\n",
       "      <th>monthly_payment</th>\n",
       "      <th>brand_loyalty</th>\n",
       "      <th>news_literacy</th>\n",
       "      <th>sm_engagement</th>\n",
       "    </tr>\n",
       "  </thead>\n",
       "  <tbody>\n",
       "    <tr>\n",
       "      <th>count</th>\n",
       "      <td>690.000000</td>\n",
       "      <td>690.000000</td>\n",
       "      <td>690.000000</td>\n",
       "      <td>690.000000</td>\n",
       "      <td>690.000000</td>\n",
       "      <td>690.000000</td>\n",
       "      <td>690.000000</td>\n",
       "    </tr>\n",
       "    <tr>\n",
       "      <th>mean</th>\n",
       "      <td>32.020290</td>\n",
       "      <td>24392.144928</td>\n",
       "      <td>25.043478</td>\n",
       "      <td>20.400000</td>\n",
       "      <td>6.555522</td>\n",
       "      <td>5.014348</td>\n",
       "      <td>4.827783</td>\n",
       "    </tr>\n",
       "    <tr>\n",
       "      <th>std</th>\n",
       "      <td>8.683076</td>\n",
       "      <td>3610.979647</td>\n",
       "      <td>11.232772</td>\n",
       "      <td>7.857364</td>\n",
       "      <td>2.218886</td>\n",
       "      <td>2.152632</td>\n",
       "      <td>2.281010</td>\n",
       "    </tr>\n",
       "    <tr>\n",
       "      <th>min</th>\n",
       "      <td>19.000000</td>\n",
       "      <td>14952.000000</td>\n",
       "      <td>0.000000</td>\n",
       "      <td>12.000000</td>\n",
       "      <td>1.460000</td>\n",
       "      <td>0.040000</td>\n",
       "      <td>0.230000</td>\n",
       "    </tr>\n",
       "    <tr>\n",
       "      <th>25%</th>\n",
       "      <td>25.000000</td>\n",
       "      <td>21730.000000</td>\n",
       "      <td>17.000000</td>\n",
       "      <td>12.000000</td>\n",
       "      <td>4.870000</td>\n",
       "      <td>3.422500</td>\n",
       "      <td>3.010000</td>\n",
       "    </tr>\n",
       "    <tr>\n",
       "      <th>50%</th>\n",
       "      <td>31.000000</td>\n",
       "      <td>24428.000000</td>\n",
       "      <td>25.000000</td>\n",
       "      <td>16.000000</td>\n",
       "      <td>7.050000</td>\n",
       "      <td>5.015000</td>\n",
       "      <td>4.220000</td>\n",
       "    </tr>\n",
       "    <tr>\n",
       "      <th>75%</th>\n",
       "      <td>38.000000</td>\n",
       "      <td>26949.000000</td>\n",
       "      <td>32.000000</td>\n",
       "      <td>30.000000</td>\n",
       "      <td>8.520000</td>\n",
       "      <td>6.560000</td>\n",
       "      <td>6.990000</td>\n",
       "    </tr>\n",
       "    <tr>\n",
       "      <th>max</th>\n",
       "      <td>59.000000</td>\n",
       "      <td>36239.000000</td>\n",
       "      <td>62.000000</td>\n",
       "      <td>30.000000</td>\n",
       "      <td>9.560000</td>\n",
       "      <td>9.970000</td>\n",
       "      <td>9.650000</td>\n",
       "    </tr>\n",
       "  </tbody>\n",
       "</table>\n",
       "</div>"
      ],
      "text/plain": [
       "              age  annual_income  tenure_months  monthly_payment  \\\n",
       "count  690.000000     690.000000     690.000000       690.000000   \n",
       "mean    32.020290   24392.144928      25.043478        20.400000   \n",
       "std      8.683076    3610.979647      11.232772         7.857364   \n",
       "min     19.000000   14952.000000       0.000000        12.000000   \n",
       "25%     25.000000   21730.000000      17.000000        12.000000   \n",
       "50%     31.000000   24428.000000      25.000000        16.000000   \n",
       "75%     38.000000   26949.000000      32.000000        30.000000   \n",
       "max     59.000000   36239.000000      62.000000        30.000000   \n",
       "\n",
       "       brand_loyalty  news_literacy  sm_engagement  \n",
       "count     690.000000     690.000000     690.000000  \n",
       "mean        6.555522       5.014348       4.827783  \n",
       "std         2.218886       2.152632       2.281010  \n",
       "min         1.460000       0.040000       0.230000  \n",
       "25%         4.870000       3.422500       3.010000  \n",
       "50%         7.050000       5.015000       4.220000  \n",
       "75%         8.520000       6.560000       6.990000  \n",
       "max         9.560000       9.970000       9.650000  "
      ]
     },
     "execution_count": 39,
     "metadata": {},
     "output_type": "execute_result"
    }
   ],
   "source": [
    "data_male.describe()"
   ]
  },
  {
   "cell_type": "code",
   "execution_count": 40,
   "id": "7501b768",
   "metadata": {},
   "outputs": [
    {
     "data": {
      "text/html": [
       "<div>\n",
       "<style scoped>\n",
       "    .dataframe tbody tr th:only-of-type {\n",
       "        vertical-align: middle;\n",
       "    }\n",
       "\n",
       "    .dataframe tbody tr th {\n",
       "        vertical-align: top;\n",
       "    }\n",
       "\n",
       "    .dataframe thead th {\n",
       "        text-align: right;\n",
       "    }\n",
       "</style>\n",
       "<table border=\"1\" class=\"dataframe\">\n",
       "  <thead>\n",
       "    <tr style=\"text-align: right;\">\n",
       "      <th></th>\n",
       "      <th>age</th>\n",
       "      <th>annual_income</th>\n",
       "      <th>tenure_months</th>\n",
       "      <th>monthly_payment</th>\n",
       "      <th>brand_loyalty</th>\n",
       "      <th>news_literacy</th>\n",
       "      <th>sm_engagement</th>\n",
       "    </tr>\n",
       "  </thead>\n",
       "  <tbody>\n",
       "    <tr>\n",
       "      <th>count</th>\n",
       "      <td>310.000000</td>\n",
       "      <td>310.000000</td>\n",
       "      <td>310.000000</td>\n",
       "      <td>310.000000</td>\n",
       "      <td>310.000000</td>\n",
       "      <td>310.000000</td>\n",
       "      <td>310.000000</td>\n",
       "    </tr>\n",
       "    <tr>\n",
       "      <th>mean</th>\n",
       "      <td>32.687097</td>\n",
       "      <td>24785.493548</td>\n",
       "      <td>24.990323</td>\n",
       "      <td>19.819355</td>\n",
       "      <td>6.536161</td>\n",
       "      <td>5.026774</td>\n",
       "      <td>5.005935</td>\n",
       "    </tr>\n",
       "    <tr>\n",
       "      <th>std</th>\n",
       "      <td>8.299150</td>\n",
       "      <td>3463.937943</td>\n",
       "      <td>11.512336</td>\n",
       "      <td>7.623394</td>\n",
       "      <td>2.265650</td>\n",
       "      <td>2.247013</td>\n",
       "      <td>2.174939</td>\n",
       "    </tr>\n",
       "    <tr>\n",
       "      <th>min</th>\n",
       "      <td>19.000000</td>\n",
       "      <td>11872.000000</td>\n",
       "      <td>1.000000</td>\n",
       "      <td>12.000000</td>\n",
       "      <td>1.460000</td>\n",
       "      <td>0.260000</td>\n",
       "      <td>0.230000</td>\n",
       "    </tr>\n",
       "    <tr>\n",
       "      <th>25%</th>\n",
       "      <td>26.000000</td>\n",
       "      <td>22240.500000</td>\n",
       "      <td>18.000000</td>\n",
       "      <td>12.000000</td>\n",
       "      <td>4.870000</td>\n",
       "      <td>3.292500</td>\n",
       "      <td>3.190000</td>\n",
       "    </tr>\n",
       "    <tr>\n",
       "      <th>50%</th>\n",
       "      <td>32.500000</td>\n",
       "      <td>24785.000000</td>\n",
       "      <td>25.000000</td>\n",
       "      <td>16.000000</td>\n",
       "      <td>7.220000</td>\n",
       "      <td>5.050000</td>\n",
       "      <td>5.130000</td>\n",
       "    </tr>\n",
       "    <tr>\n",
       "      <th>75%</th>\n",
       "      <td>38.750000</td>\n",
       "      <td>27626.000000</td>\n",
       "      <td>32.000000</td>\n",
       "      <td>30.000000</td>\n",
       "      <td>8.510000</td>\n",
       "      <td>6.715000</td>\n",
       "      <td>6.990000</td>\n",
       "    </tr>\n",
       "    <tr>\n",
       "      <th>max</th>\n",
       "      <td>55.000000</td>\n",
       "      <td>32619.000000</td>\n",
       "      <td>69.000000</td>\n",
       "      <td>30.000000</td>\n",
       "      <td>9.560000</td>\n",
       "      <td>9.770000</td>\n",
       "      <td>9.650000</td>\n",
       "    </tr>\n",
       "  </tbody>\n",
       "</table>\n",
       "</div>"
      ],
      "text/plain": [
       "              age  annual_income  tenure_months  monthly_payment  \\\n",
       "count  310.000000     310.000000     310.000000       310.000000   \n",
       "mean    32.687097   24785.493548      24.990323        19.819355   \n",
       "std      8.299150    3463.937943      11.512336         7.623394   \n",
       "min     19.000000   11872.000000       1.000000        12.000000   \n",
       "25%     26.000000   22240.500000      18.000000        12.000000   \n",
       "50%     32.500000   24785.000000      25.000000        16.000000   \n",
       "75%     38.750000   27626.000000      32.000000        30.000000   \n",
       "max     55.000000   32619.000000      69.000000        30.000000   \n",
       "\n",
       "       brand_loyalty  news_literacy  sm_engagement  \n",
       "count     310.000000     310.000000     310.000000  \n",
       "mean        6.536161       5.026774       5.005935  \n",
       "std         2.265650       2.247013       2.174939  \n",
       "min         1.460000       0.260000       0.230000  \n",
       "25%         4.870000       3.292500       3.190000  \n",
       "50%         7.220000       5.050000       5.130000  \n",
       "75%         8.510000       6.715000       6.990000  \n",
       "max         9.560000       9.770000       9.650000  "
      ]
     },
     "execution_count": 40,
     "metadata": {},
     "output_type": "execute_result"
    }
   ],
   "source": [
    "data_female.describe()"
   ]
  },
  {
   "cell_type": "code",
   "execution_count": 57,
   "id": "b9c87ce2",
   "metadata": {},
   "outputs": [
    {
     "data": {
      "text/plain": [
       "[Text(1, 0, 'Homme'), Text(2, 0, 'Femme')]"
      ]
     },
     "execution_count": 57,
     "metadata": {},
     "output_type": "execute_result"
    },
    {
     "data": {
      "image/png": "[encoded data removed]",
      "text/plain": [
       "<Figure size 432x288 with 1 Axes>"
      ]
     },
     "metadata": {
      "needs_background": "light"
     },
     "output_type": "display_data"
    }
   ],
   "source": [
    "# Creating box plot\n",
    "bp = pyplot.boxplot((data_male.news_literacy, data_female.news_literacy), \n",
    "                    patch_artist = True)\n",
    "for patch in bp['boxes']:\n",
    "  patch.set_color('beige')\n",
    "  patch.set_edgecolor('black')\n",
    "\n",
    "# Adding labels\n",
    "pyplot.title('La littératie médiatique des abonnés')\n",
    "pyplot.gca().xaxis.set_ticklabels(['Homme', 'Femme'])"
   ]
  },
  {
   "cell_type": "code",
   "execution_count": 59,
   "id": "c83cc64a",
   "metadata": {},
   "outputs": [
    {
     "data": {
      "text/plain": [
       "[Text(1, 0, 'Culture'),\n",
       " Text(2, 0, 'Sci-Tech'),\n",
       " Text(3, 0, 'Domestique'),\n",
       " Text(4, 0, 'Sports')]"
      ]
     },
     "execution_count": 59,
     "metadata": {},
     "output_type": "execute_result"
    },
    {
     "data": {
      "image/png": "[encoded data removed]",
      "text/plain": [
       "<Figure size 432x288 with 1 Axes>"
      ]
     },
     "metadata": {
      "needs_background": "light"
     },
     "output_type": "display_data"
    }
   ],
   "source": [
    "bp = pyplot.boxplot((cult.news_literacy, sci.news_literacy, \n",
    "                     dom.news_literacy, sports.news_literacy), \n",
    "                    patch_artist = True)\n",
    "for patch in bp['boxes']:\n",
    "  patch.set_color('beige')\n",
    "  patch.set_edgecolor('black')\n",
    "\n",
    "pyplot.title('La littératie médiatique des abonnés')\n",
    "pyplot.gca().xaxis.set_ticklabels(['Culture', 'Sci-Tech', 'Domestique', 'Sports'])"
   ]
  },
  {
   "cell_type": "code",
   "execution_count": 87,
   "id": "b8f75d0d",
   "metadata": {},
   "outputs": [
    {
     "data": {
      "text/plain": [
       "Text(0, 0.5, 'Euros par année')"
      ]
     },
     "execution_count": 87,
     "metadata": {},
     "output_type": "execute_result"
    },
    {
     "data": {
      "image/png": "[encoded data removed]",
      "text/plain": [
       "<Figure size 432x288 with 1 Axes>"
      ]
     },
     "metadata": {
      "needs_background": "light"
     },
     "output_type": "display_data"
    }
   ],
   "source": [
    "x = data.age\n",
    "y = data.annual_income\n",
    "pyplot.scatter(x, y, c = 'brown', marker = '.')\n",
    "pyplot.title('Revenus des abonnés', fontsize=16)\n",
    "pyplot.xlabel('Age', fontsize=12)\n",
    "pyplot.ylabel('Euros par année', fontsize=12)"
   ]
  },
  {
   "cell_type": "code",
   "execution_count": 85,
   "id": "25b37708",
   "metadata": {},
   "outputs": [
    {
     "data": {
      "text/plain": [
       "Text(0.5, 0, 'Age')"
      ]
     },
     "execution_count": 85,
     "metadata": {},
     "output_type": "execute_result"
    },
    {
     "data": {
      "image/png": "[encoded data removed]",
      "text/plain": [
       "<Figure size 432x288 with 1 Axes>"
      ]
     },
     "metadata": {
      "needs_background": "light"
     },
     "output_type": "display_data"
    }
   ],
   "source": [
    "x = data.age\n",
    "y = data.brand_loyalty\n",
    "pyplot.scatter(x, y, c = 'yellow', marker = 'x', linewidth = 1)\n",
    "pyplot.title('Fidelité aux marques', fontsize=16)\n",
    "pyplot.xlabel('Age', fontsize=12)"
   ]
  }
 ],
 "metadata": {
  "kernelspec": {
   "display_name": "tp3",
   "language": "python",
   "name": "tp3"
  },
  "language_info": {
   "codemirror_mode": {
    "name": "ipython",
    "version": 3
   },
   "file_extension": ".py",
   "mimetype": "text/x-python",
   "name": "python",
   "nbconvert_exporter": "python",
   "pygments_lexer": "ipython3",
   "version": "3.9.12"
  }
 },
 "nbformat": 4,
 "nbformat_minor": 5
}
