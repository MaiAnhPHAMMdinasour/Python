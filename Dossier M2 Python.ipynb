{
 "cells": [
  {
   "cell_type": "code",
   "execution_count": 1,
   "id": "c4fef0aa",
   "metadata": {},
   "outputs": [],
   "source": [
    "# Importer des packages\n",
    "import numpy as np\n",
    "import pandas as pd\n",
    "import matplotlib.pyplot as plt\n",
    "import seaborn as sns"
   ]
  },
  {
   "cell_type": "code",
   "execution_count": 2,
   "id": "146d9d9c",
   "metadata": {},
   "outputs": [
    {
     "name": "stderr",
     "output_type": "stream",
     "text": [
      "/tmp/ipykernel_744/464537295.py:1: DtypeWarning: Columns (3) have mixed types. Specify dtype option on import or set low_memory=False.\n",
      "  df = pd.read_csv(\"/home/phammaianh95/FD_MAR_2018.csv\", sep=\";\")\n"
     ]
    },
    {
     "data": {
      "text/html": [
       "<div>\n",
       "<style scoped>\n",
       "    .dataframe tbody tr th:only-of-type {\n",
       "        vertical-align: middle;\n",
       "    }\n",
       "\n",
       "    .dataframe tbody tr th {\n",
       "        vertical-align: top;\n",
       "    }\n",
       "\n",
       "    .dataframe thead th {\n",
       "        text-align: right;\n",
       "    }\n",
       "</style>\n",
       "<table border=\"1\" class=\"dataframe\">\n",
       "  <thead>\n",
       "    <tr style=\"text-align: right;\">\n",
       "      <th></th>\n",
       "      <th>AMAR</th>\n",
       "      <th>ANAIS1</th>\n",
       "      <th>ANAIS2</th>\n",
       "      <th>DEPDOM</th>\n",
       "      <th>DEPMAR</th>\n",
       "      <th>DEPNAIS1</th>\n",
       "      <th>DEPNAIS2</th>\n",
       "      <th>ETAMAT1</th>\n",
       "      <th>ETAMAT2</th>\n",
       "      <th>INDNAT1</th>\n",
       "      <th>INDNAT2</th>\n",
       "      <th>JSEMAINE</th>\n",
       "      <th>MMAR</th>\n",
       "      <th>NBENFCOM</th>\n",
       "      <th>SEXE1</th>\n",
       "      <th>SEXE2</th>\n",
       "      <th>TUCOM</th>\n",
       "      <th>TUDOM</th>\n",
       "    </tr>\n",
       "  </thead>\n",
       "  <tbody>\n",
       "    <tr>\n",
       "      <th>0</th>\n",
       "      <td>2018</td>\n",
       "      <td>1999</td>\n",
       "      <td>1999</td>\n",
       "      <td>99</td>\n",
       "      <td>01</td>\n",
       "      <td>99</td>\n",
       "      <td>99</td>\n",
       "      <td>1</td>\n",
       "      <td>1</td>\n",
       "      <td>2</td>\n",
       "      <td>2</td>\n",
       "      <td>6</td>\n",
       "      <td>11</td>\n",
       "      <td>N</td>\n",
       "      <td>M</td>\n",
       "      <td>F</td>\n",
       "      <td>NaN</td>\n",
       "      <td>9</td>\n",
       "    </tr>\n",
       "    <tr>\n",
       "      <th>1</th>\n",
       "      <td>2018</td>\n",
       "      <td>1987</td>\n",
       "      <td>1987</td>\n",
       "      <td>99</td>\n",
       "      <td>01</td>\n",
       "      <td>70</td>\n",
       "      <td>99</td>\n",
       "      <td>1</td>\n",
       "      <td>1</td>\n",
       "      <td>1</td>\n",
       "      <td>2</td>\n",
       "      <td>6</td>\n",
       "      <td>8</td>\n",
       "      <td>N</td>\n",
       "      <td>M</td>\n",
       "      <td>F</td>\n",
       "      <td>NaN</td>\n",
       "      <td>9</td>\n",
       "    </tr>\n",
       "    <tr>\n",
       "      <th>2</th>\n",
       "      <td>2018</td>\n",
       "      <td>1990</td>\n",
       "      <td>1990</td>\n",
       "      <td>99</td>\n",
       "      <td>01</td>\n",
       "      <td>74</td>\n",
       "      <td>01</td>\n",
       "      <td>1</td>\n",
       "      <td>1</td>\n",
       "      <td>1</td>\n",
       "      <td>1</td>\n",
       "      <td>6</td>\n",
       "      <td>7</td>\n",
       "      <td>N</td>\n",
       "      <td>M</td>\n",
       "      <td>F</td>\n",
       "      <td>NaN</td>\n",
       "      <td>9</td>\n",
       "    </tr>\n",
       "    <tr>\n",
       "      <th>3</th>\n",
       "      <td>2018</td>\n",
       "      <td>1985</td>\n",
       "      <td>1986</td>\n",
       "      <td>99</td>\n",
       "      <td>01</td>\n",
       "      <td>69</td>\n",
       "      <td>99</td>\n",
       "      <td>1</td>\n",
       "      <td>1</td>\n",
       "      <td>1</td>\n",
       "      <td>2</td>\n",
       "      <td>6</td>\n",
       "      <td>12</td>\n",
       "      <td>N</td>\n",
       "      <td>M</td>\n",
       "      <td>F</td>\n",
       "      <td>NaN</td>\n",
       "      <td>9</td>\n",
       "    </tr>\n",
       "    <tr>\n",
       "      <th>4</th>\n",
       "      <td>2018</td>\n",
       "      <td>1985</td>\n",
       "      <td>1986</td>\n",
       "      <td>99</td>\n",
       "      <td>01</td>\n",
       "      <td>69</td>\n",
       "      <td>99</td>\n",
       "      <td>1</td>\n",
       "      <td>1</td>\n",
       "      <td>1</td>\n",
       "      <td>2</td>\n",
       "      <td>6</td>\n",
       "      <td>12</td>\n",
       "      <td>N</td>\n",
       "      <td>M</td>\n",
       "      <td>F</td>\n",
       "      <td>NaN</td>\n",
       "      <td>9</td>\n",
       "    </tr>\n",
       "    <tr>\n",
       "      <th>...</th>\n",
       "      <td>...</td>\n",
       "      <td>...</td>\n",
       "      <td>...</td>\n",
       "      <td>...</td>\n",
       "      <td>...</td>\n",
       "      <td>...</td>\n",
       "      <td>...</td>\n",
       "      <td>...</td>\n",
       "      <td>...</td>\n",
       "      <td>...</td>\n",
       "      <td>...</td>\n",
       "      <td>...</td>\n",
       "      <td>...</td>\n",
       "      <td>...</td>\n",
       "      <td>...</td>\n",
       "      <td>...</td>\n",
       "      <td>...</td>\n",
       "      <td>...</td>\n",
       "    </tr>\n",
       "    <tr>\n",
       "      <th>234730</th>\n",
       "      <td>2018</td>\n",
       "      <td>1992</td>\n",
       "      <td>1991</td>\n",
       "      <td>988</td>\n",
       "      <td>84</td>\n",
       "      <td>13</td>\n",
       "      <td>988</td>\n",
       "      <td>1</td>\n",
       "      <td>1</td>\n",
       "      <td>1</td>\n",
       "      <td>1</td>\n",
       "      <td>6</td>\n",
       "      <td>1</td>\n",
       "      <td>N</td>\n",
       "      <td>M</td>\n",
       "      <td>F</td>\n",
       "      <td>P</td>\n",
       "      <td>9</td>\n",
       "    </tr>\n",
       "    <tr>\n",
       "      <th>234731</th>\n",
       "      <td>2018</td>\n",
       "      <td>1987</td>\n",
       "      <td>1987</td>\n",
       "      <td>988</td>\n",
       "      <td>93</td>\n",
       "      <td>75</td>\n",
       "      <td>75</td>\n",
       "      <td>1</td>\n",
       "      <td>1</td>\n",
       "      <td>1</td>\n",
       "      <td>1</td>\n",
       "      <td>6</td>\n",
       "      <td>12</td>\n",
       "      <td>O</td>\n",
       "      <td>F</td>\n",
       "      <td>M</td>\n",
       "      <td>P</td>\n",
       "      <td>9</td>\n",
       "    </tr>\n",
       "    <tr>\n",
       "      <th>234732</th>\n",
       "      <td>2018</td>\n",
       "      <td>1986</td>\n",
       "      <td>1989</td>\n",
       "      <td>988</td>\n",
       "      <td>94</td>\n",
       "      <td>59</td>\n",
       "      <td>92</td>\n",
       "      <td>1</td>\n",
       "      <td>1</td>\n",
       "      <td>1</td>\n",
       "      <td>1</td>\n",
       "      <td>6</td>\n",
       "      <td>9</td>\n",
       "      <td>N</td>\n",
       "      <td>M</td>\n",
       "      <td>F</td>\n",
       "      <td>P</td>\n",
       "      <td>9</td>\n",
       "    </tr>\n",
       "    <tr>\n",
       "      <th>234733</th>\n",
       "      <td>2018</td>\n",
       "      <td>1975</td>\n",
       "      <td>1978</td>\n",
       "      <td>988</td>\n",
       "      <td>55</td>\n",
       "      <td>55</td>\n",
       "      <td>55</td>\n",
       "      <td>1</td>\n",
       "      <td>1</td>\n",
       "      <td>1</td>\n",
       "      <td>1</td>\n",
       "      <td>6</td>\n",
       "      <td>6</td>\n",
       "      <td>O</td>\n",
       "      <td>M</td>\n",
       "      <td>F</td>\n",
       "      <td>P</td>\n",
       "      <td>9</td>\n",
       "    </tr>\n",
       "    <tr>\n",
       "      <th>234734</th>\n",
       "      <td>2018</td>\n",
       "      <td>1989</td>\n",
       "      <td>1990</td>\n",
       "      <td>988</td>\n",
       "      <td>63</td>\n",
       "      <td>45</td>\n",
       "      <td>63</td>\n",
       "      <td>1</td>\n",
       "      <td>1</td>\n",
       "      <td>1</td>\n",
       "      <td>1</td>\n",
       "      <td>6</td>\n",
       "      <td>12</td>\n",
       "      <td>N</td>\n",
       "      <td>M</td>\n",
       "      <td>F</td>\n",
       "      <td>P</td>\n",
       "      <td>9</td>\n",
       "    </tr>\n",
       "  </tbody>\n",
       "</table>\n",
       "<p>234735 rows × 18 columns</p>\n",
       "</div>"
      ],
      "text/plain": [
       "        AMAR  ANAIS1  ANAIS2 DEPDOM DEPMAR DEPNAIS1 DEPNAIS2  ETAMAT1  \\\n",
       "0       2018    1999    1999     99     01       99       99        1   \n",
       "1       2018    1987    1987     99     01       70       99        1   \n",
       "2       2018    1990    1990     99     01       74       01        1   \n",
       "3       2018    1985    1986     99     01       69       99        1   \n",
       "4       2018    1985    1986     99     01       69       99        1   \n",
       "...      ...     ...     ...    ...    ...      ...      ...      ...   \n",
       "234730  2018    1992    1991    988     84       13      988        1   \n",
       "234731  2018    1987    1987    988     93       75       75        1   \n",
       "234732  2018    1986    1989    988     94       59       92        1   \n",
       "234733  2018    1975    1978    988     55       55       55        1   \n",
       "234734  2018    1989    1990    988     63       45       63        1   \n",
       "\n",
       "        ETAMAT2  INDNAT1  INDNAT2  JSEMAINE  MMAR NBENFCOM SEXE1 SEXE2 TUCOM  \\\n",
       "0             1        2        2         6    11        N     M     F   NaN   \n",
       "1             1        1        2         6     8        N     M     F   NaN   \n",
       "2             1        1        1         6     7        N     M     F   NaN   \n",
       "3             1        1        2         6    12        N     M     F   NaN   \n",
       "4             1        1        2         6    12        N     M     F   NaN   \n",
       "...         ...      ...      ...       ...   ...      ...   ...   ...   ...   \n",
       "234730        1        1        1         6     1        N     M     F     P   \n",
       "234731        1        1        1         6    12        O     F     M     P   \n",
       "234732        1        1        1         6     9        N     M     F     P   \n",
       "234733        1        1        1         6     6        O     M     F     P   \n",
       "234734        1        1        1         6    12        N     M     F     P   \n",
       "\n",
       "        TUDOM  \n",
       "0           9  \n",
       "1           9  \n",
       "2           9  \n",
       "3           9  \n",
       "4           9  \n",
       "...       ...  \n",
       "234730      9  \n",
       "234731      9  \n",
       "234732      9  \n",
       "234733      9  \n",
       "234734      9  \n",
       "\n",
       "[234735 rows x 18 columns]"
      ]
     },
     "execution_count": 2,
     "metadata": {},
     "output_type": "execute_result"
    }
   ],
   "source": [
    "df = pd.read_csv(\"/home/phammaianh95/FD_MAR_2018.csv\", sep=\";\")\n",
    "df"
   ]
  },
  {
   "cell_type": "raw",
   "id": "6d1f2a19",
   "metadata": {},
   "source": [
    "*AMAR Année de mariage\n",
    "\n",
    "ANAIS1 Année de naissance du conjoint 1\n",
    "ANAIS2 Année de naissance du conjoint 2\n",
    "\n",
    "DEPDOM Département de domicile après le mariage\n",
    "*DEPMAR Département de mariage\n",
    "\n",
    "DEPNAIS1 Département de naissance du conjoint 1\n",
    "DEPNAIS2 Département de naissance du conjoint 2\n",
    "\n",
    "ETAMAT1 État matrimonial antérieur du conjoint 1 \n",
    "ETAMAT2 État matrimonial antérieur du conjoint 2\n",
    "- 1 : célibataire\n",
    "- 3 : veuf\n",
    "- 4 : divorcé\n",
    "\n",
    "INDNAT1 Indicateur de nationalité du conjoint 1\n",
    "INDNAT2 Indicateur de nationalité du conjoint 2\n",
    "- 1 : française\n",
    "- 2 : étrangère\n",
    "\n",
    "JSEMAINE Jour de mariage dans la semaine\n",
    "1 : lundi\n",
    "2 : mardi\n",
    "3 : mercredi\n",
    "4 : jeudi\n",
    "5 : vendredi\n",
    "6 : samedi\n",
    "7 : dimanche\n",
    "MMAR Mois de mariage : 1-12\n",
    "NBENFCOM Enfants en commun avant le mariage : O / N\n",
    "\n",
    "SEXE1 Sexe du conjoint 1 - M /F\n",
    "SEXE2 Sexe du conjoint 2\n",
    "\n",
    "TUCOM Tranche de commune du lieu de domicile des époux\n",
    "TUDOM Tranche d’unité urbaine du lieu de domicile des époux\n",
    "=> On va seulement étudier les mariages dans le Nord"
   ]
  },
  {
   "cell_type": "markdown",
   "id": "b6ed2894",
   "metadata": {},
   "source": [
    "# Sujet : Les mariages dans le Nord"
   ]
  },
  {
   "cell_type": "code",
   "execution_count": 3,
   "id": "598d623e",
   "metadata": {},
   "outputs": [
    {
     "name": "stdout",
     "output_type": "stream",
     "text": [
      "<class 'pandas.core.frame.DataFrame'>\n",
      "Int64Index: 9226 entries, 1179 to 229699\n",
      "Data columns (total 18 columns):\n",
      " #   Column    Non-Null Count  Dtype \n",
      "---  ------    --------------  ----- \n",
      " 0   AMAR      9226 non-null   int64 \n",
      " 1   ANAIS1    9226 non-null   int64 \n",
      " 2   ANAIS2    9226 non-null   int64 \n",
      " 3   DEPDOM    9226 non-null   object\n",
      " 4   DEPMAR    9226 non-null   object\n",
      " 5   DEPNAIS1  9226 non-null   object\n",
      " 6   DEPNAIS2  9226 non-null   object\n",
      " 7   ETAMAT1   9226 non-null   int64 \n",
      " 8   ETAMAT2   9226 non-null   int64 \n",
      " 9   INDNAT1   9226 non-null   int64 \n",
      " 10  INDNAT2   9226 non-null   int64 \n",
      " 11  JSEMAINE  9226 non-null   int64 \n",
      " 12  MMAR      9226 non-null   int64 \n",
      " 13  NBENFCOM  9226 non-null   object\n",
      " 14  SEXE1     9226 non-null   object\n",
      " 15  SEXE2     9226 non-null   object\n",
      " 16  TUCOM     9135 non-null   object\n",
      " 17  TUDOM     9226 non-null   int64 \n",
      "dtypes: int64(10), object(8)\n",
      "memory usage: 1.3+ MB\n"
     ]
    }
   ],
   "source": [
    "nord = df[(df.DEPMAR == '59')]\n",
    "nord.info() # en 2018, il y a 9226 marriages dans le nord"
   ]
  },
  {
   "cell_type": "markdown",
   "id": "afce187e",
   "metadata": {},
   "source": [
    "## Le moment du mariages et le lieu de domicile des couples"
   ]
  },
  {
   "cell_type": "code",
   "execution_count": 4,
   "id": "e6fb8ba6",
   "metadata": {},
   "outputs": [
    {
     "data": {
      "text/plain": [
       "2018    9226\n",
       "Name: AMAR, dtype: int64"
      ]
     },
     "execution_count": 4,
     "metadata": {},
     "output_type": "execute_result"
    }
   ],
   "source": [
    "# Vérifier si l'année est bien 2018\n",
    "nord['AMAR'].value_counts()"
   ]
  },
  {
   "cell_type": "code",
   "execution_count": 5,
   "id": "1477cdd7",
   "metadata": {},
   "outputs": [
    {
     "name": "stderr",
     "output_type": "stream",
     "text": [
      "/tmp/ipykernel_744/3066060793.py:11: SettingWithCopyWarning: \n",
      "A value is trying to be set on a copy of a slice from a DataFrame.\n",
      "Try using .loc[row_indexer,col_indexer] = value instead\n",
      "\n",
      "See the caveats in the documentation: https://pandas.pydata.org/pandas-docs/stable/user_guide/indexing.html#returning-a-view-versus-a-copy\n",
      "  nord['depdom'] = nord['DEPDOM'].map(depdom)\n"
     ]
    }
   ],
   "source": [
    "# Recodage département en 4 catégories\n",
    "def depdom(DEPDOM):\n",
    "    if DEPDOM == 59:\n",
    "        return 'Nord'\n",
    "    if DEPDOM == 62:\n",
    "        return 'Pas de Calais'\n",
    "    if DEPDOM == 99:\n",
    "        return 'Etranger'\n",
    "    else:\n",
    "        return 'Autre'\n",
    "nord['depdom'] = nord['DEPDOM'].map(depdom)"
   ]
  },
  {
   "cell_type": "code",
   "execution_count": 6,
   "id": "b358b8f6",
   "metadata": {},
   "outputs": [
    {
     "name": "stderr",
     "output_type": "stream",
     "text": [
      "/tmp/ipykernel_744/1609626951.py:9: SettingWithCopyWarning: \n",
      "A value is trying to be set on a copy of a slice from a DataFrame.\n",
      "Try using .loc[row_indexer,col_indexer] = value instead\n",
      "\n",
      "See the caveats in the documentation: https://pandas.pydata.org/pandas-docs/stable/user_guide/indexing.html#returning-a-view-versus-a-copy\n",
      "  nord['jour'] = nord['JSEMAINE'].map(jour)\n"
     ]
    }
   ],
   "source": [
    "# Recodage jour au mariage en 3 catégories\n",
    "def jour(JSEMAINE):\n",
    "    if JSEMAINE == 5:\n",
    "        return 'Vendredi'\n",
    "    if JSEMAINE == 6:\n",
    "        return 'Samedi'\n",
    "    else:\n",
    "        return 'Un autre jour'\n",
    "nord['jour'] = nord['JSEMAINE'].map(jour)"
   ]
  },
  {
   "cell_type": "code",
   "execution_count": 7,
   "id": "8481d21d",
   "metadata": {},
   "outputs": [
    {
     "data": {
      "text/plain": [
       "Nord             8628\n",
       "Autre             406\n",
       "Pas de Calais     101\n",
       "Etranger           91\n",
       "Name: depdom, dtype: int64"
      ]
     },
     "execution_count": 7,
     "metadata": {},
     "output_type": "execute_result"
    }
   ],
   "source": [
    "# Voir la répartition des 3 catégories de département domicile\n",
    "nord.depdom.value_counts()"
   ]
  },
  {
   "cell_type": "code",
   "execution_count": 8,
   "id": "519e4e67",
   "metadata": {},
   "outputs": [],
   "source": [
    "# Subset des couples vivant loin\n",
    "loin = nord[nord['depdom'] != 'Nord']"
   ]
  },
  {
   "cell_type": "code",
   "execution_count": 9,
   "id": "ab5b994f",
   "metadata": {},
   "outputs": [
    {
     "data": {
      "text/plain": [
       "Samedi           8071\n",
       "Un autre jour     404\n",
       "Vendredi          751\n",
       "Name: jour, dtype: int64"
      ]
     },
     "execution_count": 9,
     "metadata": {},
     "output_type": "execute_result"
    }
   ],
   "source": [
    "# La répartition des jours au mariage chez l'ensemble des couples\n",
    "jour = nord['jour'].value_counts()\n",
    "js = jour.sort_index(axis=0)\n",
    "js"
   ]
  },
  {
   "cell_type": "markdown",
   "id": "c75934c2",
   "metadata": {},
   "source": [
    "### Jour au mariage"
   ]
  },
  {
   "cell_type": "code",
   "execution_count": 10,
   "id": "44d6e53a",
   "metadata": {
    "scrolled": true
   },
   "outputs": [
    {
     "data": {
      "image/png": "[encoded data removed]",
      "text/plain": [
       "<Figure size 432x288 with 1 Axes>"
      ]
     },
     "metadata": {},
     "output_type": "display_data"
    }
   ],
   "source": [
    "# Graphique sur le jour au mariage de l'ensemble des couples  \n",
    "plt.pie(js.array, labels = js.index,\n",
    "        colors = ['lavender', 'white', 'mistyrose'],\n",
    "        autopct = lambda js: str(round(js, 1)) + ' %',\n",
    "        pctdistance = 0.7, labeldistance = 1.2)\n",
    "plt.show()"
   ]
  },
  {
   "cell_type": "code",
   "execution_count": 11,
   "id": "ebd0198c",
   "metadata": {},
   "outputs": [
    {
     "data": {
      "text/plain": [
       "<AxesSubplot:xlabel='depdom', ylabel='count'>"
      ]
     },
     "execution_count": 11,
     "metadata": {},
     "output_type": "execute_result"
    },
    {
     "data": {
      "image/png": "[encoded data removed]",
      "text/plain": [
       "<Figure size 432x288 with 1 Axes>"
      ]
     },
     "metadata": {
      "needs_background": "light"
     },
     "output_type": "display_data"
    }
   ],
   "source": [
    "# Graphique sur le jour au mariage des couples vivant loin  \n",
    "sns.countplot(data=loin, x=\"depdom\", hue=\"jour\",\n",
    "              hue_order=['Samedi', 'Vendredi', 'Un autre jour'])"
   ]
  },
  {
   "cell_type": "markdown",
   "id": "fc48b6a2",
   "metadata": {},
   "source": [
    "### Mois au mariage"
   ]
  },
  {
   "cell_type": "code",
   "execution_count": 12,
   "id": "8d79b213",
   "metadata": {},
   "outputs": [
    {
     "data": {
      "text/plain": [
       "<AxesSubplot:xlabel='MMAR', ylabel='count'>"
      ]
     },
     "execution_count": 12,
     "metadata": {},
     "output_type": "execute_result"
    },
    {
     "data": {
      "image/png": "[encoded data removed]",
      "text/plain": [
       "<Figure size 432x288 with 1 Axes>"
      ]
     },
     "metadata": {
      "needs_background": "light"
     },
     "output_type": "display_data"
    }
   ],
   "source": [
    "sns.countplot(x=nord['MMAR'])"
   ]
  },
  {
   "cell_type": "code",
   "execution_count": 13,
   "id": "2f2f8870",
   "metadata": {
    "scrolled": true
   },
   "outputs": [
    {
     "data": {
      "text/plain": [
       "<AxesSubplot:xlabel='MMAR', ylabel='Count'>"
      ]
     },
     "execution_count": 13,
     "metadata": {},
     "output_type": "execute_result"
    },
    {
     "data": {
      "image/png": "[encoded data removed]",
      "text/plain": [
       "<Figure size 432x288 with 1 Axes>"
      ]
     },
     "metadata": {
      "needs_background": "light"
     },
     "output_type": "display_data"
    }
   ],
   "source": [
    "# Mois au mariage des couples vivant loin\n",
    "sns.histplot(data=loin, x=\"MMAR\", hue=\"depdom\", multiple=\"dodge\", shrink=0.6)"
   ]
  },
  {
   "cell_type": "markdown",
   "id": "53191e23",
   "metadata": {},
   "source": [
    "## Département de domicile"
   ]
  },
  {
   "cell_type": "code",
   "execution_count": 14,
   "id": "f7aedc0e",
   "metadata": {
    "scrolled": false
   },
   "outputs": [
    {
     "data": {
      "text/plain": [
       "59    8628\n",
       "62     101\n",
       "99      91\n",
       "75      50\n",
       "92      24\n",
       "69      18\n",
       "95      17\n",
       "60      17\n",
       "93      17\n",
       "78      15\n",
       "Name: DEPDOM, dtype: int64"
      ]
     },
     "execution_count": 14,
     "metadata": {},
     "output_type": "execute_result"
    }
   ],
   "source": [
    "# Le département de domicile des couples en top 10\n",
    "depdom = nord['DEPDOM'].value_counts().nlargest(10)\n",
    "depdom"
   ]
  },
  {
   "cell_type": "code",
   "execution_count": 15,
   "id": "5055f813",
   "metadata": {},
   "outputs": [],
   "source": [
    "# Ajouter le nomme des départements et créer un dataframe\n",
    "depdom_dict = {59: \"Nord\", 62: \"Pas de Calais\", 99: \"Etranger\",\n",
    "            75: \"Paris\", 92:\"Haut-de-Seine\", 69:\"Rhône\", 95:\"Val-Oise\",\n",
    "            93: \"Seine-Saint-Denis\", 60:\"Oise\", 78: \"Yvelines\"}\n",
    "depdom_dict = pd.Series(depdom_dict)\n",
    "depdom_dict\n",
    "dd = pd.concat([depdom_dict, depdom], axis=1)\n",
    "dd = dd.rename(columns={0: 'Département', 'DEPDOM': 'Effectif'})"
   ]
  },
  {
   "cell_type": "code",
   "execution_count": 16,
   "id": "58750b87",
   "metadata": {},
   "outputs": [],
   "source": [
    "# Calculer le pourcentage et ajouter dans le dataframe\n",
    "ddpc = 100 * depdom / 9226\n",
    "ddpc = round(ddpc, 1)\n",
    "dd = pd.concat([dd, ddpc], axis=1)\n",
    "dd = dd.rename(columns={'DEPDOM': 'Pourcentage (%)'})"
   ]
  },
  {
   "cell_type": "code",
   "execution_count": 17,
   "id": "fd3ae25a",
   "metadata": {},
   "outputs": [
    {
     "data": {
      "text/html": [
       "<div>\n",
       "<style scoped>\n",
       "    .dataframe tbody tr th:only-of-type {\n",
       "        vertical-align: middle;\n",
       "    }\n",
       "\n",
       "    .dataframe tbody tr th {\n",
       "        vertical-align: top;\n",
       "    }\n",
       "\n",
       "    .dataframe thead th {\n",
       "        text-align: right;\n",
       "    }\n",
       "</style>\n",
       "<table border=\"1\" class=\"dataframe\">\n",
       "  <thead>\n",
       "    <tr style=\"text-align: right;\">\n",
       "      <th></th>\n",
       "      <th>Département</th>\n",
       "      <th>Effectif</th>\n",
       "      <th>Pourcentage (%)</th>\n",
       "    </tr>\n",
       "  </thead>\n",
       "  <tbody>\n",
       "    <tr>\n",
       "      <th>59</th>\n",
       "      <td>Nord</td>\n",
       "      <td>8628</td>\n",
       "      <td>93.5</td>\n",
       "    </tr>\n",
       "    <tr>\n",
       "      <th>62</th>\n",
       "      <td>Pas de Calais</td>\n",
       "      <td>101</td>\n",
       "      <td>1.1</td>\n",
       "    </tr>\n",
       "    <tr>\n",
       "      <th>99</th>\n",
       "      <td>Etranger</td>\n",
       "      <td>91</td>\n",
       "      <td>1.0</td>\n",
       "    </tr>\n",
       "    <tr>\n",
       "      <th>75</th>\n",
       "      <td>Paris</td>\n",
       "      <td>50</td>\n",
       "      <td>0.5</td>\n",
       "    </tr>\n",
       "    <tr>\n",
       "      <th>92</th>\n",
       "      <td>Haut-de-Seine</td>\n",
       "      <td>24</td>\n",
       "      <td>0.3</td>\n",
       "    </tr>\n",
       "    <tr>\n",
       "      <th>69</th>\n",
       "      <td>Rhône</td>\n",
       "      <td>18</td>\n",
       "      <td>0.2</td>\n",
       "    </tr>\n",
       "    <tr>\n",
       "      <th>95</th>\n",
       "      <td>Val-Oise</td>\n",
       "      <td>17</td>\n",
       "      <td>0.2</td>\n",
       "    </tr>\n",
       "    <tr>\n",
       "      <th>93</th>\n",
       "      <td>Seine-Saint-Denis</td>\n",
       "      <td>17</td>\n",
       "      <td>0.2</td>\n",
       "    </tr>\n",
       "    <tr>\n",
       "      <th>60</th>\n",
       "      <td>Oise</td>\n",
       "      <td>17</td>\n",
       "      <td>0.2</td>\n",
       "    </tr>\n",
       "    <tr>\n",
       "      <th>78</th>\n",
       "      <td>Yvelines</td>\n",
       "      <td>15</td>\n",
       "      <td>0.2</td>\n",
       "    </tr>\n",
       "  </tbody>\n",
       "</table>\n",
       "</div>"
      ],
      "text/plain": [
       "          Département  Effectif  Pourcentage (%)\n",
       "59               Nord      8628             93.5\n",
       "62      Pas de Calais       101              1.1\n",
       "99           Etranger        91              1.0\n",
       "75              Paris        50              0.5\n",
       "92      Haut-de-Seine        24              0.3\n",
       "69              Rhône        18              0.2\n",
       "95           Val-Oise        17              0.2\n",
       "93  Seine-Saint-Denis        17              0.2\n",
       "60               Oise        17              0.2\n",
       "78           Yvelines        15              0.2"
      ]
     },
     "execution_count": 17,
     "metadata": {},
     "output_type": "execute_result"
    }
   ],
   "source": [
    "# Tableau : top 10 département de domicile\n",
    "dd"
   ]
  },
  {
   "cell_type": "code",
   "execution_count": 18,
   "id": "23a1b7c3",
   "metadata": {
    "scrolled": false
   },
   "outputs": [
    {
     "name": "stderr",
     "output_type": "stream",
     "text": [
      "/tmp/ipykernel_744/3250436337.py:7: SettingWithCopyWarning: \n",
      "A value is trying to be set on a copy of a slice from a DataFrame.\n",
      "Try using .loc[row_indexer,col_indexer] = value instead\n",
      "\n",
      "See the caveats in the documentation: https://pandas.pydata.org/pandas-docs/stable/user_guide/indexing.html#returning-a-view-versus-a-copy\n",
      "  nord['enfant'] = nord['NBENFCOM'].map(enfant)\n"
     ]
    },
    {
     "data": {
      "text/html": [
       "<div>\n",
       "<style scoped>\n",
       "    .dataframe tbody tr th:only-of-type {\n",
       "        vertical-align: middle;\n",
       "    }\n",
       "\n",
       "    .dataframe tbody tr th {\n",
       "        vertical-align: top;\n",
       "    }\n",
       "\n",
       "    .dataframe thead th {\n",
       "        text-align: right;\n",
       "    }\n",
       "</style>\n",
       "<table border=\"1\" class=\"dataframe\">\n",
       "  <thead>\n",
       "    <tr style=\"text-align: right;\">\n",
       "      <th></th>\n",
       "      <th>Département de domicile</th>\n",
       "      <th>Couple ayant enfant en commun (%)</th>\n",
       "    </tr>\n",
       "  </thead>\n",
       "  <tbody>\n",
       "    <tr>\n",
       "      <th>0</th>\n",
       "      <td>Autre</td>\n",
       "      <td>16.0</td>\n",
       "    </tr>\n",
       "    <tr>\n",
       "      <th>1</th>\n",
       "      <td>Etranger</td>\n",
       "      <td>19.8</td>\n",
       "    </tr>\n",
       "    <tr>\n",
       "      <th>2</th>\n",
       "      <td>Nord</td>\n",
       "      <td>30.7</td>\n",
       "    </tr>\n",
       "    <tr>\n",
       "      <th>3</th>\n",
       "      <td>Pas de Calais</td>\n",
       "      <td>22.8</td>\n",
       "    </tr>\n",
       "  </tbody>\n",
       "</table>\n",
       "</div>"
      ],
      "text/plain": [
       "  Département de domicile  Couple ayant enfant en commun (%)\n",
       "0                   Autre                               16.0\n",
       "1                Etranger                               19.8\n",
       "2                    Nord                               30.7\n",
       "3           Pas de Calais                               22.8"
      ]
     },
     "execution_count": 18,
     "metadata": {},
     "output_type": "execute_result"
    }
   ],
   "source": [
    "# Enfant en commun selon le département de domicile\n",
    "def enfant(NBENFCOM):\n",
    "    if NBENFCOM == 'O':\n",
    "        return 1\n",
    "    else:\n",
    "        return 0\n",
    "nord['enfant'] = nord['NBENFCOM'].map(enfant)\n",
    "\n",
    "# % des couple avec enfants avant de se marier selon lieu de domicile\n",
    "enfant_dep = nord.groupby('depdom', as_index=False).agg({'enfant':'mean'})\n",
    "enfant_dep['enfant'] = round(100 * enfant_dep['enfant'],1)\n",
    "# Changer le nom de colonnes\n",
    "enfant_dep = enfant_dep.rename(columns={'depdom': 'Département de domicile', 'enfant': 'Couple ayant enfant en commun (%)'})\n",
    "enfant_dep"
   ]
  },
  {
   "cell_type": "code",
   "execution_count": 19,
   "id": "d7057775",
   "metadata": {},
   "outputs": [
    {
     "data": {
      "text/html": [
       "<div>\n",
       "<style scoped>\n",
       "    .dataframe tbody tr th:only-of-type {\n",
       "        vertical-align: middle;\n",
       "    }\n",
       "\n",
       "    .dataframe tbody tr th {\n",
       "        vertical-align: top;\n",
       "    }\n",
       "\n",
       "    .dataframe thead th {\n",
       "        text-align: right;\n",
       "    }\n",
       "</style>\n",
       "<table border=\"1\" class=\"dataframe\">\n",
       "  <thead>\n",
       "    <tr style=\"text-align: right;\">\n",
       "      <th></th>\n",
       "      <th>Département de domicile</th>\n",
       "      <th>Couple ayant enfant en commun (%)</th>\n",
       "    </tr>\n",
       "  </thead>\n",
       "  <tbody>\n",
       "    <tr>\n",
       "      <th>2</th>\n",
       "      <td>Nord</td>\n",
       "      <td>30.7</td>\n",
       "    </tr>\n",
       "    <tr>\n",
       "      <th>3</th>\n",
       "      <td>Pas de Calais</td>\n",
       "      <td>22.8</td>\n",
       "    </tr>\n",
       "    <tr>\n",
       "      <th>1</th>\n",
       "      <td>Etranger</td>\n",
       "      <td>19.8</td>\n",
       "    </tr>\n",
       "    <tr>\n",
       "      <th>0</th>\n",
       "      <td>Autre</td>\n",
       "      <td>16.0</td>\n",
       "    </tr>\n",
       "  </tbody>\n",
       "</table>\n",
       "</div>"
      ],
      "text/plain": [
       "  Département de domicile  Couple ayant enfant en commun (%)\n",
       "2                    Nord                               30.7\n",
       "3           Pas de Calais                               22.8\n",
       "1                Etranger                               19.8\n",
       "0                   Autre                               16.0"
      ]
     },
     "execution_count": 19,
     "metadata": {},
     "output_type": "execute_result"
    }
   ],
   "source": [
    "# Mettre Nord en avant, puis Pas de Calais, étranger et autre\n",
    "enfant_dep.reindex([2, 3, 1, 0])"
   ]
  },
  {
   "cell_type": "markdown",
   "id": "3769f19e",
   "metadata": {},
   "source": [
    "## Variables démographiques des individus mariés en 2018 dans le Nord"
   ]
  },
  {
   "cell_type": "markdown",
   "id": "fa8e7926",
   "metadata": {},
   "source": [
    "### Préparation de données"
   ]
  },
  {
   "cell_type": "code",
   "execution_count": 20,
   "id": "b8569094",
   "metadata": {},
   "outputs": [],
   "source": [
    "# Calculer l'âge au mariage\n",
    "Age1 = 2018 - nord['ANAIS1']\n",
    "Age2 = 2018 - nord['ANAIS2']"
   ]
  },
  {
   "cell_type": "code",
   "execution_count": 21,
   "id": "ef47c21b",
   "metadata": {},
   "outputs": [],
   "source": [
    "# Table d'information sur le conjoint 1\n",
    "cj1 = pd.concat([nord['SEXE1'], Age1, nord['DEPNAIS1'], nord['ETAMAT1'], nord['INDNAT1']], axis=1).reset_index()\n",
    "cj1 = cj1.rename(columns={'SEXE1': 'Sexe', 'ANAIS1': 'Age', 'DEPNAIS1': 'Dep', 'ETAMAT1': 'Etat', 'INDNAT1': 'Natio'})"
   ]
  },
  {
   "cell_type": "code",
   "execution_count": 22,
   "id": "3b3012c3",
   "metadata": {},
   "outputs": [],
   "source": [
    "# Conjoint 2\n",
    "cj2 = pd.concat([nord['SEXE2'], Age2, nord['DEPNAIS2'], nord['ETAMAT2'], nord['INDNAT2']], axis=1).reset_index()\n",
    "cj2 = cj2.rename(columns={'SEXE2': 'Sexe', 'ANAIS2': 'Age', 'DEPNAIS2': 'Dep', 'ETAMAT2': 'Etat', 'INDNAT2': 'Natio'})"
   ]
  },
  {
   "cell_type": "code",
   "execution_count": 23,
   "id": "524ad7c2",
   "metadata": {
    "scrolled": true
   },
   "outputs": [
    {
     "data": {
      "text/html": [
       "<div>\n",
       "<style scoped>\n",
       "    .dataframe tbody tr th:only-of-type {\n",
       "        vertical-align: middle;\n",
       "    }\n",
       "\n",
       "    .dataframe tbody tr th {\n",
       "        vertical-align: top;\n",
       "    }\n",
       "\n",
       "    .dataframe thead th {\n",
       "        text-align: right;\n",
       "    }\n",
       "</style>\n",
       "<table border=\"1\" class=\"dataframe\">\n",
       "  <thead>\n",
       "    <tr style=\"text-align: right;\">\n",
       "      <th></th>\n",
       "      <th>index</th>\n",
       "      <th>Sexe</th>\n",
       "      <th>Age</th>\n",
       "      <th>Dep</th>\n",
       "      <th>Etat</th>\n",
       "      <th>Natio</th>\n",
       "    </tr>\n",
       "  </thead>\n",
       "  <tbody>\n",
       "    <tr>\n",
       "      <th>0</th>\n",
       "      <td>1179</td>\n",
       "      <td>F</td>\n",
       "      <td>36</td>\n",
       "      <td>99</td>\n",
       "      <td>1</td>\n",
       "      <td>2</td>\n",
       "    </tr>\n",
       "    <tr>\n",
       "      <th>1</th>\n",
       "      <td>1180</td>\n",
       "      <td>M</td>\n",
       "      <td>44</td>\n",
       "      <td>59</td>\n",
       "      <td>1</td>\n",
       "      <td>1</td>\n",
       "    </tr>\n",
       "    <tr>\n",
       "      <th>2</th>\n",
       "      <td>1181</td>\n",
       "      <td>F</td>\n",
       "      <td>59</td>\n",
       "      <td>59</td>\n",
       "      <td>1</td>\n",
       "      <td>1</td>\n",
       "    </tr>\n",
       "    <tr>\n",
       "      <th>3</th>\n",
       "      <td>1182</td>\n",
       "      <td>F</td>\n",
       "      <td>35</td>\n",
       "      <td>59</td>\n",
       "      <td>1</td>\n",
       "      <td>1</td>\n",
       "    </tr>\n",
       "    <tr>\n",
       "      <th>4</th>\n",
       "      <td>1183</td>\n",
       "      <td>F</td>\n",
       "      <td>41</td>\n",
       "      <td>76</td>\n",
       "      <td>4</td>\n",
       "      <td>1</td>\n",
       "    </tr>\n",
       "    <tr>\n",
       "      <th>...</th>\n",
       "      <td>...</td>\n",
       "      <td>...</td>\n",
       "      <td>...</td>\n",
       "      <td>...</td>\n",
       "      <td>...</td>\n",
       "      <td>...</td>\n",
       "    </tr>\n",
       "    <tr>\n",
       "      <th>9221</th>\n",
       "      <td>228313</td>\n",
       "      <td>F</td>\n",
       "      <td>28</td>\n",
       "      <td>99</td>\n",
       "      <td>1</td>\n",
       "      <td>1</td>\n",
       "    </tr>\n",
       "    <tr>\n",
       "      <th>9222</th>\n",
       "      <td>228412</td>\n",
       "      <td>F</td>\n",
       "      <td>30</td>\n",
       "      <td>59</td>\n",
       "      <td>1</td>\n",
       "      <td>1</td>\n",
       "    </tr>\n",
       "    <tr>\n",
       "      <th>9223</th>\n",
       "      <td>228450</td>\n",
       "      <td>F</td>\n",
       "      <td>28</td>\n",
       "      <td>59</td>\n",
       "      <td>1</td>\n",
       "      <td>1</td>\n",
       "    </tr>\n",
       "    <tr>\n",
       "      <th>9224</th>\n",
       "      <td>229068</td>\n",
       "      <td>F</td>\n",
       "      <td>28</td>\n",
       "      <td>59</td>\n",
       "      <td>1</td>\n",
       "      <td>1</td>\n",
       "    </tr>\n",
       "    <tr>\n",
       "      <th>9225</th>\n",
       "      <td>229699</td>\n",
       "      <td>F</td>\n",
       "      <td>49</td>\n",
       "      <td>59</td>\n",
       "      <td>1</td>\n",
       "      <td>1</td>\n",
       "    </tr>\n",
       "  </tbody>\n",
       "</table>\n",
       "<p>18452 rows × 6 columns</p>\n",
       "</div>"
      ],
      "text/plain": [
       "       index Sexe  Age Dep  Etat  Natio\n",
       "0       1179    F   36  99     1      2\n",
       "1       1180    M   44  59     1      1\n",
       "2       1181    F   59  59     1      1\n",
       "3       1182    F   35  59     1      1\n",
       "4       1183    F   41  76     4      1\n",
       "...      ...  ...  ...  ..   ...    ...\n",
       "9221  228313    F   28  99     1      1\n",
       "9222  228412    F   30  59     1      1\n",
       "9223  228450    F   28  59     1      1\n",
       "9224  229068    F   28  59     1      1\n",
       "9225  229699    F   49  59     1      1\n",
       "\n",
       "[18452 rows x 6 columns]"
      ]
     },
     "execution_count": 23,
     "metadata": {},
     "output_type": "execute_result"
    }
   ],
   "source": [
    "# Tous les individus mariés en 2018 dans le Nord\n",
    "cj = pd.concat([cj1, cj2])\n",
    "cj"
   ]
  },
  {
   "cell_type": "code",
   "execution_count": 24,
   "id": "5fce729b",
   "metadata": {},
   "outputs": [
    {
     "data": {
      "text/html": [
       "<div>\n",
       "<style scoped>\n",
       "    .dataframe tbody tr th:only-of-type {\n",
       "        vertical-align: middle;\n",
       "    }\n",
       "\n",
       "    .dataframe tbody tr th {\n",
       "        vertical-align: top;\n",
       "    }\n",
       "\n",
       "    .dataframe thead th {\n",
       "        text-align: right;\n",
       "    }\n",
       "</style>\n",
       "<table border=\"1\" class=\"dataframe\">\n",
       "  <thead>\n",
       "    <tr style=\"text-align: right;\">\n",
       "      <th></th>\n",
       "      <th>index</th>\n",
       "      <th>Sexe</th>\n",
       "      <th>Age</th>\n",
       "      <th>Dep</th>\n",
       "      <th>Etat</th>\n",
       "      <th>Natio</th>\n",
       "      <th>dep</th>\n",
       "    </tr>\n",
       "  </thead>\n",
       "  <tbody>\n",
       "    <tr>\n",
       "      <th>0</th>\n",
       "      <td>1179</td>\n",
       "      <td>F</td>\n",
       "      <td>36</td>\n",
       "      <td>99</td>\n",
       "      <td>Célibataire</td>\n",
       "      <td>étrangère</td>\n",
       "      <td>Etranger</td>\n",
       "    </tr>\n",
       "    <tr>\n",
       "      <th>1</th>\n",
       "      <td>1180</td>\n",
       "      <td>M</td>\n",
       "      <td>44</td>\n",
       "      <td>59</td>\n",
       "      <td>Célibataire</td>\n",
       "      <td>française</td>\n",
       "      <td>Nord</td>\n",
       "    </tr>\n",
       "    <tr>\n",
       "      <th>2</th>\n",
       "      <td>1181</td>\n",
       "      <td>F</td>\n",
       "      <td>59</td>\n",
       "      <td>59</td>\n",
       "      <td>Célibataire</td>\n",
       "      <td>française</td>\n",
       "      <td>Nord</td>\n",
       "    </tr>\n",
       "    <tr>\n",
       "      <th>3</th>\n",
       "      <td>1182</td>\n",
       "      <td>F</td>\n",
       "      <td>35</td>\n",
       "      <td>59</td>\n",
       "      <td>Célibataire</td>\n",
       "      <td>française</td>\n",
       "      <td>Nord</td>\n",
       "    </tr>\n",
       "    <tr>\n",
       "      <th>4</th>\n",
       "      <td>1183</td>\n",
       "      <td>F</td>\n",
       "      <td>41</td>\n",
       "      <td>76</td>\n",
       "      <td>Divorcé</td>\n",
       "      <td>française</td>\n",
       "      <td>Autre</td>\n",
       "    </tr>\n",
       "    <tr>\n",
       "      <th>...</th>\n",
       "      <td>...</td>\n",
       "      <td>...</td>\n",
       "      <td>...</td>\n",
       "      <td>...</td>\n",
       "      <td>...</td>\n",
       "      <td>...</td>\n",
       "      <td>...</td>\n",
       "    </tr>\n",
       "    <tr>\n",
       "      <th>9221</th>\n",
       "      <td>228313</td>\n",
       "      <td>F</td>\n",
       "      <td>28</td>\n",
       "      <td>99</td>\n",
       "      <td>Célibataire</td>\n",
       "      <td>française</td>\n",
       "      <td>Etranger</td>\n",
       "    </tr>\n",
       "    <tr>\n",
       "      <th>9222</th>\n",
       "      <td>228412</td>\n",
       "      <td>F</td>\n",
       "      <td>30</td>\n",
       "      <td>59</td>\n",
       "      <td>Célibataire</td>\n",
       "      <td>française</td>\n",
       "      <td>Nord</td>\n",
       "    </tr>\n",
       "    <tr>\n",
       "      <th>9223</th>\n",
       "      <td>228450</td>\n",
       "      <td>F</td>\n",
       "      <td>28</td>\n",
       "      <td>59</td>\n",
       "      <td>Célibataire</td>\n",
       "      <td>française</td>\n",
       "      <td>Nord</td>\n",
       "    </tr>\n",
       "    <tr>\n",
       "      <th>9224</th>\n",
       "      <td>229068</td>\n",
       "      <td>F</td>\n",
       "      <td>28</td>\n",
       "      <td>59</td>\n",
       "      <td>Célibataire</td>\n",
       "      <td>française</td>\n",
       "      <td>Nord</td>\n",
       "    </tr>\n",
       "    <tr>\n",
       "      <th>9225</th>\n",
       "      <td>229699</td>\n",
       "      <td>F</td>\n",
       "      <td>49</td>\n",
       "      <td>59</td>\n",
       "      <td>Célibataire</td>\n",
       "      <td>française</td>\n",
       "      <td>Nord</td>\n",
       "    </tr>\n",
       "  </tbody>\n",
       "</table>\n",
       "<p>18452 rows × 7 columns</p>\n",
       "</div>"
      ],
      "text/plain": [
       "       index Sexe  Age Dep         Etat      Natio       dep\n",
       "0       1179    F   36  99  Célibataire  étrangère  Etranger\n",
       "1       1180    M   44  59  Célibataire  française      Nord\n",
       "2       1181    F   59  59  Célibataire  française      Nord\n",
       "3       1182    F   35  59  Célibataire  française      Nord\n",
       "4       1183    F   41  76      Divorcé  française     Autre\n",
       "...      ...  ...  ...  ..          ...        ...       ...\n",
       "9221  228313    F   28  99  Célibataire  française  Etranger\n",
       "9222  228412    F   30  59  Célibataire  française      Nord\n",
       "9223  228450    F   28  59  Célibataire  française      Nord\n",
       "9224  229068    F   28  59  Célibataire  française      Nord\n",
       "9225  229699    F   49  59  Célibataire  française      Nord\n",
       "\n",
       "[18452 rows x 7 columns]"
      ]
     },
     "execution_count": 24,
     "metadata": {},
     "output_type": "execute_result"
    }
   ],
   "source": [
    "# Récodage des variables\n",
    "\n",
    "# Etat matrimonial\n",
    "def etat(Etat):\n",
    "    if Etat == 1:\n",
    "        return 'Célibataire'\n",
    "    if Etat == 3:\n",
    "        return 'Veuf'\n",
    "    else:\n",
    "        return 'Divorcé'\n",
    "cj['Etat'] = cj['Etat'].map(etat)\n",
    "\n",
    "# Département de naissance\n",
    "def dep(Dep):\n",
    "    if Dep == '59':\n",
    "        return 'Nord'\n",
    "    if Dep == '62':\n",
    "        return 'Pas de Calais'\n",
    "    if Dep == '99':\n",
    "        return 'Etranger'\n",
    "    else:\n",
    "        return 'Autre'\n",
    "cj['dep'] = cj['Dep'].map(dep)\n",
    "\n",
    "# Nationalité\n",
    "def nat(Natio):\n",
    "    if Natio == 1:\n",
    "        return 'française'\n",
    "    else:\n",
    "        return 'étrangère'\n",
    "cj['Natio'] = cj['Natio'].map(nat)\n",
    "cj"
   ]
  },
  {
   "cell_type": "code",
   "execution_count": 25,
   "id": "5e0b14ec",
   "metadata": {},
   "outputs": [
    {
     "name": "stdout",
     "output_type": "stream",
     "text": [
      "<class 'pandas.core.frame.DataFrame'>\n",
      "Int64Index: 18452 entries, 0 to 9225\n",
      "Data columns (total 7 columns):\n",
      " #   Column  Non-Null Count  Dtype \n",
      "---  ------  --------------  ----- \n",
      " 0   index   18452 non-null  int64 \n",
      " 1   Sexe    18452 non-null  object\n",
      " 2   Age     18452 non-null  int64 \n",
      " 3   Dep     18452 non-null  object\n",
      " 4   Etat    18452 non-null  object\n",
      " 5   Natio   18452 non-null  object\n",
      " 6   dep     18452 non-null  object\n",
      "dtypes: int64(2), object(5)\n",
      "memory usage: 1.1+ MB\n"
     ]
    }
   ],
   "source": [
    "cj.info() # 1 variable quantitative et 4 variables qualitatives"
   ]
  },
  {
   "cell_type": "markdown",
   "id": "a8a1c7d5",
   "metadata": {},
   "source": [
    "### Traitement des données qualitatives"
   ]
  },
  {
   "cell_type": "code",
   "execution_count": 26,
   "id": "1f118f8d",
   "metadata": {},
   "outputs": [
    {
     "data": {
      "text/plain": [
       "F    9255\n",
       "M    9197\n",
       "Name: Sexe, dtype: int64"
      ]
     },
     "execution_count": 26,
     "metadata": {},
     "output_type": "execute_result"
    }
   ],
   "source": [
    "# Sexe\n",
    "cj['Sexe'].value_counts()"
   ]
  },
  {
   "cell_type": "code",
   "execution_count": 27,
   "id": "e7c67a83",
   "metadata": {},
   "outputs": [
    {
     "data": {
      "text/plain": [
       "<AxesSubplot:xlabel='Etat', ylabel='count'>"
      ]
     },
     "execution_count": 27,
     "metadata": {},
     "output_type": "execute_result"
    },
    {
     "data": {
      "image/png": "[encoded data removed]",
      "text/plain": [
       "<Figure size 432x288 with 1 Axes>"
      ]
     },
     "metadata": {
      "needs_background": "light"
     },
     "output_type": "display_data"
    }
   ],
   "source": [
    "# Etat matrimonial avant le mariage en 2018 selon sexe\n",
    "sns.countplot(data=cj, x='Etat', hue='Sexe')"
   ]
  },
  {
   "cell_type": "code",
   "execution_count": 28,
   "id": "164e88bb",
   "metadata": {},
   "outputs": [
    {
     "data": {
      "text/plain": [
       "<AxesSubplot:xlabel='dep', ylabel='count'>"
      ]
     },
     "execution_count": 28,
     "metadata": {},
     "output_type": "execute_result"
    },
    {
     "data": {
      "image/png": "[encoded data removed]",
      "text/plain": [
       "<Figure size 432x288 with 1 Axes>"
      ]
     },
     "metadata": {
      "needs_background": "light"
     },
     "output_type": "display_data"
    }
   ],
   "source": [
    "# Département de naissance selon le sexe\n",
    "sns.countplot(data=cj, x='dep', hue='Sexe')"
   ]
  },
  {
   "cell_type": "code",
   "execution_count": 29,
   "id": "216b57bb",
   "metadata": {},
   "outputs": [
    {
     "data": {
      "text/plain": [
       "Text(0.5, 1.0, 'Nationalité des conjoints dans le Nord en 2018')"
      ]
     },
     "execution_count": 29,
     "metadata": {},
     "output_type": "execute_result"
    },
    {
     "data": {
      "image/png": "[encoded data removed]",
      "text/plain": [
       "<Figure size 432x288 with 1 Axes>"
      ]
     },
     "metadata": {},
     "output_type": "display_data"
    }
   ],
   "source": [
    "# Nationalité\n",
    "nat = cj['Natio'].value_counts()\n",
    "plt.pie(nat.array, labels = nat.index, normalize = True,\n",
    "           explode = [0.1, 0.0], colors = ['plum', 'beige'],\n",
    "           autopct = lambda fr: str(round(fr, 1)) + ' %',\n",
    "           pctdistance = 0.7, labeldistance = 1.2,\n",
    "           shadow = True) \n",
    "plt.title('Nationalité des conjoints dans le Nord en 2018')"
   ]
  },
  {
   "cell_type": "code",
   "execution_count": 30,
   "id": "388b69d1",
   "metadata": {},
   "outputs": [
    {
     "data": {
      "text/plain": [
       "59    13263\n",
       "99     2046\n",
       "62     1072\n",
       "02      182\n",
       "75      158\n",
       "80      140\n",
       "78       94\n",
       "76       81\n",
       "93       80\n",
       "60       72\n",
       "Name: Dep, dtype: int64"
      ]
     },
     "execution_count": 30,
     "metadata": {},
     "output_type": "execute_result"
    }
   ],
   "source": [
    "# Départements en détail : Top 10 départements de naissance des individus\n",
    "dep_n = cj['Dep'].value_counts().nlargest(10)\n",
    "dep_n"
   ]
  },
  {
   "cell_type": "code",
   "execution_count": 31,
   "id": "2f23a188",
   "metadata": {},
   "outputs": [
    {
     "data": {
      "text/html": [
       "<div>\n",
       "<style scoped>\n",
       "    .dataframe tbody tr th:only-of-type {\n",
       "        vertical-align: middle;\n",
       "    }\n",
       "\n",
       "    .dataframe tbody tr th {\n",
       "        vertical-align: top;\n",
       "    }\n",
       "\n",
       "    .dataframe thead th {\n",
       "        text-align: right;\n",
       "    }\n",
       "</style>\n",
       "<table border=\"1\" class=\"dataframe\">\n",
       "  <thead>\n",
       "    <tr style=\"text-align: right;\">\n",
       "      <th></th>\n",
       "      <th>Département</th>\n",
       "      <th>Effectif</th>\n",
       "    </tr>\n",
       "  </thead>\n",
       "  <tbody>\n",
       "    <tr>\n",
       "      <th>59</th>\n",
       "      <td>Nord</td>\n",
       "      <td>13263</td>\n",
       "    </tr>\n",
       "    <tr>\n",
       "      <th>99</th>\n",
       "      <td>Etranger</td>\n",
       "      <td>2046</td>\n",
       "    </tr>\n",
       "    <tr>\n",
       "      <th>62</th>\n",
       "      <td>Pas de Calais</td>\n",
       "      <td>1072</td>\n",
       "    </tr>\n",
       "    <tr>\n",
       "      <th>02</th>\n",
       "      <td>Aisne</td>\n",
       "      <td>182</td>\n",
       "    </tr>\n",
       "    <tr>\n",
       "      <th>75</th>\n",
       "      <td>Paris</td>\n",
       "      <td>158</td>\n",
       "    </tr>\n",
       "    <tr>\n",
       "      <th>80</th>\n",
       "      <td>Somme</td>\n",
       "      <td>140</td>\n",
       "    </tr>\n",
       "    <tr>\n",
       "      <th>78</th>\n",
       "      <td>Yvelines</td>\n",
       "      <td>94</td>\n",
       "    </tr>\n",
       "    <tr>\n",
       "      <th>76</th>\n",
       "      <td>Seine-Maritime</td>\n",
       "      <td>81</td>\n",
       "    </tr>\n",
       "    <tr>\n",
       "      <th>93</th>\n",
       "      <td>Seine-Saint-Denis</td>\n",
       "      <td>80</td>\n",
       "    </tr>\n",
       "    <tr>\n",
       "      <th>60</th>\n",
       "      <td>Oise</td>\n",
       "      <td>72</td>\n",
       "    </tr>\n",
       "  </tbody>\n",
       "</table>\n",
       "</div>"
      ],
      "text/plain": [
       "          Département  Effectif\n",
       "59               Nord     13263\n",
       "99           Etranger      2046\n",
       "62      Pas de Calais      1072\n",
       "02              Aisne       182\n",
       "75              Paris       158\n",
       "80              Somme       140\n",
       "78           Yvelines        94\n",
       "76     Seine-Maritime        81\n",
       "93  Seine-Saint-Denis        80\n",
       "60               Oise        72"
      ]
     },
     "execution_count": 31,
     "metadata": {},
     "output_type": "execute_result"
    }
   ],
   "source": [
    "# Ajouter le nomme des départements et créer un dataframe\n",
    "dep_dict = {\"59\": \"Nord\", \"99\": \"Etranger\", \"62\": \"Pas de Calais\",\n",
    "           \"02\": \"Aisne\", \"75\": \"Paris\", \"80\": \"Somme\", \"78\": \"Yvelines\",\n",
    "           \"76\": \"Seine-Maritime\", \"93\": \"Seine-Saint-Denis\", \"60\":\"Oise\"}\n",
    "dep_dict = pd.Series(dep_dict)\n",
    "dep = pd.concat([dep_dict, dep_n], axis=1)\n",
    "dep = dep.rename(columns={0: 'Département', 'Dep': 'Effectif'})\n",
    "dep"
   ]
  },
  {
   "cell_type": "code",
   "execution_count": 32,
   "id": "fb9b73c4",
   "metadata": {},
   "outputs": [
    {
     "data": {
      "text/html": [
       "<div>\n",
       "<style scoped>\n",
       "    .dataframe tbody tr th:only-of-type {\n",
       "        vertical-align: middle;\n",
       "    }\n",
       "\n",
       "    .dataframe tbody tr th {\n",
       "        vertical-align: top;\n",
       "    }\n",
       "\n",
       "    .dataframe thead th {\n",
       "        text-align: right;\n",
       "    }\n",
       "</style>\n",
       "<table border=\"1\" class=\"dataframe\">\n",
       "  <thead>\n",
       "    <tr style=\"text-align: right;\">\n",
       "      <th></th>\n",
       "      <th>Département</th>\n",
       "      <th>Effectif</th>\n",
       "      <th>Pourcentage (%)</th>\n",
       "    </tr>\n",
       "  </thead>\n",
       "  <tbody>\n",
       "    <tr>\n",
       "      <th>59</th>\n",
       "      <td>Nord</td>\n",
       "      <td>13263</td>\n",
       "      <td>71.9</td>\n",
       "    </tr>\n",
       "    <tr>\n",
       "      <th>99</th>\n",
       "      <td>Etranger</td>\n",
       "      <td>2046</td>\n",
       "      <td>11.1</td>\n",
       "    </tr>\n",
       "    <tr>\n",
       "      <th>62</th>\n",
       "      <td>Pas de Calais</td>\n",
       "      <td>1072</td>\n",
       "      <td>5.8</td>\n",
       "    </tr>\n",
       "    <tr>\n",
       "      <th>02</th>\n",
       "      <td>Aisne</td>\n",
       "      <td>182</td>\n",
       "      <td>1.0</td>\n",
       "    </tr>\n",
       "    <tr>\n",
       "      <th>75</th>\n",
       "      <td>Paris</td>\n",
       "      <td>158</td>\n",
       "      <td>0.9</td>\n",
       "    </tr>\n",
       "    <tr>\n",
       "      <th>80</th>\n",
       "      <td>Somme</td>\n",
       "      <td>140</td>\n",
       "      <td>0.8</td>\n",
       "    </tr>\n",
       "    <tr>\n",
       "      <th>78</th>\n",
       "      <td>Yvelines</td>\n",
       "      <td>94</td>\n",
       "      <td>0.5</td>\n",
       "    </tr>\n",
       "    <tr>\n",
       "      <th>76</th>\n",
       "      <td>Seine-Maritime</td>\n",
       "      <td>81</td>\n",
       "      <td>0.4</td>\n",
       "    </tr>\n",
       "    <tr>\n",
       "      <th>93</th>\n",
       "      <td>Seine-Saint-Denis</td>\n",
       "      <td>80</td>\n",
       "      <td>0.4</td>\n",
       "    </tr>\n",
       "    <tr>\n",
       "      <th>60</th>\n",
       "      <td>Oise</td>\n",
       "      <td>72</td>\n",
       "      <td>0.4</td>\n",
       "    </tr>\n",
       "  </tbody>\n",
       "</table>\n",
       "</div>"
      ],
      "text/plain": [
       "          Département  Effectif  Pourcentage (%)\n",
       "59               Nord     13263             71.9\n",
       "99           Etranger      2046             11.1\n",
       "62      Pas de Calais      1072              5.8\n",
       "02              Aisne       182              1.0\n",
       "75              Paris       158              0.9\n",
       "80              Somme       140              0.8\n",
       "78           Yvelines        94              0.5\n",
       "76     Seine-Maritime        81              0.4\n",
       "93  Seine-Saint-Denis        80              0.4\n",
       "60               Oise        72              0.4"
      ]
     },
     "execution_count": 32,
     "metadata": {},
     "output_type": "execute_result"
    }
   ],
   "source": [
    "# Calculer le pourcentage et ajouter dans le dataframe\n",
    "deppc = 100 * dep_n / 18452\n",
    "deppc = round(deppc, 1)\n",
    "dep = pd.concat([dep, deppc], axis=1)\n",
    "dep = dep.rename(columns={'Dep': 'Pourcentage (%)'})\n",
    "dep"
   ]
  },
  {
   "cell_type": "markdown",
   "id": "759576a8",
   "metadata": {},
   "source": [
    "### Traitement des données quantitatives"
   ]
  },
  {
   "cell_type": "code",
   "execution_count": 33,
   "id": "fd30a030",
   "metadata": {},
   "outputs": [
    {
     "data": {
      "text/plain": [
       "count    18452.000000\n",
       "mean        36.088933\n",
       "std         10.782604\n",
       "min         18.000000\n",
       "25%         28.000000\n",
       "50%         33.000000\n",
       "75%         42.000000\n",
       "max         93.000000\n",
       "Name: Age, dtype: float64"
      ]
     },
     "execution_count": 33,
     "metadata": {},
     "output_type": "execute_result"
    }
   ],
   "source": [
    "# Description statistique sur l'âge\n",
    "cj['Age'].describe()"
   ]
  },
  {
   "cell_type": "code",
   "execution_count": 34,
   "id": "a8a52c11",
   "metadata": {},
   "outputs": [
    {
     "data": {
      "text/plain": [
       "Text(0.5, 1.0, \"Distribution d'âge au mariage dans le Nord en 2018\")"
      ]
     },
     "execution_count": 34,
     "metadata": {},
     "output_type": "execute_result"
    },
    {
     "data": {
      "image/png": "[encoded data removed]",
      "text/plain": [
       "<Figure size 720x288 with 1 Axes>"
      ]
     },
     "metadata": {
      "needs_background": "light"
     },
     "output_type": "display_data"
    }
   ],
   "source": [
    "# Histogramme\n",
    "fig,ax =plt.subplots(1,1,figsize=(10,4))\n",
    "ax.hist (cj['Age'],bins=30)\n",
    "ax.grid(True)\n",
    "ax.grid(True)\n",
    "ax.set_title(\"Distribution d'âge au mariage dans le Nord en 2018\")"
   ]
  },
  {
   "cell_type": "code",
   "execution_count": 35,
   "id": "12cbf4d9",
   "metadata": {},
   "outputs": [
    {
     "data": {
      "text/plain": [
       "Sexe\n",
       "F    AxesSubplot(0.125,0.125;0.775x0.755)\n",
       "M    AxesSubplot(0.125,0.125;0.775x0.755)\n",
       "Name: Age, dtype: object"
      ]
     },
     "execution_count": 35,
     "metadata": {},
     "output_type": "execute_result"
    },
    {
     "data": {
      "image/png": "[encoded data removed]",
      "text/plain": [
       "<Figure size 432x288 with 1 Axes>"
      ]
     },
     "metadata": {
      "needs_background": "light"
     },
     "output_type": "display_data"
    }
   ],
   "source": [
    "cj.groupby('Sexe').Age.plot(kind='kde')"
   ]
  },
  {
   "cell_type": "code",
   "execution_count": 36,
   "id": "b4295043",
   "metadata": {
    "scrolled": false
   },
   "outputs": [
    {
     "data": {
      "text/plain": [
       "Etat\n",
       "Célibataire    AxesSubplot(0.125,0.125;0.775x0.755)\n",
       "Divorcé        AxesSubplot(0.125,0.125;0.775x0.755)\n",
       "Veuf           AxesSubplot(0.125,0.125;0.775x0.755)\n",
       "Name: Age, dtype: object"
      ]
     },
     "execution_count": 36,
     "metadata": {},
     "output_type": "execute_result"
    },
    {
     "data": {
      "image/png": "[encoded data removed]",
      "text/plain": [
       "<Figure size 432x288 with 1 Axes>"
      ]
     },
     "metadata": {
      "needs_background": "light"
     },
     "output_type": "display_data"
    }
   ],
   "source": [
    "# Etat matrimonial antérieur selon âge\n",
    "cj.groupby('Etat').Age.plot(kind='kde')"
   ]
  },
  {
   "cell_type": "markdown",
   "id": "b1b4fc5d",
   "metadata": {},
   "source": [
    "## Nature de couple"
   ]
  },
  {
   "cell_type": "code",
   "execution_count": 37,
   "id": "ab329f6f",
   "metadata": {},
   "outputs": [
    {
     "data": {
      "text/html": [
       "<div>\n",
       "<style scoped>\n",
       "    .dataframe tbody tr th:only-of-type {\n",
       "        vertical-align: middle;\n",
       "    }\n",
       "\n",
       "    .dataframe tbody tr th {\n",
       "        vertical-align: top;\n",
       "    }\n",
       "\n",
       "    .dataframe thead th {\n",
       "        text-align: right;\n",
       "    }\n",
       "</style>\n",
       "<table border=\"1\" class=\"dataframe\">\n",
       "  <thead>\n",
       "    <tr style=\"text-align: right;\">\n",
       "      <th>SEXE2</th>\n",
       "      <th>F</th>\n",
       "      <th>M</th>\n",
       "    </tr>\n",
       "    <tr>\n",
       "      <th>SEXE1</th>\n",
       "      <th></th>\n",
       "      <th></th>\n",
       "    </tr>\n",
       "  </thead>\n",
       "  <tbody>\n",
       "    <tr>\n",
       "      <th>F</th>\n",
       "      <td>122</td>\n",
       "      <td>624</td>\n",
       "    </tr>\n",
       "    <tr>\n",
       "      <th>M</th>\n",
       "      <td>8387</td>\n",
       "      <td>93</td>\n",
       "    </tr>\n",
       "  </tbody>\n",
       "</table>\n",
       "</div>"
      ],
      "text/plain": [
       "SEXE2     F    M\n",
       "SEXE1           \n",
       "F       122  624\n",
       "M      8387   93"
      ]
     },
     "execution_count": 37,
     "metadata": {},
     "output_type": "execute_result"
    }
   ],
   "source": [
    "tab1=pd.crosstab(nord['SEXE1'],nord['SEXE2'])\n",
    "tab1\n",
    "# 9011 couple homme-femme, \n",
    "# 122 couples de 2 femmes, \n",
    "# 93 couples de 2 hommes"
   ]
  },
  {
   "cell_type": "code",
   "execution_count": 38,
   "id": "415cb9c6",
   "metadata": {},
   "outputs": [
    {
     "data": {
      "text/html": [
       "<div>\n",
       "<style scoped>\n",
       "    .dataframe tbody tr th:only-of-type {\n",
       "        vertical-align: middle;\n",
       "    }\n",
       "\n",
       "    .dataframe tbody tr th {\n",
       "        vertical-align: top;\n",
       "    }\n",
       "\n",
       "    .dataframe thead th {\n",
       "        text-align: right;\n",
       "    }\n",
       "</style>\n",
       "<table border=\"1\" class=\"dataframe\">\n",
       "  <thead>\n",
       "    <tr style=\"text-align: right;\">\n",
       "      <th>INDNAT2</th>\n",
       "      <th>1</th>\n",
       "      <th>2</th>\n",
       "    </tr>\n",
       "    <tr>\n",
       "      <th>INDNAT1</th>\n",
       "      <th></th>\n",
       "      <th></th>\n",
       "    </tr>\n",
       "  </thead>\n",
       "  <tbody>\n",
       "    <tr>\n",
       "      <th>1</th>\n",
       "      <td>7855</td>\n",
       "      <td>517</td>\n",
       "    </tr>\n",
       "    <tr>\n",
       "      <th>2</th>\n",
       "      <td>624</td>\n",
       "      <td>230</td>\n",
       "    </tr>\n",
       "  </tbody>\n",
       "</table>\n",
       "</div>"
      ],
      "text/plain": [
       "INDNAT2     1    2\n",
       "INDNAT1           \n",
       "1        7855  517\n",
       "2         624  230"
      ]
     },
     "execution_count": 38,
     "metadata": {},
     "output_type": "execute_result"
    }
   ],
   "source": [
    "tab2=pd.crosstab(nord['INDNAT1'],nord['INDNAT2'])\n",
    "tab2\n",
    "# 7855 couples entre les 2 français, \n",
    "# 1141 couples nationalité mixe, \n",
    "# 230 couples entre les 2 étrangères"
   ]
  },
  {
   "cell_type": "code",
   "execution_count": 39,
   "id": "3409f760",
   "metadata": {},
   "outputs": [
    {
     "data": {
      "text/html": [
       "<div>\n",
       "<style scoped>\n",
       "    .dataframe tbody tr th:only-of-type {\n",
       "        vertical-align: middle;\n",
       "    }\n",
       "\n",
       "    .dataframe tbody tr th {\n",
       "        vertical-align: top;\n",
       "    }\n",
       "\n",
       "    .dataframe thead th {\n",
       "        text-align: right;\n",
       "    }\n",
       "</style>\n",
       "<table border=\"1\" class=\"dataframe\">\n",
       "  <thead>\n",
       "    <tr style=\"text-align: right;\">\n",
       "      <th>ETAMAT2</th>\n",
       "      <th>1</th>\n",
       "      <th>3</th>\n",
       "      <th>4</th>\n",
       "    </tr>\n",
       "    <tr>\n",
       "      <th>ETAMAT1</th>\n",
       "      <th></th>\n",
       "      <th></th>\n",
       "      <th></th>\n",
       "    </tr>\n",
       "  </thead>\n",
       "  <tbody>\n",
       "    <tr>\n",
       "      <th>1</th>\n",
       "      <td>6628</td>\n",
       "      <td>36</td>\n",
       "      <td>705</td>\n",
       "    </tr>\n",
       "    <tr>\n",
       "      <th>3</th>\n",
       "      <td>24</td>\n",
       "      <td>13</td>\n",
       "      <td>56</td>\n",
       "    </tr>\n",
       "    <tr>\n",
       "      <th>4</th>\n",
       "      <td>794</td>\n",
       "      <td>70</td>\n",
       "      <td>900</td>\n",
       "    </tr>\n",
       "  </tbody>\n",
       "</table>\n",
       "</div>"
      ],
      "text/plain": [
       "ETAMAT2     1   3    4\n",
       "ETAMAT1               \n",
       "1        6628  36  705\n",
       "3          24  13   56\n",
       "4         794  70  900"
      ]
     },
     "execution_count": 39,
     "metadata": {},
     "output_type": "execute_result"
    }
   ],
   "source": [
    "tab3=pd.crosstab(nord['ETAMAT1'],nord['ETAMAT2'])\n",
    "tab3\n",
    "# Dans 6628 mariages, il s'agit du premier mariage de tous les 2 conjoints\n",
    "# 199 personnes veufs ont célébré leur mariage en 2018 dans le Nord\n",
    "# 900 couples de 2 personnes divorcées"
   ]
  },
  {
   "cell_type": "code",
   "execution_count": 40,
   "id": "2645a10f",
   "metadata": {},
   "outputs": [
    {
     "data": {
      "text/plain": [
       "N    6467\n",
       "O    2759\n",
       "Name: NBENFCOM, dtype: int64"
      ]
     },
     "execution_count": 40,
     "metadata": {},
     "output_type": "execute_result"
    }
   ],
   "source": [
    "nord['NBENFCOM'].value_counts()\n",
    "# 2759 couples ont des enfants en commun avant de se marier"
   ]
  },
  {
   "cell_type": "markdown",
   "id": "67598fbf",
   "metadata": {},
   "source": [
    "## Etudier les couples hétésexuels"
   ]
  },
  {
   "cell_type": "code",
   "execution_count": 41,
   "id": "829e4e7d",
   "metadata": {},
   "outputs": [],
   "source": [
    "# Dataframe des couples dont conjoint 1 est un homme et conjoint 2 est 1 femme\n",
    "nord_h1 = nord[nord['SEXE1'] == 'M']\n",
    "nord_hf = nord_h1[nord_h1['SEXE2'] == 'F']"
   ]
  },
  {
   "cell_type": "code",
   "execution_count": 42,
   "id": "5f357afe",
   "metadata": {},
   "outputs": [],
   "source": [
    "# Dataframe des couples dont conjoint 1 est une femme et conjoint 2 est un homme\n",
    "nord_h2 = nord[nord['SEXE2'] == 'M']\n",
    "nord_fh = nord_h2[nord_h2['SEXE1'] == 'F']"
   ]
  },
  {
   "cell_type": "code",
   "execution_count": 43,
   "id": "e419a025",
   "metadata": {},
   "outputs": [],
   "source": [
    "# Changer le nom des variables\n",
    "nord_hf = nord_hf.rename(columns={'ANAIS1': 'ah','ANAIS2': 'af', \n",
    "                               'DEPNAIS1': 'Deph', 'DEPNAIS2': 'Depf',\n",
    "                               'ETAMAT1' : 'Etath', 'ETAMAT2': 'Etatf', \n",
    "                               'INDNAT1': 'Natioh', 'INDNAT2': 'Natiof'})\n",
    "nord_fh = nord_fh.rename(columns={'ANAIS1': 'af','ANAIS2': 'ah', \n",
    "                               'DEPNAIS1': 'Depf', 'DEPNAIS2': 'Deph',\n",
    "                               'ETAMAT1' : 'Etatf', 'ETAMAT2': 'Etath', \n",
    "                               'INDNAT1': 'Natiof', 'INDNAT2': 'Natioh'})"
   ]
  },
  {
   "cell_type": "code",
   "execution_count": 44,
   "id": "880821cd",
   "metadata": {},
   "outputs": [],
   "source": [
    "# Année de naissance des hommes en couples hétérosexuels\n",
    "ansh = np.concatenate((nord_hf.ah.array, nord_fh.ah.array))\n",
    "# Année de naissance des hommes en couples hétérosexuels\n",
    "ansf = np.concatenate((nord_hf.af.array, nord_fh.af.array))"
   ]
  },
  {
   "cell_type": "markdown",
   "id": "3d27b370",
   "metadata": {},
   "source": [
    "### Age de l'homme - age de la femme"
   ]
  },
  {
   "cell_type": "code",
   "execution_count": 45,
   "id": "3ecc0694",
   "metadata": {},
   "outputs": [],
   "source": [
    "ageh = 2018 - ansh\n",
    "agef = 2018 - ansf"
   ]
  },
  {
   "cell_type": "code",
   "execution_count": 46,
   "id": "d3de8e62",
   "metadata": {},
   "outputs": [
    {
     "name": "stdout",
     "output_type": "stream",
     "text": [
      "Age moyen au mariage est 37.21906558650538 pour les hommes et 34.8959050049939 pour les femmes.\n",
      "Age médian au mariage est 34.0 pour les hommes et 32.0 pour les femmes.\n",
      "Age maximum au mariage est 93 pour les hommes et 88 pour les femmes.\n"
     ]
    }
   ],
   "source": [
    "avh = np.mean(ageh)\n",
    "avf = np.mean(agef)\n",
    "print (f\"Age moyen au mariage est {avh} pour les hommes et {avf} pour les femmes.\")\n",
    "medh = np.median(ageh)\n",
    "medf = np.median(agef)\n",
    "print (f\"Age médian au mariage est {medh} pour les hommes et {medf} pour les femmes.\")\n",
    "maxh = np.max(ageh)\n",
    "maxf = np.max(agef)\n",
    "print (f\"Age maximum au mariage est {maxh} pour les hommes et {maxf} pour les femmes.\")"
   ]
  },
  {
   "cell_type": "code",
   "execution_count": 47,
   "id": "9ba08d18",
   "metadata": {},
   "outputs": [
    {
     "data": {
      "text/plain": [
       "[Text(1, 0, 'Homme'), Text(2, 0, 'Femme')]"
      ]
     },
     "execution_count": 47,
     "metadata": {},
     "output_type": "execute_result"
    },
    {
     "data": {
      "image/png": "[encoded data removed]",
      "text/plain": [
       "<Figure size 432x288 with 1 Axes>"
      ]
     },
     "metadata": {
      "needs_background": "light"
     },
     "output_type": "display_data"
    }
   ],
   "source": [
    "bp = plt.boxplot((ageh, agef), \n",
    "                    patch_artist = True)\n",
    "for patch in bp['boxes']:\n",
    "  patch.set_color('beige')\n",
    "  patch.set_edgecolor('black')\n",
    "plt.title('Age au mariage hétérosexuel')\n",
    "plt.grid()\n",
    "plt.gca().xaxis.set_ticklabels(['Homme', 'Femme'])"
   ]
  },
  {
   "cell_type": "code",
   "execution_count": 48,
   "id": "51646f5b",
   "metadata": {},
   "outputs": [
    {
     "data": {
      "text/plain": [
       "Text(0, 0.5, 'Age de la conjointe')"
      ]
     },
     "execution_count": 48,
     "metadata": {},
     "output_type": "execute_result"
    },
    {
     "data": {
      "image/png": "[encoded data removed]",
      "text/plain": [
       "<Figure size 432x288 with 1 Axes>"
      ]
     },
     "metadata": {
      "needs_background": "light"
     },
     "output_type": "display_data"
    }
   ],
   "source": [
    "# Nuage de points\n",
    "x = ageh\n",
    "y = agef\n",
    "plt.scatter(x, y, c = 'brown', marker = '.')\n",
    "plt.grid()\n",
    "plt.title('Age au mariage de la femme selon celui de son mari', fontsize=12)\n",
    "plt.xlabel('Age du conjoint', fontsize=12)\n",
    "plt.ylabel('Age de la conjointe', fontsize=12)"
   ]
  },
  {
   "cell_type": "markdown",
   "id": "a5ac7012",
   "metadata": {},
   "source": [
    "### Etat matrimonial des hommes et des femmes avant leur mariage"
   ]
  },
  {
   "cell_type": "code",
   "execution_count": 49,
   "id": "91045906",
   "metadata": {},
   "outputs": [],
   "source": [
    "# Créer un data frame\n",
    "Etath = pd.concat([nord_hf.Etath, nord_fh.Etath], axis=0)\n",
    "Etatf = pd.concat([nord_hf.Etatf, nord_fh.Etatf], axis=0)\n",
    "Etat = pd.concat([Etath, Etatf], axis=1)"
   ]
  },
  {
   "cell_type": "code",
   "execution_count": 50,
   "id": "e24b1d49",
   "metadata": {},
   "outputs": [
    {
     "data": {
      "text/html": [
       "<div>\n",
       "<style scoped>\n",
       "    .dataframe tbody tr th:only-of-type {\n",
       "        vertical-align: middle;\n",
       "    }\n",
       "\n",
       "    .dataframe tbody tr th {\n",
       "        vertical-align: top;\n",
       "    }\n",
       "\n",
       "    .dataframe thead th {\n",
       "        text-align: right;\n",
       "    }\n",
       "</style>\n",
       "<table border=\"1\" class=\"dataframe\">\n",
       "  <thead>\n",
       "    <tr style=\"text-align: right;\">\n",
       "      <th></th>\n",
       "      <th>Etath</th>\n",
       "      <th>Etatf</th>\n",
       "      <th>etath</th>\n",
       "      <th>etatf</th>\n",
       "    </tr>\n",
       "  </thead>\n",
       "  <tbody>\n",
       "    <tr>\n",
       "      <th>1180</th>\n",
       "      <td>1</td>\n",
       "      <td>1</td>\n",
       "      <td>Homme célibataire</td>\n",
       "      <td>Femme célibataire</td>\n",
       "    </tr>\n",
       "    <tr>\n",
       "      <th>1184</th>\n",
       "      <td>1</td>\n",
       "      <td>1</td>\n",
       "      <td>Homme célibataire</td>\n",
       "      <td>Femme célibataire</td>\n",
       "    </tr>\n",
       "    <tr>\n",
       "      <th>1185</th>\n",
       "      <td>1</td>\n",
       "      <td>1</td>\n",
       "      <td>Homme célibataire</td>\n",
       "      <td>Femme célibataire</td>\n",
       "    </tr>\n",
       "    <tr>\n",
       "      <th>1186</th>\n",
       "      <td>3</td>\n",
       "      <td>4</td>\n",
       "      <td>Homme veuf</td>\n",
       "      <td>Femme divorcée</td>\n",
       "    </tr>\n",
       "    <tr>\n",
       "      <th>1188</th>\n",
       "      <td>1</td>\n",
       "      <td>1</td>\n",
       "      <td>Homme célibataire</td>\n",
       "      <td>Femme célibataire</td>\n",
       "    </tr>\n",
       "    <tr>\n",
       "      <th>...</th>\n",
       "      <td>...</td>\n",
       "      <td>...</td>\n",
       "      <td>...</td>\n",
       "      <td>...</td>\n",
       "    </tr>\n",
       "    <tr>\n",
       "      <th>213045</th>\n",
       "      <td>1</td>\n",
       "      <td>1</td>\n",
       "      <td>Homme célibataire</td>\n",
       "      <td>Femme célibataire</td>\n",
       "    </tr>\n",
       "    <tr>\n",
       "      <th>213994</th>\n",
       "      <td>1</td>\n",
       "      <td>1</td>\n",
       "      <td>Homme célibataire</td>\n",
       "      <td>Femme célibataire</td>\n",
       "    </tr>\n",
       "    <tr>\n",
       "      <th>223910</th>\n",
       "      <td>4</td>\n",
       "      <td>1</td>\n",
       "      <td>Homme divorcé</td>\n",
       "      <td>Femme célibataire</td>\n",
       "    </tr>\n",
       "    <tr>\n",
       "      <th>225383</th>\n",
       "      <td>1</td>\n",
       "      <td>1</td>\n",
       "      <td>Homme célibataire</td>\n",
       "      <td>Femme célibataire</td>\n",
       "    </tr>\n",
       "    <tr>\n",
       "      <th>227889</th>\n",
       "      <td>1</td>\n",
       "      <td>1</td>\n",
       "      <td>Homme célibataire</td>\n",
       "      <td>Femme célibataire</td>\n",
       "    </tr>\n",
       "  </tbody>\n",
       "</table>\n",
       "<p>9011 rows × 4 columns</p>\n",
       "</div>"
      ],
      "text/plain": [
       "        Etath  Etatf              etath              etatf\n",
       "1180        1      1  Homme célibataire  Femme célibataire\n",
       "1184        1      1  Homme célibataire  Femme célibataire\n",
       "1185        1      1  Homme célibataire  Femme célibataire\n",
       "1186        3      4         Homme veuf     Femme divorcée\n",
       "1188        1      1  Homme célibataire  Femme célibataire\n",
       "...       ...    ...                ...                ...\n",
       "213045      1      1  Homme célibataire  Femme célibataire\n",
       "213994      1      1  Homme célibataire  Femme célibataire\n",
       "223910      4      1      Homme divorcé  Femme célibataire\n",
       "225383      1      1  Homme célibataire  Femme célibataire\n",
       "227889      1      1  Homme célibataire  Femme célibataire\n",
       "\n",
       "[9011 rows x 4 columns]"
      ]
     },
     "execution_count": 50,
     "metadata": {},
     "output_type": "execute_result"
    }
   ],
   "source": [
    "# Recodage \n",
    "def etath(Etath):\n",
    "    if Etath == 1:\n",
    "        return 'Homme célibataire'\n",
    "    if Etath == 3:\n",
    "        return 'Homme veuf'\n",
    "    else:\n",
    "        return 'Homme divorcé'\n",
    "Etat['etath'] = Etat['Etath'].map(etath)\n",
    "\n",
    "def etatf(Etatf):\n",
    "    if Etatf == 1:\n",
    "        return 'Femme célibataire'\n",
    "    if Etatf == 3:\n",
    "        return 'Femme veuve'\n",
    "    else:\n",
    "        return 'Femme divorcée'\n",
    "Etat['etatf'] = Etat['Etatf'].map(etatf)\n",
    "Etat\n"
   ]
  },
  {
   "cell_type": "code",
   "execution_count": 51,
   "id": "b3cbcfb1",
   "metadata": {},
   "outputs": [
    {
     "data": {
      "text/html": [
       "<div>\n",
       "<style scoped>\n",
       "    .dataframe tbody tr th:only-of-type {\n",
       "        vertical-align: middle;\n",
       "    }\n",
       "\n",
       "    .dataframe tbody tr th {\n",
       "        vertical-align: top;\n",
       "    }\n",
       "\n",
       "    .dataframe thead th {\n",
       "        text-align: right;\n",
       "    }\n",
       "</style>\n",
       "<table border=\"1\" class=\"dataframe\">\n",
       "  <thead>\n",
       "    <tr style=\"text-align: right;\">\n",
       "      <th>etatf</th>\n",
       "      <th>Femme célibataire</th>\n",
       "      <th>Femme divorcée</th>\n",
       "      <th>Femme veuve</th>\n",
       "      <th>All</th>\n",
       "    </tr>\n",
       "    <tr>\n",
       "      <th>etath</th>\n",
       "      <th></th>\n",
       "      <th></th>\n",
       "      <th></th>\n",
       "      <th></th>\n",
       "    </tr>\n",
       "  </thead>\n",
       "  <tbody>\n",
       "    <tr>\n",
       "      <th>Homme célibataire</th>\n",
       "      <td>6458</td>\n",
       "      <td>686</td>\n",
       "      <td>38</td>\n",
       "      <td>7182</td>\n",
       "    </tr>\n",
       "    <tr>\n",
       "      <th>Homme divorcé</th>\n",
       "      <td>774</td>\n",
       "      <td>894</td>\n",
       "      <td>69</td>\n",
       "      <td>1737</td>\n",
       "    </tr>\n",
       "    <tr>\n",
       "      <th>Homme veuf</th>\n",
       "      <td>22</td>\n",
       "      <td>57</td>\n",
       "      <td>13</td>\n",
       "      <td>92</td>\n",
       "    </tr>\n",
       "    <tr>\n",
       "      <th>All</th>\n",
       "      <td>7254</td>\n",
       "      <td>1637</td>\n",
       "      <td>120</td>\n",
       "      <td>9011</td>\n",
       "    </tr>\n",
       "  </tbody>\n",
       "</table>\n",
       "</div>"
      ],
      "text/plain": [
       "etatf              Femme célibataire  Femme divorcée  Femme veuve   All\n",
       "etath                                                                  \n",
       "Homme célibataire               6458             686           38  7182\n",
       "Homme divorcé                    774             894           69  1737\n",
       "Homme veuf                        22              57           13    92\n",
       "All                             7254            1637          120  9011"
      ]
     },
     "execution_count": 51,
     "metadata": {},
     "output_type": "execute_result"
    }
   ],
   "source": [
    "pd.crosstab(Etat['etath'],Etat['etatf'], margins=True)"
   ]
  },
  {
   "cell_type": "markdown",
   "id": "1cd102b6",
   "metadata": {},
   "source": [
    "### La nationalité des hommes et des femmes"
   ]
  },
  {
   "cell_type": "code",
   "execution_count": 52,
   "id": "66a69291",
   "metadata": {},
   "outputs": [],
   "source": [
    "# Créer un data frame\n",
    "Natioh = pd.concat([nord_hf.Natioh, nord_fh.Natioh], axis=0)\n",
    "Natiof = pd.concat([nord_hf.Natiof, nord_fh.Natiof], axis=0)\n",
    "Natio = pd.concat([Natioh, Natiof], axis=1)"
   ]
  },
  {
   "cell_type": "code",
   "execution_count": 53,
   "id": "fddb33cb",
   "metadata": {},
   "outputs": [
    {
     "data": {
      "text/html": [
       "<div>\n",
       "<style scoped>\n",
       "    .dataframe tbody tr th:only-of-type {\n",
       "        vertical-align: middle;\n",
       "    }\n",
       "\n",
       "    .dataframe tbody tr th {\n",
       "        vertical-align: top;\n",
       "    }\n",
       "\n",
       "    .dataframe thead th {\n",
       "        text-align: right;\n",
       "    }\n",
       "</style>\n",
       "<table border=\"1\" class=\"dataframe\">\n",
       "  <thead>\n",
       "    <tr style=\"text-align: right;\">\n",
       "      <th></th>\n",
       "      <th>Natioh</th>\n",
       "      <th>Natiof</th>\n",
       "      <th>Homme</th>\n",
       "      <th>Femme</th>\n",
       "    </tr>\n",
       "  </thead>\n",
       "  <tbody>\n",
       "    <tr>\n",
       "      <th>1180</th>\n",
       "      <td>1</td>\n",
       "      <td>2</td>\n",
       "      <td>français</td>\n",
       "      <td>étrangère</td>\n",
       "    </tr>\n",
       "    <tr>\n",
       "      <th>1184</th>\n",
       "      <td>2</td>\n",
       "      <td>1</td>\n",
       "      <td>étranger</td>\n",
       "      <td>française</td>\n",
       "    </tr>\n",
       "    <tr>\n",
       "      <th>1185</th>\n",
       "      <td>1</td>\n",
       "      <td>2</td>\n",
       "      <td>français</td>\n",
       "      <td>étrangère</td>\n",
       "    </tr>\n",
       "    <tr>\n",
       "      <th>1186</th>\n",
       "      <td>2</td>\n",
       "      <td>1</td>\n",
       "      <td>étranger</td>\n",
       "      <td>française</td>\n",
       "    </tr>\n",
       "    <tr>\n",
       "      <th>1188</th>\n",
       "      <td>1</td>\n",
       "      <td>1</td>\n",
       "      <td>français</td>\n",
       "      <td>française</td>\n",
       "    </tr>\n",
       "    <tr>\n",
       "      <th>...</th>\n",
       "      <td>...</td>\n",
       "      <td>...</td>\n",
       "      <td>...</td>\n",
       "      <td>...</td>\n",
       "    </tr>\n",
       "    <tr>\n",
       "      <th>213045</th>\n",
       "      <td>1</td>\n",
       "      <td>1</td>\n",
       "      <td>français</td>\n",
       "      <td>française</td>\n",
       "    </tr>\n",
       "    <tr>\n",
       "      <th>213994</th>\n",
       "      <td>1</td>\n",
       "      <td>1</td>\n",
       "      <td>français</td>\n",
       "      <td>française</td>\n",
       "    </tr>\n",
       "    <tr>\n",
       "      <th>223910</th>\n",
       "      <td>1</td>\n",
       "      <td>1</td>\n",
       "      <td>français</td>\n",
       "      <td>française</td>\n",
       "    </tr>\n",
       "    <tr>\n",
       "      <th>225383</th>\n",
       "      <td>1</td>\n",
       "      <td>1</td>\n",
       "      <td>français</td>\n",
       "      <td>française</td>\n",
       "    </tr>\n",
       "    <tr>\n",
       "      <th>227889</th>\n",
       "      <td>1</td>\n",
       "      <td>1</td>\n",
       "      <td>français</td>\n",
       "      <td>française</td>\n",
       "    </tr>\n",
       "  </tbody>\n",
       "</table>\n",
       "<p>9011 rows × 4 columns</p>\n",
       "</div>"
      ],
      "text/plain": [
       "        Natioh  Natiof     Homme      Femme\n",
       "1180         1       2  français  étrangère\n",
       "1184         2       1  étranger  française\n",
       "1185         1       2  français  étrangère\n",
       "1186         2       1  étranger  française\n",
       "1188         1       1  français  française\n",
       "...        ...     ...       ...        ...\n",
       "213045       1       1  français  française\n",
       "213994       1       1  français  française\n",
       "223910       1       1  français  française\n",
       "225383       1       1  français  française\n",
       "227889       1       1  français  française\n",
       "\n",
       "[9011 rows x 4 columns]"
      ]
     },
     "execution_count": 53,
     "metadata": {},
     "output_type": "execute_result"
    }
   ],
   "source": [
    "# Recodage \n",
    "def natioh(Natioh):\n",
    "    if Natioh == 1:\n",
    "        return 'français'\n",
    "    else:\n",
    "        return 'étranger'\n",
    "Natio['Homme'] = Natio['Natioh'].map(natioh)\n",
    "\n",
    "def natiof(Natiof):\n",
    "    if Natiof == 1:\n",
    "        return 'française'\n",
    "    else:\n",
    "        return 'étrangère'\n",
    "Natio['Femme'] = Natio['Natiof'].map(natiof)\n",
    "Natio"
   ]
  },
  {
   "cell_type": "code",
   "execution_count": 54,
   "id": "1abf13ff",
   "metadata": {},
   "outputs": [
    {
     "data": {
      "text/plain": [
       "Couple français                     7666\n",
       "Femme française - Homme étranger     672\n",
       "Homme français - Femme étrangère     446\n",
       "Couple étranger                      227\n",
       "Name: categorie, dtype: int64"
      ]
     },
     "execution_count": 54,
     "metadata": {},
     "output_type": "execute_result"
    }
   ],
   "source": [
    "def categorie(Natioh, Natiof):\n",
    "    if (Natioh == 1) and (Natiof == 1):\n",
    "        return 'Couple français'\n",
    "    elif (Natioh == 1) and (Natiof == 2):\n",
    "        return 'Homme français - Femme étrangère'\n",
    "    elif (Natioh == 2) and (Natiof == 1):\n",
    "        return 'Femme française - Homme étranger'\n",
    "    else:\n",
    "        return 'Couple étranger'\n",
    "Natio['categorie'] = Natio.apply(lambda x : categorie(x['Natioh'], x['Natiof']), axis=1)\n",
    "cat = Natio['categorie'].value_counts()\n",
    "cat"
   ]
  },
  {
   "cell_type": "code",
   "execution_count": 55,
   "id": "d7d66f07",
   "metadata": {},
   "outputs": [
    {
     "data": {
      "text/plain": [
       "<function matplotlib.pyplot.show(close=None, block=None)>"
      ]
     },
     "execution_count": 55,
     "metadata": {},
     "output_type": "execute_result"
    },
    {
     "data": {
      "image/png": "[encoded data removed]",
      "text/plain": [
       "<Figure size 432x288 with 1 Axes>"
      ]
     },
     "metadata": {},
     "output_type": "display_data"
    }
   ],
   "source": [
    "plt.pie(cat.array, labels = cat.index, normalize = True,\n",
    "           autopct = lambda cat: str(round(cat, 1)) + ' %',\n",
    "           pctdistance = 1.2, labeldistance = 1.5)\n",
    "plt.show"
   ]
  },
  {
   "cell_type": "code",
   "execution_count": 56,
   "id": "38699f63",
   "metadata": {},
   "outputs": [
    {
     "data": {
      "text/html": [
       "<div>\n",
       "<style scoped>\n",
       "    .dataframe tbody tr th:only-of-type {\n",
       "        vertical-align: middle;\n",
       "    }\n",
       "\n",
       "    .dataframe tbody tr th {\n",
       "        vertical-align: top;\n",
       "    }\n",
       "\n",
       "    .dataframe thead th {\n",
       "        text-align: right;\n",
       "    }\n",
       "</style>\n",
       "<table border=\"1\" class=\"dataframe\">\n",
       "  <thead>\n",
       "    <tr style=\"text-align: right;\">\n",
       "      <th>Femme</th>\n",
       "      <th>française</th>\n",
       "      <th>étrangère</th>\n",
       "      <th>All</th>\n",
       "    </tr>\n",
       "    <tr>\n",
       "      <th>Homme</th>\n",
       "      <th></th>\n",
       "      <th></th>\n",
       "      <th></th>\n",
       "    </tr>\n",
       "  </thead>\n",
       "  <tbody>\n",
       "    <tr>\n",
       "      <th>français</th>\n",
       "      <td>7666</td>\n",
       "      <td>446</td>\n",
       "      <td>8112</td>\n",
       "    </tr>\n",
       "    <tr>\n",
       "      <th>étranger</th>\n",
       "      <td>672</td>\n",
       "      <td>227</td>\n",
       "      <td>899</td>\n",
       "    </tr>\n",
       "    <tr>\n",
       "      <th>All</th>\n",
       "      <td>8338</td>\n",
       "      <td>673</td>\n",
       "      <td>9011</td>\n",
       "    </tr>\n",
       "  </tbody>\n",
       "</table>\n",
       "</div>"
      ],
      "text/plain": [
       "Femme     française  étrangère   All\n",
       "Homme                               \n",
       "français       7666        446  8112\n",
       "étranger        672        227   899\n",
       "All            8338        673  9011"
      ]
     },
     "execution_count": 56,
     "metadata": {},
     "output_type": "execute_result"
    }
   ],
   "source": [
    "pd.crosstab(Natio['Homme'],Natio['Femme'], margins=True)"
   ]
  },
  {
   "cell_type": "markdown",
   "id": "c8d6ebc6",
   "metadata": {},
   "source": [
    "### Département de naissance des hommes et des femmes"
   ]
  },
  {
   "cell_type": "code",
   "execution_count": 57,
   "id": "48305129",
   "metadata": {},
   "outputs": [],
   "source": [
    "# Créer un data frame\n",
    "Deph = pd.concat([nord_hf.Deph, nord_fh.Deph], axis=0)\n",
    "Depf = pd.concat([nord_hf.Depf, nord_fh.Depf], axis=0)\n",
    "depdom = pd.concat([nord_hf.depdom, nord_fh.depdom], axis=0)\n",
    "enfant = pd.concat([nord_hf.enfant, nord_fh.enfant], axis=0)\n",
    "Dep = pd.concat([Deph, Depf, depdom, enfant], axis=1)"
   ]
  },
  {
   "cell_type": "code",
   "execution_count": 58,
   "id": "82422b1d",
   "metadata": {},
   "outputs": [
    {
     "name": "stdout",
     "output_type": "stream",
     "text": [
      "<class 'pandas.core.frame.DataFrame'>\n",
      "Int64Index: 9011 entries, 1180 to 227889\n",
      "Data columns (total 4 columns):\n",
      " #   Column  Non-Null Count  Dtype \n",
      "---  ------  --------------  ----- \n",
      " 0   Deph    9011 non-null   object\n",
      " 1   Depf    9011 non-null   object\n",
      " 2   depdom  9011 non-null   object\n",
      " 3   enfant  9011 non-null   int64 \n",
      "dtypes: int64(1), object(3)\n",
      "memory usage: 352.0+ KB\n"
     ]
    }
   ],
   "source": [
    "Dep.info()"
   ]
  },
  {
   "cell_type": "code",
   "execution_count": 59,
   "id": "4676353a",
   "metadata": {},
   "outputs": [],
   "source": [
    "# Recodage en 4 catégories\n",
    "def depnai(Deph, Depf):\n",
    "    if (Deph == '59') and (Depf == '59'):\n",
    "        return 'Couple du Nord'\n",
    "    elif (Deph == '59') and (Depf != '59'):\n",
    "        return 'Homme du Nord - Femme de loin'\n",
    "    elif (Deph != '59') and (Depf == '59'):\n",
    "        return 'Femme du Nord - Homme de loin'\n",
    "    else:\n",
    "        return 'Couple de loin'\n",
    "Dep['Catégorie'] = Dep.apply(lambda x : depnai(x['Deph'], x['Depf']), axis=1)"
   ]
  },
  {
   "cell_type": "code",
   "execution_count": 60,
   "id": "5375b649",
   "metadata": {},
   "outputs": [
    {
     "data": {
      "text/plain": [
       "<function matplotlib.pyplot.show(close=None, block=None)>"
      ]
     },
     "execution_count": 60,
     "metadata": {},
     "output_type": "execute_result"
    },
    {
     "data": {
      "image/png": "[encoded data removed]",
      "text/plain": [
       "<Figure size 432x288 with 1 Axes>"
      ]
     },
     "metadata": {},
     "output_type": "display_data"
    }
   ],
   "source": [
    "nai = Dep['Catégorie'].value_counts()\n",
    "plt.pie(nai.array, labels = nai.index, normalize = True,\n",
    "           autopct = lambda nai: str(round(nai, 1)) + ' %',\n",
    "           pctdistance = 0.7, labeldistance = 1.2)\n",
    "plt.show"
   ]
  },
  {
   "cell_type": "code",
   "execution_count": 61,
   "id": "2e14d3bb",
   "metadata": {},
   "outputs": [],
   "source": [
    "def domnord(depdom):\n",
    "    if depdom == 'Nord':\n",
    "        return 1\n",
    "    else:\n",
    "        return 0\n",
    "Dep['domnord'] = nord['depdom'].map(domnord)"
   ]
  },
  {
   "cell_type": "code",
   "execution_count": 62,
   "id": "2e8b5734",
   "metadata": {
    "scrolled": true
   },
   "outputs": [
    {
     "data": {
      "text/html": [
       "<div>\n",
       "<style scoped>\n",
       "    .dataframe tbody tr th:only-of-type {\n",
       "        vertical-align: middle;\n",
       "    }\n",
       "\n",
       "    .dataframe tbody tr th {\n",
       "        vertical-align: top;\n",
       "    }\n",
       "\n",
       "    .dataframe thead th {\n",
       "        text-align: right;\n",
       "    }\n",
       "</style>\n",
       "<table border=\"1\" class=\"dataframe\">\n",
       "  <thead>\n",
       "    <tr style=\"text-align: right;\">\n",
       "      <th></th>\n",
       "      <th>Catégorie</th>\n",
       "      <th>domnord</th>\n",
       "    </tr>\n",
       "  </thead>\n",
       "  <tbody>\n",
       "    <tr>\n",
       "      <th>0</th>\n",
       "      <td>Couple de loin</td>\n",
       "      <td>91.6</td>\n",
       "    </tr>\n",
       "    <tr>\n",
       "      <th>1</th>\n",
       "      <td>Couple du Nord</td>\n",
       "      <td>96.5</td>\n",
       "    </tr>\n",
       "    <tr>\n",
       "      <th>2</th>\n",
       "      <td>Femme du Nord - Homme de loin</td>\n",
       "      <td>87.1</td>\n",
       "    </tr>\n",
       "    <tr>\n",
       "      <th>3</th>\n",
       "      <td>Homme du Nord - Femme de loin</td>\n",
       "      <td>91.4</td>\n",
       "    </tr>\n",
       "  </tbody>\n",
       "</table>\n",
       "</div>"
      ],
      "text/plain": [
       "                       Catégorie  domnord\n",
       "0                 Couple de loin     91.6\n",
       "1                 Couple du Nord     96.5\n",
       "2  Femme du Nord - Homme de loin     87.1\n",
       "3  Homme du Nord - Femme de loin     91.4"
      ]
     },
     "execution_count": 62,
     "metadata": {},
     "output_type": "execute_result"
    }
   ],
   "source": [
    "# % des couple vivant dans le Nord selon catégorie\n",
    "depcat = Dep.groupby('Catégorie', as_index=False).agg({'domnord':'mean'})\n",
    "depcat['domnord'] = round(100 * depcat['domnord'],1)\n",
    "depcat"
   ]
  },
  {
   "cell_type": "code",
   "execution_count": 63,
   "id": "34359dfc",
   "metadata": {},
   "outputs": [],
   "source": [
    "depcat = depcat.rename(columns={'domnord': '% vit dans le Nord'})"
   ]
  },
  {
   "cell_type": "code",
   "execution_count": 64,
   "id": "b4f12306",
   "metadata": {},
   "outputs": [
    {
     "data": {
      "text/html": [
       "<div>\n",
       "<style scoped>\n",
       "    .dataframe tbody tr th:only-of-type {\n",
       "        vertical-align: middle;\n",
       "    }\n",
       "\n",
       "    .dataframe tbody tr th {\n",
       "        vertical-align: top;\n",
       "    }\n",
       "\n",
       "    .dataframe thead th {\n",
       "        text-align: right;\n",
       "    }\n",
       "</style>\n",
       "<table border=\"1\" class=\"dataframe\">\n",
       "  <thead>\n",
       "    <tr style=\"text-align: right;\">\n",
       "      <th></th>\n",
       "      <th>Catégorie</th>\n",
       "      <th>% vit dans le Nord</th>\n",
       "    </tr>\n",
       "  </thead>\n",
       "  <tbody>\n",
       "    <tr>\n",
       "      <th>0</th>\n",
       "      <td>Couple de loin</td>\n",
       "      <td>91.6</td>\n",
       "    </tr>\n",
       "    <tr>\n",
       "      <th>1</th>\n",
       "      <td>Couple du Nord</td>\n",
       "      <td>96.5</td>\n",
       "    </tr>\n",
       "    <tr>\n",
       "      <th>2</th>\n",
       "      <td>Femme du Nord - Homme de loin</td>\n",
       "      <td>87.1</td>\n",
       "    </tr>\n",
       "    <tr>\n",
       "      <th>3</th>\n",
       "      <td>Homme du Nord - Femme de loin</td>\n",
       "      <td>91.4</td>\n",
       "    </tr>\n",
       "  </tbody>\n",
       "</table>\n",
       "</div>"
      ],
      "text/plain": [
       "                       Catégorie  % vit dans le Nord\n",
       "0                 Couple de loin                91.6\n",
       "1                 Couple du Nord                96.5\n",
       "2  Femme du Nord - Homme de loin                87.1\n",
       "3  Homme du Nord - Femme de loin                91.4"
      ]
     },
     "execution_count": 64,
     "metadata": {},
     "output_type": "execute_result"
    }
   ],
   "source": [
    "depcat"
   ]
  },
  {
   "cell_type": "code",
   "execution_count": 65,
   "id": "1dccac14",
   "metadata": {},
   "outputs": [],
   "source": [
    "# Dataframe sur les couples vivant dans le Nord\n",
    "depnord = Dep[Dep['depdom']=='Nord']"
   ]
  },
  {
   "cell_type": "code",
   "execution_count": 66,
   "id": "25ccf448",
   "metadata": {},
   "outputs": [
    {
     "data": {
      "text/html": [
       "<div>\n",
       "<style scoped>\n",
       "    .dataframe tbody tr th:only-of-type {\n",
       "        vertical-align: middle;\n",
       "    }\n",
       "\n",
       "    .dataframe tbody tr th {\n",
       "        vertical-align: top;\n",
       "    }\n",
       "\n",
       "    .dataframe thead th {\n",
       "        text-align: right;\n",
       "    }\n",
       "</style>\n",
       "<table border=\"1\" class=\"dataframe\">\n",
       "  <thead>\n",
       "    <tr style=\"text-align: right;\">\n",
       "      <th></th>\n",
       "      <th>Catégorie</th>\n",
       "      <th>% ayant des enfants</th>\n",
       "    </tr>\n",
       "  </thead>\n",
       "  <tbody>\n",
       "    <tr>\n",
       "      <th>1</th>\n",
       "      <td>Couple du Nord</td>\n",
       "      <td>36.7</td>\n",
       "    </tr>\n",
       "    <tr>\n",
       "      <th>3</th>\n",
       "      <td>Homme du Nord - Femme de loin</td>\n",
       "      <td>28.3</td>\n",
       "    </tr>\n",
       "    <tr>\n",
       "      <th>2</th>\n",
       "      <td>Femme du Nord - Homme de loin</td>\n",
       "      <td>23.4</td>\n",
       "    </tr>\n",
       "    <tr>\n",
       "      <th>0</th>\n",
       "      <td>Couple de loin</td>\n",
       "      <td>21.7</td>\n",
       "    </tr>\n",
       "  </tbody>\n",
       "</table>\n",
       "</div>"
      ],
      "text/plain": [
       "                       Catégorie  % ayant des enfants\n",
       "1                 Couple du Nord                 36.7\n",
       "3  Homme du Nord - Femme de loin                 28.3\n",
       "2  Femme du Nord - Homme de loin                 23.4\n",
       "0                 Couple de loin                 21.7"
      ]
     },
     "execution_count": 66,
     "metadata": {},
     "output_type": "execute_result"
    }
   ],
   "source": [
    "# % des couple vivant dans le Nord et ayant enfant ensemble selon catégorie\n",
    "depenf = depnord.groupby('Catégorie', as_index=False).agg({'enfant':'mean'})\n",
    "depenf['enfant'] = round(100 * depenf['enfant'],1)\n",
    "\n",
    "depenf = depenf.rename(columns={'enfant': '% ayant des enfants'})\n",
    "depenf.reindex([1, 3, 2, 0])"
   ]
  }
 ],
 "metadata": {
  "kernelspec": {
   "display_name": "Python 3 (ipykernel)",
   "language": "python",
   "name": "python3"
  },
  "language_info": {
   "codemirror_mode": {
    "name": "ipython",
    "version": 3
   },
   "file_extension": ".py",
   "mimetype": "text/x-python",
   "name": "python",
   "nbconvert_exporter": "python",
   "pygments_lexer": "ipython3",
   "version": "3.9.11"
  }
 },
 "nbformat": 4,
 "nbformat_minor": 5
}
