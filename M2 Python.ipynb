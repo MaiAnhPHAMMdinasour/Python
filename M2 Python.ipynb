{
 "cells": [
  {
   "cell_type": "markdown",
   "id": "9589f131",
   "metadata": {},
   "source": [
    "Packages Python : Beautiful soup, NLTK, Tensorflow (algorithm), sklearn, fast API crée des API, pandas  "
   ]
  },
  {
   "cell_type": "markdown",
   "id": "70a3c3c1",
   "metadata": {},
   "source": [
    "# S1 : RAPPEL M1"
   ]
  },
  {
   "cell_type": "markdown",
   "id": "d10ba1cd",
   "metadata": {},
   "source": [
    "## If - else et For i in range"
   ]
  },
  {
   "cell_type": "code",
   "execution_count": 1,
   "id": "a881b04b",
   "metadata": {},
   "outputs": [
    {
     "data": {
      "text/plain": [
       "1"
      ]
     },
     "execution_count": 1,
     "metadata": {},
     "output_type": "execute_result"
    }
   ],
   "source": [
    "# Exercice 3 TP1 - si a est pair ou impair\n",
    "a = 13\n",
    "a%2 "
   ]
  },
  {
   "cell_type": "code",
   "execution_count": 2,
   "id": "829ed6d5",
   "metadata": {},
   "outputs": [
    {
     "name": "stdout",
     "output_type": "stream",
     "text": [
      "a est impair\n"
     ]
    }
   ],
   "source": [
    "# Si a est pair (ou impair)\n",
    "# 1 => True\n",
    "# 0 => False\n",
    "\n",
    "if a%2 ==0 : \n",
    "    print ('a est pair')\n",
    "else : \n",
    "    print ('a est impair')"
   ]
  },
  {
   "cell_type": "code",
   "execution_count": 3,
   "id": "92abc4a7",
   "metadata": {},
   "outputs": [
    {
     "data": {
      "text/plain": [
       "False"
      ]
     },
     "execution_count": 3,
     "metadata": {},
     "output_type": "execute_result"
    }
   ],
   "source": [
    "# Si un nombre est < 5\n",
    "a<5"
   ]
  },
  {
   "cell_type": "code",
   "execution_count": 4,
   "id": "bf790e13",
   "metadata": {},
   "outputs": [
    {
     "name": "stdout",
     "output_type": "stream",
     "text": [
      "a est égal ou supérieur à 5\n"
     ]
    }
   ],
   "source": [
    "a = 8\n",
    "if a<5 ==True :\n",
    "    print ('a est inférieur à 5')\n",
    "else : \n",
    "    print ('a est égal ou supérieur à 5')"
   ]
  },
  {
   "cell_type": "code",
   "execution_count": 5,
   "id": "b917067b",
   "metadata": {},
   "outputs": [
    {
     "name": "stdout",
     "output_type": "stream",
     "text": [
      "a est égal 5\n"
     ]
    }
   ],
   "source": [
    "a = 5\n",
    "if a<5 : \n",
    "    print ('a est inférieur à 5')\n",
    "elif a>5 : \n",
    "    print ('a est supérieur à 5')\n",
    "else : \n",
    "    print ('a est égal 5')"
   ]
  },
  {
   "cell_type": "code",
   "execution_count": 6,
   "id": "c0778371",
   "metadata": {},
   "outputs": [],
   "source": [
    "def is_odd(a: int):\n",
    "    return a%2"
   ]
  },
  {
   "cell_type": "code",
   "execution_count": 7,
   "id": "f888c918",
   "metadata": {},
   "outputs": [
    {
     "data": {
      "text/plain": [
       "0"
      ]
     },
     "execution_count": 7,
     "metadata": {},
     "output_type": "execute_result"
    }
   ],
   "source": [
    "is_odd(6)"
   ]
  },
  {
   "cell_type": "code",
   "execution_count": 8,
   "id": "88e272fe",
   "metadata": {},
   "outputs": [
    {
     "data": {
      "text/plain": [
       "[2, 4, 6, 8, 10]"
      ]
     },
     "execution_count": 8,
     "metadata": {},
     "output_type": "execute_result"
    }
   ],
   "source": [
    "# Fonctionnement de list\n",
    "# Créer les factorielles, n! = 1*2*3*...*n\n",
    "list(range(2,11,2))"
   ]
  },
  {
   "cell_type": "code",
   "execution_count": 9,
   "id": "862667aa",
   "metadata": {},
   "outputs": [
    {
     "data": {
      "text/plain": [
       "[1, 2, 3, 4, 5, 6, 7, 8, 9, 10]"
      ]
     },
     "execution_count": 9,
     "metadata": {},
     "output_type": "execute_result"
    }
   ],
   "source": [
    "list(range(1,11))"
   ]
  },
  {
   "cell_type": "code",
   "execution_count": 10,
   "id": "f30e9f97",
   "metadata": {},
   "outputs": [
    {
     "name": "stdout",
     "output_type": "stream",
     "text": [
      "1 ! = 1\n",
      "2 ! = 2\n",
      "3 ! = 6\n",
      "4 ! = 24\n",
      "5 ! = 120\n",
      "6 ! = 720\n",
      "7 ! = 5040\n",
      "8 ! = 40320\n",
      "9 ! = 362880\n",
      "10 ! = 3628800\n"
     ]
    }
   ],
   "source": [
    "k=1\n",
    "for i in range(1,11) :\n",
    "    k=k*i\n",
    "    print (i,'! =', k)"
   ]
  },
  {
   "cell_type": "code",
   "execution_count": 11,
   "id": "ddfb0c68",
   "metadata": {},
   "outputs": [],
   "source": [
    "# Correction\n",
    "def factorial(n):\n",
    "    result = 1\n",
    "    for i in range(1,n+1):\n",
    "        result = result * i\n",
    "    return result"
   ]
  },
  {
   "cell_type": "code",
   "execution_count": 12,
   "id": "31855988",
   "metadata": {},
   "outputs": [
    {
     "data": {
      "text/plain": [
       "720"
      ]
     },
     "execution_count": 12,
     "metadata": {},
     "output_type": "execute_result"
    }
   ],
   "source": [
    "factorial(6)"
   ]
  },
  {
   "cell_type": "markdown",
   "id": "cde651e4",
   "metadata": {},
   "source": [
    "## Manipulation de list"
   ]
  },
  {
   "cell_type": "code",
   "execution_count": 13,
   "id": "c7d70acc",
   "metadata": {},
   "outputs": [
    {
     "name": "stdout",
     "output_type": "stream",
     "text": [
      "[1, 'hello', 54]\n"
     ]
    }
   ],
   "source": [
    "l = [1, \"hello\", 54]\n",
    "print(l)"
   ]
  },
  {
   "cell_type": "code",
   "execution_count": 14,
   "id": "bcc208c0",
   "metadata": {},
   "outputs": [
    {
     "name": "stdout",
     "output_type": "stream",
     "text": [
      "[1, 'hello', 54, '2345']\n"
     ]
    }
   ],
   "source": [
    "l.append('2345')\n",
    "print(l)"
   ]
  },
  {
   "cell_type": "code",
   "execution_count": 15,
   "id": "9ece11e0",
   "metadata": {},
   "outputs": [
    {
     "data": {
      "text/plain": [
       "['hello', '2345']"
      ]
     },
     "execution_count": 15,
     "metadata": {},
     "output_type": "execute_result"
    }
   ],
   "source": [
    "l[1:5:2]"
   ]
  },
  {
   "cell_type": "code",
   "execution_count": 16,
   "id": "5bde8a6b",
   "metadata": {},
   "outputs": [
    {
     "data": {
      "text/plain": [
       "[1, 2, 3, 4, 5, 6, 7, 8, 9, 10]"
      ]
     },
     "execution_count": 16,
     "metadata": {},
     "output_type": "execute_result"
    }
   ],
   "source": [
    "# créez la liste des nombres entiers de 1 à 10\n",
    "une_liste = list(range(1,11))\n",
    "une_liste"
   ]
  },
  {
   "cell_type": "code",
   "execution_count": 18,
   "id": "5627525e",
   "metadata": {},
   "outputs": [
    {
     "data": {
      "text/plain": [
       "[2, 4, 6, 8, 10]"
      ]
     },
     "execution_count": 18,
     "metadata": {},
     "output_type": "execute_result"
    }
   ],
   "source": [
    "# afficher un élement sur 2 de la liste\n",
    "une_liste[1::2]"
   ]
  },
  {
   "cell_type": "code",
   "execution_count": 19,
   "id": "7ebd8290",
   "metadata": {},
   "outputs": [
    {
     "data": {
      "text/plain": [
       "[10, 9, 8, 7, 6, 5, 4, 3, 2, 1]"
      ]
     },
     "execution_count": 19,
     "metadata": {},
     "output_type": "execute_result"
    }
   ],
   "source": [
    "# liste inversée\n",
    "une_liste[::-1]"
   ]
  },
  {
   "cell_type": "code",
   "execution_count": 20,
   "id": "d225b964",
   "metadata": {},
   "outputs": [
    {
     "name": "stdout",
     "output_type": "stream",
     "text": [
      "[1, 2, 3, 4, 5, 6, 7, 8, 9, 10, 11, 12, 13, 14, 15, 16, 17, 18, 19, 20, 21, 22, 23, 24, 25, 26, 27, 28, 29, 30, 31, 32, 33, 34, 35, 36, 37, 38, 39, 40, 41, 42, 43, 44, 45, 46, 47, 48, 49, 50, 51, 52, 53, 54, 55, 56, 57, 58, 59, 60, 61, 62, 63, 64, 65, 66, 67, 68, 69, 70, 71, 72, 73, 74, 75, 76, 77, 78, 79, 80, 81, 82, 83, 84, 85, 86, 87, 88, 89, 90, 91, 92, 93, 94, 95, 96, 97, 98, 99, 100]\n"
     ]
    }
   ],
   "source": [
    "# créer une liste de nombre entiers de 1 à 100 en utilisant une boucle for et le mot clef \"append\".\n",
    "une_deuxieme_liste = []\n",
    "for i in range(1,101) :\n",
    "    une_deuxieme_liste.append(i)\n",
    "print(une_deuxieme_liste)"
   ]
  },
  {
   "cell_type": "code",
   "execution_count": 21,
   "id": "6ce923f3",
   "metadata": {
    "scrolled": true
   },
   "outputs": [
    {
     "data": {
      "text/plain": [
       "[3, 4, 5, 6, 7]"
      ]
     },
     "execution_count": 21,
     "metadata": {},
     "output_type": "execute_result"
    }
   ],
   "source": [
    "# afficher le contenu des éléments des indexes 2 à 6\n",
    "une_deuxieme_liste[2:7]"
   ]
  },
  {
   "cell_type": "markdown",
   "id": "50ba0b0f",
   "metadata": {},
   "source": [
    "## Dictionnaire"
   ]
  },
  {
   "cell_type": "code",
   "execution_count": 22,
   "id": "7a1aea37",
   "metadata": {},
   "outputs": [],
   "source": [
    "dictionnaire = {\"nom1\": \"prenom1\", \"nom2\": \"prenom2\"}"
   ]
  },
  {
   "cell_type": "code",
   "execution_count": 23,
   "id": "7517c331",
   "metadata": {},
   "outputs": [
    {
     "data": {
      "text/plain": [
       "dict_keys(['nom1', 'nom2'])"
      ]
     },
     "execution_count": 23,
     "metadata": {},
     "output_type": "execute_result"
    }
   ],
   "source": [
    "dict.keys(dictionnaire)"
   ]
  },
  {
   "cell_type": "code",
   "execution_count": 24,
   "id": "85dffe25",
   "metadata": {},
   "outputs": [
    {
     "data": {
      "text/plain": [
       "{'een': 'un', 'twee': 'deux', 'drei': 'trois'}"
      ]
     },
     "execution_count": 24,
     "metadata": {},
     "output_type": "execute_result"
    }
   ],
   "source": [
    "# Exercice 7 : Les dictionnaires\n",
    "\n",
    "# définir un dictionnaire contenant 3 couples clefs, valeurs.\n",
    "dutch = {\"een\":\"un\", \"twee\":\"deux\", \"drei\":\"trois\"}\n",
    "# afficher le dictionnaire\n",
    "dutch"
   ]
  },
  {
   "cell_type": "code",
   "execution_count": 25,
   "id": "a5b08704",
   "metadata": {},
   "outputs": [
    {
     "data": {
      "text/plain": [
       "dict_keys(['een', 'twee', 'drei'])"
      ]
     },
     "execution_count": 25,
     "metadata": {},
     "output_type": "execute_result"
    }
   ],
   "source": [
    "# afficher la liste des clefs du dictionnaire\n",
    "dict.keys(dutch)"
   ]
  },
  {
   "cell_type": "code",
   "execution_count": 26,
   "id": "9e03472f",
   "metadata": {},
   "outputs": [
    {
     "data": {
      "text/plain": [
       "dict_values(['un', 'deux', 'trois'])"
      ]
     },
     "execution_count": 26,
     "metadata": {},
     "output_type": "execute_result"
    }
   ],
   "source": [
    "dict.values(dutch)"
   ]
  },
  {
   "cell_type": "code",
   "execution_count": 24,
   "id": "39df11b4",
   "metadata": {},
   "outputs": [
    {
     "name": "stdout",
     "output_type": "stream",
     "text": [
      "('een', 'un')\n",
      "('twee', 'deux')\n",
      "('drei', 'trois')\n"
     ]
    }
   ],
   "source": [
    "for k in dutch.items():\n",
    "    print(k)"
   ]
  },
  {
   "cell_type": "markdown",
   "id": "80e130a4",
   "metadata": {},
   "source": [
    "# S2 : PACKAGE PANDAS"
   ]
  },
  {
   "cell_type": "code",
   "execution_count": 27,
   "id": "c6f7d66d",
   "metadata": {},
   "outputs": [],
   "source": [
    "# Importer des packages\n",
    "import numpy as np\n",
    "import pandas as pd"
   ]
  },
  {
   "cell_type": "markdown",
   "id": "8a77ea6a",
   "metadata": {},
   "source": [
    "## Séries pandas - pd.Series()"
   ]
  },
  {
   "cell_type": "code",
   "execution_count": 33,
   "id": "a009afed",
   "metadata": {},
   "outputs": [
    {
     "data": {
      "text/plain": [
       "0    4\n",
       "1    7\n",
       "2   -5\n",
       "3    3\n",
       "dtype: int64"
      ]
     },
     "execution_count": 33,
     "metadata": {},
     "output_type": "execute_result"
    }
   ],
   "source": [
    "# Créer 1 série : 1 dimension \n",
    "obj = pd.Series ([4,7,-5,3])\n",
    "obj"
   ]
  },
  {
   "cell_type": "code",
   "execution_count": 34,
   "id": "496cec98",
   "metadata": {},
   "outputs": [
    {
     "name": "stdout",
     "output_type": "stream",
     "text": [
      "Array: <PandasArray>\n",
      "[4, 7, -5, 3]\n",
      "Length: 4, dtype: int64\n"
     ]
    }
   ],
   "source": [
    "print(f\"Array: {obj.array}\")"
   ]
  },
  {
   "cell_type": "code",
   "execution_count": 35,
   "id": "14b13e16",
   "metadata": {},
   "outputs": [
    {
     "name": "stdout",
     "output_type": "stream",
     "text": [
      "Index: RangeIndex(start=0, stop=4, step=1)\n"
     ]
    }
   ],
   "source": [
    "print(f\"Index: {obj.index}\")"
   ]
  },
  {
   "cell_type": "code",
   "execution_count": 39,
   "id": "73d223de",
   "metadata": {},
   "outputs": [
    {
     "data": {
      "text/plain": [
       "0     True\n",
       "1     True\n",
       "2    False\n",
       "3     True\n",
       "dtype: bool"
      ]
     },
     "execution_count": 39,
     "metadata": {},
     "output_type": "execute_result"
    }
   ],
   "source": [
    "obj>0"
   ]
  },
  {
   "cell_type": "code",
   "execution_count": 40,
   "id": "cabb85ff",
   "metadata": {},
   "outputs": [
    {
     "data": {
      "text/plain": [
       "0    4\n",
       "1    7\n",
       "3    3\n",
       "dtype: int64"
      ]
     },
     "execution_count": 40,
     "metadata": {},
     "output_type": "execute_result"
    }
   ],
   "source": [
    "obj[obj>0]"
   ]
  },
  {
   "cell_type": "code",
   "execution_count": 41,
   "id": "5f563f42",
   "metadata": {},
   "outputs": [
    {
     "data": {
      "text/plain": [
       "2   -5\n",
       "dtype: int64"
      ]
     },
     "execution_count": 41,
     "metadata": {},
     "output_type": "execute_result"
    }
   ],
   "source": [
    "obj[-obj>0]"
   ]
  },
  {
   "cell_type": "code",
   "execution_count": 42,
   "id": "6617be2d",
   "metadata": {},
   "outputs": [
    {
     "data": {
      "text/plain": [
       "0     8\n",
       "1    14\n",
       "2   -10\n",
       "3     6\n",
       "dtype: int64"
      ]
     },
     "execution_count": 42,
     "metadata": {},
     "output_type": "execute_result"
    }
   ],
   "source": [
    "obj*2"
   ]
  },
  {
   "cell_type": "code",
   "execution_count": 43,
   "id": "bfb5a3f9",
   "metadata": {},
   "outputs": [
    {
     "data": {
      "text/plain": [
       "Ohio       3500\n",
       "Texas     71000\n",
       "Oregon    16000\n",
       "dtype: int64"
      ]
     },
     "execution_count": 43,
     "metadata": {},
     "output_type": "execute_result"
    }
   ],
   "source": [
    "# Créer un dictionnaire et le convertir en série\n",
    "sdata = {\"Ohio\": 3500, \"Texas\": 71000, \"Oregon\":16000}\n",
    "obj3 = pd.Series(sdata)\n",
    "obj3 "
   ]
  },
  {
   "cell_type": "code",
   "execution_count": 46,
   "id": "3e44c024",
   "metadata": {},
   "outputs": [
    {
     "data": {
      "text/plain": [
       "{'Ohio': 3500, 'Texas': 71000, 'Oregon': 16000}"
      ]
     },
     "execution_count": 46,
     "metadata": {},
     "output_type": "execute_result"
    }
   ],
   "source": [
    "# On peut reconvertir la série panda à un dictionnaire si on veut\n",
    "obj3.to_dict()"
   ]
  },
  {
   "cell_type": "markdown",
   "id": "b5a0bf13",
   "metadata": {},
   "source": [
    "## DataFrame pandas - pd.DataFrame()"
   ]
  },
  {
   "cell_type": "code",
   "execution_count": 48,
   "id": "eb428ff5",
   "metadata": {},
   "outputs": [
    {
     "data": {
      "text/html": [
       "<div>\n",
       "<style scoped>\n",
       "    .dataframe tbody tr th:only-of-type {\n",
       "        vertical-align: middle;\n",
       "    }\n",
       "\n",
       "    .dataframe tbody tr th {\n",
       "        vertical-align: top;\n",
       "    }\n",
       "\n",
       "    .dataframe thead th {\n",
       "        text-align: right;\n",
       "    }\n",
       "</style>\n",
       "<table border=\"1\" class=\"dataframe\">\n",
       "  <thead>\n",
       "    <tr style=\"text-align: right;\">\n",
       "      <th></th>\n",
       "      <th>state</th>\n",
       "      <th>year</th>\n",
       "      <th>pop</th>\n",
       "    </tr>\n",
       "  </thead>\n",
       "  <tbody>\n",
       "    <tr>\n",
       "      <th>0</th>\n",
       "      <td>Ohio</td>\n",
       "      <td>2000</td>\n",
       "      <td>1.5</td>\n",
       "    </tr>\n",
       "    <tr>\n",
       "      <th>1</th>\n",
       "      <td>Ohio</td>\n",
       "      <td>2001</td>\n",
       "      <td>1.7</td>\n",
       "    </tr>\n",
       "    <tr>\n",
       "      <th>2</th>\n",
       "      <td>Nevada</td>\n",
       "      <td>2001</td>\n",
       "      <td>3.6</td>\n",
       "    </tr>\n",
       "    <tr>\n",
       "      <th>3</th>\n",
       "      <td>Nevada</td>\n",
       "      <td>2002</td>\n",
       "      <td>2.4</td>\n",
       "    </tr>\n",
       "  </tbody>\n",
       "</table>\n",
       "</div>"
      ],
      "text/plain": [
       "    state  year  pop\n",
       "0    Ohio  2000  1.5\n",
       "1    Ohio  2001  1.7\n",
       "2  Nevada  2001  3.6\n",
       "3  Nevada  2002  2.4"
      ]
     },
     "execution_count": 48,
     "metadata": {},
     "output_type": "execute_result"
    }
   ],
   "source": [
    "# On peut définir un dictionnaire et le transformer à un dataframe\n",
    "data = {\"state\":[\"Ohio\",\"Ohio\",\"Nevada\",\"Nevada\"],\n",
    "       \"year\":[\"2000\",\"2001\",\"2001\",\"2002\"],\n",
    "       \"pop\":[1.5,1.7,3.6,2.4]} # C'est un dictionnaire\n",
    "frame = pd.DataFrame(data)\n",
    "frame # C'est un dataframe"
   ]
  },
  {
   "cell_type": "code",
   "execution_count": 51,
   "id": "3af4b1e1",
   "metadata": {},
   "outputs": [
    {
     "data": {
      "text/html": [
       "<div>\n",
       "<style scoped>\n",
       "    .dataframe tbody tr th:only-of-type {\n",
       "        vertical-align: middle;\n",
       "    }\n",
       "\n",
       "    .dataframe tbody tr th {\n",
       "        vertical-align: top;\n",
       "    }\n",
       "\n",
       "    .dataframe thead th {\n",
       "        text-align: right;\n",
       "    }\n",
       "</style>\n",
       "<table border=\"1\" class=\"dataframe\">\n",
       "  <thead>\n",
       "    <tr style=\"text-align: right;\">\n",
       "      <th></th>\n",
       "      <th>state</th>\n",
       "      <th>year</th>\n",
       "      <th>pop</th>\n",
       "    </tr>\n",
       "  </thead>\n",
       "  <tbody>\n",
       "    <tr>\n",
       "      <th>2</th>\n",
       "      <td>Nevada</td>\n",
       "      <td>2001</td>\n",
       "      <td>3.6</td>\n",
       "    </tr>\n",
       "    <tr>\n",
       "      <th>3</th>\n",
       "      <td>Nevada</td>\n",
       "      <td>2002</td>\n",
       "      <td>2.4</td>\n",
       "    </tr>\n",
       "  </tbody>\n",
       "</table>\n",
       "</div>"
      ],
      "text/plain": [
       "    state  year  pop\n",
       "2  Nevada  2001  3.6\n",
       "3  Nevada  2002  2.4"
      ]
     },
     "execution_count": 51,
     "metadata": {},
     "output_type": "execute_result"
    }
   ],
   "source": [
    "# Pour les 2 premières : frame.head(2)\n",
    "frame.tail(2) # et 2 dernières"
   ]
  },
  {
   "cell_type": "code",
   "execution_count": 52,
   "id": "f3e38fd9",
   "metadata": {},
   "outputs": [
    {
     "data": {
      "text/plain": [
       "0      Ohio\n",
       "1      Ohio\n",
       "2    Nevada\n",
       "3    Nevada\n",
       "Name: state, dtype: object"
      ]
     },
     "execution_count": 52,
     "metadata": {},
     "output_type": "execute_result"
    }
   ],
   "source": [
    "frame[\"state\"] # affichier les valeurs de la colonne \"state\""
   ]
  },
  {
   "cell_type": "code",
   "execution_count": 53,
   "id": "d712bcf8",
   "metadata": {},
   "outputs": [
    {
     "data": {
      "text/plain": [
       "0      Ohio\n",
       "1      Ohio\n",
       "2    Nevada\n",
       "3    Nevada\n",
       "Name: state, dtype: object"
      ]
     },
     "execution_count": 53,
     "metadata": {},
     "output_type": "execute_result"
    }
   ],
   "source": [
    "frame.state # ça marche aussi"
   ]
  },
  {
   "cell_type": "code",
   "execution_count": 54,
   "id": "e3b00d3a",
   "metadata": {},
   "outputs": [
    {
     "data": {
      "text/plain": [
       "pandas.core.series.Series"
      ]
     },
     "execution_count": 54,
     "metadata": {},
     "output_type": "execute_result"
    }
   ],
   "source": [
    "type(frame[\"state\"])"
   ]
  },
  {
   "cell_type": "code",
   "execution_count": 55,
   "id": "cc4f141e",
   "metadata": {},
   "outputs": [
    {
     "data": {
      "text/plain": [
       "state    Ohio\n",
       "year     2001\n",
       "pop       1.7\n",
       "Name: 1, dtype: object"
      ]
     },
     "execution_count": 55,
     "metadata": {},
     "output_type": "execute_result"
    }
   ],
   "source": [
    "frame.loc[1] # Pour afficher l'info de l'index 1, loc prend en argument un index\n",
    "# donc, si on remplace l'index par les lettres, on doit mettre iloc[1]"
   ]
  },
  {
   "cell_type": "code",
   "execution_count": 67,
   "id": "6a16b017",
   "metadata": {},
   "outputs": [
    {
     "data": {
      "text/html": [
       "<div>\n",
       "<style scoped>\n",
       "    .dataframe tbody tr th:only-of-type {\n",
       "        vertical-align: middle;\n",
       "    }\n",
       "\n",
       "    .dataframe tbody tr th {\n",
       "        vertical-align: top;\n",
       "    }\n",
       "\n",
       "    .dataframe thead th {\n",
       "        text-align: right;\n",
       "    }\n",
       "</style>\n",
       "<table border=\"1\" class=\"dataframe\">\n",
       "  <thead>\n",
       "    <tr style=\"text-align: right;\">\n",
       "      <th></th>\n",
       "      <th>state</th>\n",
       "      <th>year</th>\n",
       "      <th>pop</th>\n",
       "      <th>debt</th>\n",
       "    </tr>\n",
       "  </thead>\n",
       "  <tbody>\n",
       "    <tr>\n",
       "      <th>d</th>\n",
       "      <td>Ohio</td>\n",
       "      <td>2000</td>\n",
       "      <td>1.5</td>\n",
       "      <td>0.0</td>\n",
       "    </tr>\n",
       "    <tr>\n",
       "      <th>a</th>\n",
       "      <td>Ohio</td>\n",
       "      <td>2001</td>\n",
       "      <td>1.7</td>\n",
       "      <td>1.0</td>\n",
       "    </tr>\n",
       "    <tr>\n",
       "      <th>c</th>\n",
       "      <td>Nevada</td>\n",
       "      <td>2001</td>\n",
       "      <td>3.6</td>\n",
       "      <td>2.0</td>\n",
       "    </tr>\n",
       "    <tr>\n",
       "      <th>b</th>\n",
       "      <td>Nevada</td>\n",
       "      <td>2002</td>\n",
       "      <td>2.4</td>\n",
       "      <td>3.0</td>\n",
       "    </tr>\n",
       "  </tbody>\n",
       "</table>\n",
       "</div>"
      ],
      "text/plain": [
       "    state  year  pop  debt\n",
       "d    Ohio  2000  1.5   0.0\n",
       "a    Ohio  2001  1.7   1.0\n",
       "c  Nevada  2001  3.6   2.0\n",
       "b  Nevada  2002  2.4   3.0"
      ]
     },
     "execution_count": 67,
     "metadata": {},
     "output_type": "execute_result"
    }
   ],
   "source": [
    "# Exemple \n",
    "frame2 = frame.copy()\n",
    "frame2.index = [\"d\",\"a\",\"c\",\"b\"]\n",
    "frame2"
   ]
  },
  {
   "cell_type": "code",
   "execution_count": 63,
   "id": "5a7bee0d",
   "metadata": {},
   "outputs": [
    {
     "data": {
      "text/plain": [
       "state    Ohio\n",
       "year     2001\n",
       "pop       1.7\n",
       "debt      1.0\n",
       "Name: b, dtype: object"
      ]
     },
     "execution_count": 63,
     "metadata": {},
     "output_type": "execute_result"
    }
   ],
   "source": [
    "frame2.iloc[1]"
   ]
  },
  {
   "cell_type": "code",
   "execution_count": 59,
   "id": "046fd9c3",
   "metadata": {},
   "outputs": [
    {
     "data": {
      "text/html": [
       "<div>\n",
       "<style scoped>\n",
       "    .dataframe tbody tr th:only-of-type {\n",
       "        vertical-align: middle;\n",
       "    }\n",
       "\n",
       "    .dataframe tbody tr th {\n",
       "        vertical-align: top;\n",
       "    }\n",
       "\n",
       "    .dataframe thead th {\n",
       "        text-align: right;\n",
       "    }\n",
       "</style>\n",
       "<table border=\"1\" class=\"dataframe\">\n",
       "  <thead>\n",
       "    <tr style=\"text-align: right;\">\n",
       "      <th></th>\n",
       "      <th>state</th>\n",
       "      <th>year</th>\n",
       "      <th>pop</th>\n",
       "      <th>debt</th>\n",
       "    </tr>\n",
       "  </thead>\n",
       "  <tbody>\n",
       "    <tr>\n",
       "      <th>0</th>\n",
       "      <td>Ohio</td>\n",
       "      <td>2000</td>\n",
       "      <td>1.5</td>\n",
       "      <td>0.0</td>\n",
       "    </tr>\n",
       "    <tr>\n",
       "      <th>1</th>\n",
       "      <td>Ohio</td>\n",
       "      <td>2001</td>\n",
       "      <td>1.7</td>\n",
       "      <td>1.0</td>\n",
       "    </tr>\n",
       "    <tr>\n",
       "      <th>2</th>\n",
       "      <td>Nevada</td>\n",
       "      <td>2001</td>\n",
       "      <td>3.6</td>\n",
       "      <td>2.0</td>\n",
       "    </tr>\n",
       "    <tr>\n",
       "      <th>3</th>\n",
       "      <td>Nevada</td>\n",
       "      <td>2002</td>\n",
       "      <td>2.4</td>\n",
       "      <td>3.0</td>\n",
       "    </tr>\n",
       "  </tbody>\n",
       "</table>\n",
       "</div>"
      ],
      "text/plain": [
       "    state  year  pop  debt\n",
       "0    Ohio  2000  1.5   0.0\n",
       "1    Ohio  2001  1.7   1.0\n",
       "2  Nevada  2001  3.6   2.0\n",
       "3  Nevada  2002  2.4   3.0"
      ]
     },
     "execution_count": 59,
     "metadata": {},
     "output_type": "execute_result"
    }
   ],
   "source": [
    "frame[\"debt\"] = np.arange(4.)\n",
    "frame # ajouter une colonne avec les valeurs de 0 à 3"
   ]
  },
  {
   "cell_type": "markdown",
   "id": "25d194a1",
   "metadata": {},
   "source": [
    "## Index selection and filtering"
   ]
  },
  {
   "cell_type": "markdown",
   "id": "24db220a",
   "metadata": {},
   "source": [
    "## Sorting and Ranking"
   ]
  },
  {
   "cell_type": "code",
   "execution_count": 66,
   "id": "3c0386ec",
   "metadata": {},
   "outputs": [
    {
     "data": {
      "text/html": [
       "<div>\n",
       "<style scoped>\n",
       "    .dataframe tbody tr th:only-of-type {\n",
       "        vertical-align: middle;\n",
       "    }\n",
       "\n",
       "    .dataframe tbody tr th {\n",
       "        vertical-align: top;\n",
       "    }\n",
       "\n",
       "    .dataframe thead th {\n",
       "        text-align: right;\n",
       "    }\n",
       "</style>\n",
       "<table border=\"1\" class=\"dataframe\">\n",
       "  <thead>\n",
       "    <tr style=\"text-align: right;\">\n",
       "      <th></th>\n",
       "      <th>state</th>\n",
       "      <th>year</th>\n",
       "      <th>pop</th>\n",
       "      <th>debt</th>\n",
       "    </tr>\n",
       "  </thead>\n",
       "  <tbody>\n",
       "    <tr>\n",
       "      <th>0</th>\n",
       "      <td>Ohio</td>\n",
       "      <td>2000</td>\n",
       "      <td>1.5</td>\n",
       "      <td>0.0</td>\n",
       "    </tr>\n",
       "    <tr>\n",
       "      <th>1</th>\n",
       "      <td>Ohio</td>\n",
       "      <td>2001</td>\n",
       "      <td>1.7</td>\n",
       "      <td>1.0</td>\n",
       "    </tr>\n",
       "    <tr>\n",
       "      <th>2</th>\n",
       "      <td>Nevada</td>\n",
       "      <td>2001</td>\n",
       "      <td>3.6</td>\n",
       "      <td>2.0</td>\n",
       "    </tr>\n",
       "    <tr>\n",
       "      <th>3</th>\n",
       "      <td>Nevada</td>\n",
       "      <td>2002</td>\n",
       "      <td>2.4</td>\n",
       "      <td>3.0</td>\n",
       "    </tr>\n",
       "  </tbody>\n",
       "</table>\n",
       "</div>"
      ],
      "text/plain": [
       "    state  year  pop  debt\n",
       "0    Ohio  2000  1.5   0.0\n",
       "1    Ohio  2001  1.7   1.0\n",
       "2  Nevada  2001  3.6   2.0\n",
       "3  Nevada  2002  2.4   3.0"
      ]
     },
     "execution_count": 66,
     "metadata": {},
     "output_type": "execute_result"
    }
   ],
   "source": [
    "frame.sort_index()"
   ]
  },
  {
   "cell_type": "code",
   "execution_count": 69,
   "id": "ae76b2db",
   "metadata": {},
   "outputs": [
    {
     "data": {
      "text/html": [
       "<div>\n",
       "<style scoped>\n",
       "    .dataframe tbody tr th:only-of-type {\n",
       "        vertical-align: middle;\n",
       "    }\n",
       "\n",
       "    .dataframe tbody tr th {\n",
       "        vertical-align: top;\n",
       "    }\n",
       "\n",
       "    .dataframe thead th {\n",
       "        text-align: right;\n",
       "    }\n",
       "</style>\n",
       "<table border=\"1\" class=\"dataframe\">\n",
       "  <thead>\n",
       "    <tr style=\"text-align: right;\">\n",
       "      <th></th>\n",
       "      <th>state</th>\n",
       "      <th>year</th>\n",
       "      <th>pop</th>\n",
       "      <th>debt</th>\n",
       "    </tr>\n",
       "  </thead>\n",
       "  <tbody>\n",
       "    <tr>\n",
       "      <th>a</th>\n",
       "      <td>Ohio</td>\n",
       "      <td>2001</td>\n",
       "      <td>1.7</td>\n",
       "      <td>1.0</td>\n",
       "    </tr>\n",
       "    <tr>\n",
       "      <th>b</th>\n",
       "      <td>Nevada</td>\n",
       "      <td>2002</td>\n",
       "      <td>2.4</td>\n",
       "      <td>3.0</td>\n",
       "    </tr>\n",
       "    <tr>\n",
       "      <th>c</th>\n",
       "      <td>Nevada</td>\n",
       "      <td>2001</td>\n",
       "      <td>3.6</td>\n",
       "      <td>2.0</td>\n",
       "    </tr>\n",
       "    <tr>\n",
       "      <th>d</th>\n",
       "      <td>Ohio</td>\n",
       "      <td>2000</td>\n",
       "      <td>1.5</td>\n",
       "      <td>0.0</td>\n",
       "    </tr>\n",
       "  </tbody>\n",
       "</table>\n",
       "</div>"
      ],
      "text/plain": [
       "    state  year  pop  debt\n",
       "a    Ohio  2001  1.7   1.0\n",
       "b  Nevada  2002  2.4   3.0\n",
       "c  Nevada  2001  3.6   2.0\n",
       "d    Ohio  2000  1.5   0.0"
      ]
     },
     "execution_count": 69,
     "metadata": {},
     "output_type": "execute_result"
    }
   ],
   "source": [
    "frame2.sort_index()"
   ]
  },
  {
   "cell_type": "code",
   "execution_count": null,
   "id": "8b38c54b",
   "metadata": {},
   "outputs": [],
   "source": [
    "# https://github.com/data-corentinv/ensp-data-analysis-univ-lille/blob/main/notebooks/Getting%20Started%20with%20Pandas.ipynb"
   ]
  },
  {
   "cell_type": "code",
   "execution_count": null,
   "id": "6fcf9526",
   "metadata": {},
   "outputs": [],
   "source": []
  }
 ],
 "metadata": {
  "kernelspec": {
   "display_name": "Python 3 (ipykernel)",
   "language": "python",
   "name": "python3"
  },
  "language_info": {
   "codemirror_mode": {
    "name": "ipython",
    "version": 3
   },
   "file_extension": ".py",
   "mimetype": "text/x-python",
   "name": "python",
   "nbconvert_exporter": "python",
   "pygments_lexer": "ipython3",
   "version": "3.9.11"
  }
 },
 "nbformat": 4,
 "nbformat_minor": 5
}
